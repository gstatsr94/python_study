{
 "cells": [
  {
   "cell_type": "markdown",
   "metadata": {},
   "source": [
    "# Chapter 03-05\n",
    "## 루프의 응용"
   ]
  },
  {
   "cell_type": "markdown",
   "metadata": {},
   "source": [
    "### while문으로 루프를 작성"
   ]
  },
  {
   "cell_type": "code",
   "execution_count": null,
   "metadata": {},
   "outputs": [],
   "source": [
    "# Fizz Buzz 문제를 푸는 프로그램\n",
    "cnt = 1                   # 루프 카운터를 초기화\n",
    "while cnt <= 100:         # 1부터 100까지 반복\n",
    "    if cnt%3 == 0 and cnt%5 == 0:\n",
    "        print(\"FizzBuzz\") # 3으로도 나누어지고 5로도 나누어 지는 것\n",
    "    elif cnt%3 == 0:\n",
    "        print(\"Fizz\")     # 3으로 나누어지는 것\n",
    "    elif cnt%5 == 0:\n",
    "        print(\"Buzz\")     # 5로 나누어지는 것\n",
    "    else:\n",
    "        print(cnt)        # 값의 표시\n",
    "    cnt = cnt+1           # 카운터를 1씩 증가"
   ]
  },
  {
   "cell_type": "markdown",
   "metadata": {},
   "source": [
    "### break문과 continue문을 사용한 루프의 제어"
   ]
  },
  {
   "cell_type": "code",
   "execution_count": null,
   "metadata": {},
   "outputs": [],
   "source": [
    "# 가위, 바위, 보 프로그램\n",
    "from random import randint              # 난수를 발생하는 함수를 import 함\n",
    "hands = {0:\"가위\", 1:\"바위\", 2:\"보\"}       # 가위, 바위, 보의 수\n",
    "# 승패의 규칙\n",
    "rules = {(0, 0):\"비김\", (0, 1):\"승\", (0, 2):\"패\",   \n",
    "         (1, 0):\"패\", (1, 1):\"비김\", (1, 2):\"승\",\n",
    "         (2, 0):\"승\", (2, 1):\"패\", (2, 2):\"비김\"}\n",
    "\n",
    "while True:\n",
    "    # 가위, 바위, 보의 루프\n",
    "    pc_hand = randint(0, 2)             # 난수로 수를 결정\n",
    "    user_hand_str = input(\"0:가위 1:바위 2:보 3:종료\")\n",
    "    if user_hand_str == \"3\":\n",
    "        # 종료값이 입력되면 루프를 빠져나감\n",
    "        break\n",
    "    if user_hand_str not in (\"0\", \"1\", \"2\"):\n",
    "        # 부정한 입력의 경우 루프의 앞으로 되돌아감\n",
    "        continue\n",
    "    user_hand = int(user_hand_str)     # 사용자의 수를 값으로 변환\n",
    "    # 수의 표시\n",
    "    print(\"당신:\"+hands[user_hand]+\", 컴퓨터:\"+hands[pc_hand])\n",
    "    # 승패의 표시\n",
    "    print(rules[(user_hand, pc_hand)])"
   ]
  },
  {
   "cell_type": "markdown",
   "metadata": {},
   "source": [
    "### 루프의 else"
   ]
  },
  {
   "cell_type": "code",
   "execution_count": null,
   "metadata": {},
   "outputs": [],
   "source": [
    "# for문과 else문의 조합\n",
    "# 소수를 조사 프로그램\n",
    "# else를 사용하여 소수의 경우에도 결과보기\n",
    "a_num = 59                   # 소수인지 아닌지를 조사할 수\n",
    "for num in range(2, a_num):  # 2부터 num-1까지 반복\n",
    "    if a_num % num == 0:     # a_num이 num으로 나누어지는가\n",
    "        print(a_num, \"은(는) 소수가 아닙니다\")\n",
    "        break\n",
    "else:\n",
    "    # break문을 한 번도 거치지 않고 루프가 종료\n",
    "    print(a_num, \"은(는) 소수가 아닙니다\")"
   ]
  },
  {
   "cell_type": "code",
   "execution_count": null,
   "metadata": {},
   "outputs": [],
   "source": []
  }
 ],
 "metadata": {
  "kernelspec": {
   "display_name": "Python 3",
   "language": "python",
   "name": "python3"
  },
  "language_info": {
   "codemirror_mode": {
    "name": "ipython",
    "version": 3
   },
   "file_extension": ".py",
   "mimetype": "text/x-python",
   "name": "python",
   "nbconvert_exporter": "python",
   "pygments_lexer": "ipython3",
   "version": "3.6.4"
  }
 },
 "nbformat": 4,
 "nbformat_minor": 1
}
