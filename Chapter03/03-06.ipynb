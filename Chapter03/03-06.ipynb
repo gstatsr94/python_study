{
 "cells": [
  {
   "cell_type": "markdown",
   "metadata": {},
   "source": [
    "# Chapter 03-06\n",
    "## 함수의 응용"
   ]
  },
  {
   "cell_type": "code",
   "execution_count": null,
   "metadata": {},
   "outputs": [],
   "source": [
    "# int() 함수의 예\n",
    "# 함수 호출, 인수, 반환 복습\n",
    "int(\"101010\", 2)       # 이진수 해당 문자열을 숫자로 변환"
   ]
  },
  {
   "cell_type": "code",
   "execution_count": null,
   "metadata": {},
   "outputs": [],
   "source": [
    "# 두 번째 인수를 지정하지 않을 경우 묵시적으로 10으로 간주\n",
    "int(\"101010\")"
   ]
  },
  {
   "cell_type": "markdown",
   "metadata": {},
   "source": [
    "### 함수에 디폴트 인수를 정의"
   ]
  },
  {
   "cell_type": "code",
   "execution_count": null,
   "metadata": {},
   "outputs": [],
   "source": [
    "def fizzbuzz(count=100, fizzmod=3, buzzmod=5):\n",
    "    \"\"\"\n",
    "    FizzBuzz 문제를 푸는 함수\n",
    "    반복 횟수, Fizz/Buzz를 표시하는 조건을 변경할 수 있다\n",
    "    (이것은 docstring 문자열입니다)\n",
    "    \"\"\"\n",
    "    for cnt in range(1, count+1):             # 카운트 반복\n",
    "        if cnt%fizzmod == 0 and cnt%buzzmod == 0:\n",
    "            # fizzmod와 buzzmod도 딱 나누어 떨어짐\n",
    "            print(\"FizzBuzz\")\n",
    "        elif cnt%fizzmod == 0:\n",
    "            # fizzmod로 딱 나누어 떨어짐\n",
    "            print(\"Fizz\")\n",
    "        elif cnt%buzzmod == 0:\n",
    "            # buzzmod로 딱 나누어 떨어짐\n",
    "            print(\"Buzz\")\n",
    "        else:\n",
    "            # 값을 표시\n",
    "            print(cnt)"
   ]
  },
  {
   "cell_type": "code",
   "execution_count": null,
   "metadata": {},
   "outputs": [],
   "source": [
    "# 함수를 호출\n",
    "fizzbuzz(50, 2, 7)"
   ]
  },
  {
   "cell_type": "markdown",
   "metadata": {},
   "source": [
    "### 인수의 키워드 지정"
   ]
  },
  {
   "cell_type": "code",
   "execution_count": null,
   "metadata": {},
   "outputs": [],
   "source": [
    "# 인수의 키워드 지정\n",
    "# 키워드를 지정하여 인수의 순서를 바꿔 본다\n",
    "int(base=2, x=\"1010\")  # int(\"1010\", 2)와 같다"
   ]
  },
  {
   "cell_type": "markdown",
   "metadata": {},
   "source": [
    "### 함수와 지역 변수"
   ]
  },
  {
   "cell_type": "code",
   "execution_count": null,
   "metadata": {},
   "outputs": [],
   "source": [
    "# 함수의 밖에서 정의한 변수를 함수 내에서 사용\n",
    "local_var = 1           # 함수의 외부에서 변수를 정의\n",
    "\n",
    "def test_func(an_arg):\n",
    "    local_var = an_arg  # 함수 내부에서 같은 이름의 변수를 정의\n",
    "    print(\"test_func()의 내부 =\", local_var)\n",
    "\n",
    "test_func(200)\n",
    "print(\"test_func()의 외부 =\", local_var)"
   ]
  },
  {
   "cell_type": "code",
   "execution_count": null,
   "metadata": {},
   "outputs": [],
   "source": []
  }
 ],
 "metadata": {
  "kernelspec": {
   "display_name": "Python 3",
   "language": "python",
   "name": "python3"
  },
  "language_info": {
   "codemirror_mode": {
    "name": "ipython",
    "version": 3
   },
   "file_extension": ".py",
   "mimetype": "text/x-python",
   "name": "python",
   "nbconvert_exporter": "python",
   "pygments_lexer": "ipython3",
   "version": "3.6.4"
  }
 },
 "nbformat": 4,
 "nbformat_minor": 1
}
