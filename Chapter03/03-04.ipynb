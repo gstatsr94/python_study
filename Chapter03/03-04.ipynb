{
 "cells": [
  {
   "cell_type": "markdown",
   "metadata": {},
   "source": [
    "# Chapter 03-04\n",
    "## if문의 응용"
   ]
  },
  {
   "cell_type": "markdown",
   "metadata": {},
   "source": [
    "### 비교 연산자와 True(참), False(거짓)"
   ]
  },
  {
   "cell_type": "code",
   "execution_count": null,
   "metadata": {},
   "outputs": [],
   "source": [
    "# 비교식에서는 결과에 따라 True(참), False(거짓)가 돌아온다\n",
    "1+1 == 2          # 수식과 수치 비교 1"
   ]
  },
  {
   "cell_type": "code",
   "execution_count": null,
   "metadata": {},
   "outputs": [],
   "source": [
    "5**(4-4)+9 == 10  # 수식과 수치 비교 1"
   ]
  },
  {
   "cell_type": "code",
   "execution_count": null,
   "metadata": {},
   "outputs": [],
   "source": [
    "5 > 2             # 수치의 크고 작음 비교"
   ]
  },
  {
   "cell_type": "code",
   "execution_count": null,
   "metadata": {},
   "outputs": [],
   "source": [
    "100 == 100.0      # 정수와 부동 소수점 비교"
   ]
  },
  {
   "cell_type": "code",
   "execution_count": null,
   "metadata": {},
   "outputs": [],
   "source": [
    "\"길동\" != \"홍길동\"   # 문자열 비교"
   ]
  },
  {
   "cell_type": "code",
   "execution_count": null,
   "metadata": {},
   "outputs": [],
   "source": [
    "[1, 2, 3] == [1, 2, 3]  # 리스트와 리스트의 비교"
   ]
  },
  {
   "cell_type": "markdown",
   "metadata": {},
   "source": [
    "### 비교에 관한 메모"
   ]
  },
  {
   "cell_type": "code",
   "execution_count": null,
   "metadata": {},
   "outputs": [],
   "source": [
    "# Python(3)는 다른 형태의 비교를 실행 할 수 없다\n",
    "1 < \"2\"    # 오류가 발생"
   ]
  },
  {
   "cell_type": "code",
   "execution_count": null,
   "metadata": {},
   "outputs": [],
   "source": [
    "# 문자열을 명시적으로 숫자로 변환하여 비교하는 것이 파이썬의 방법\n",
    "1 < int(\"2\")"
   ]
  },
  {
   "cell_type": "code",
   "execution_count": null,
   "metadata": {},
   "outputs": [],
   "source": [
    "# 문자열끼리의 비교 (대소)\n",
    "\"100\" < \"200\"    # 보기 원하는 결과가 돌아오고 있는 것 같지만"
   ]
  },
  {
   "cell_type": "code",
   "execution_count": null,
   "metadata": {},
   "outputs": [],
   "source": [
    "\"100\" < \"2\"      # (내부적으로) 문자열을 숫자로 비교하는 것은 아니다"
   ]
  },
  {
   "cell_type": "markdown",
   "metadata": {},
   "source": [
    "### 복잡한 비교 – 논리연산"
   ]
  },
  {
   "cell_type": "code",
   "execution_count": null,
   "metadata": {},
   "outputs": [],
   "source": [
    "# 조건식에 논리 연산자를 사용한 예\n",
    "# 지구상에서 수평으로 쏘아올린 물체가 속도(v)에 의해\n",
    "# 어떤 행동을 하는지를 조사\n",
    "v = 30000                   # 쏘아 올리는 속도(km/h)\n",
    "if v < 28400:               # 제1 우주속도 이하\n",
    "    print(\"지구에 낙하합니다\")\n",
    "if v >= 28400 and v < 40300: # 제1 우주속도 이상이며 제2 우주속도 미만\n",
    "    print(\"달과 친구입니다\")\n",
    "if v >= 40300 and v < 60100: # 제2 우주속도 이상이며 제3 우주속도 미만\n",
    "    print(\"혹성과 같은 부류입니다\")\n",
    "if v >= 60100:               # 제3 우주속도 이상\n",
    "    print(\"알파 센타우리를 노려라\")"
   ]
  },
  {
   "cell_type": "code",
   "execution_count": null,
   "metadata": {},
   "outputs": [],
   "source": []
  }
 ],
 "metadata": {
  "kernelspec": {
   "display_name": "Python 3",
   "language": "python",
   "name": "python3"
  },
  "language_info": {
   "codemirror_mode": {
    "name": "ipython",
    "version": 3
   },
   "file_extension": ".py",
   "mimetype": "text/x-python",
   "name": "python",
   "nbconvert_exporter": "python",
   "pygments_lexer": "ipython3",
   "version": "3.6.4"
  }
 },
 "nbformat": 4,
 "nbformat_minor": 1
}
