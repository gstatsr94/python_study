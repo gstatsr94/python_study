{
 "cells": [
  {
   "cell_type": "markdown",
   "metadata": {},
   "source": [
    "# Chapter 03-02\n",
    "## set(집합)을 사용"
   ]
  },
  {
   "cell_type": "markdown",
   "metadata": {},
   "source": [
    "### set의 정의"
   ]
  },
  {
   "cell_type": "code",
   "execution_count": null,
   "metadata": {},
   "outputs": [],
   "source": [
    "# set의 정의\n",
    "dice = {1, 2, 3, 4, 5, 6}\n",
    "coin = {\"앞면\", \"뒷면\"}"
   ]
  },
  {
   "cell_type": "markdown",
   "metadata": {},
   "source": [
    "### set의 합집합 구하기"
   ]
  },
  {
   "cell_type": "code",
   "execution_count": null,
   "metadata": {},
   "outputs": [],
   "source": [
    "# 합집합의 연산\n",
    "prime = {2, 3, 5, 7, 13, 17}  # 소수의 set을 정의\n",
    "fib = {1, 1, 2, 3, 5, 8, 13}  # 피보나치수의 set을 정의\n",
    "\n",
    "prime_fib = prime | fib       # 2개의 합집합\n",
    "prime_fib                     # 얻어진 합집합을 표시"
   ]
  },
  {
   "cell_type": "markdown",
   "metadata": {},
   "source": [
    "### set의 차집합 구하기"
   ]
  },
  {
   "cell_type": "code",
   "execution_count": null,
   "metadata": {},
   "outputs": [],
   "source": [
    "# 차집합의 작성\n",
    "dice = {1, 2, 3, 4, 5, 6}      # 주사위 눈의 set을 정의\n",
    "even = {2, 4, 6, 8, 10}        # 짝수의 set을 정의\n",
    "\n",
    "odd_dice = dice - even         # 주사위의 눈과 짝수의 차집합\n",
    "odd_dice                       # 홀수만 표시"
   ]
  },
  {
   "cell_type": "markdown",
   "metadata": {},
   "source": [
    "### set의 교집합 구하기"
   ]
  },
  {
   "cell_type": "code",
   "execution_count": null,
   "metadata": {},
   "outputs": [],
   "source": [
    "# 교집합 구하기\n",
    "prefs = {\"부산\", \"충청남도\", \"전라남도\", \"경상남도\"}  # 지방명의 set을 정의\n",
    "capitals = {\"부산\", \"천안\", \"나주\", \"창원\"}        # 도청소재지의 set을 정의\n",
    "\n",
    "pref_cap = prefs & capitals       # 2개의 교집합\n",
    "pref_cap                          # 교집합의 표시"
   ]
  },
  {
   "cell_type": "markdown",
   "metadata": {},
   "source": [
    "#### set의 대상차집합 구하기"
   ]
  },
  {
   "cell_type": "code",
   "execution_count": null,
   "metadata": {},
   "outputs": [],
   "source": [
    "# 대상차집합의 작성\n",
    "prefs = {\"부산\", \"충청남도\", \"전라남도\", \"경상남도\"}  # 지방명의 set을 정의\n",
    "capitals = {\"부산\", \"천안\", \"나주\", \"창원\"}        # 도청소재지의 set을 정의\n",
    "\n",
    "pref_cap2 = prefs ^ capitals       # 2개의 대상차집합을 구함\n",
    "pref_cap2                          # 대상차집합을 표시"
   ]
  },
  {
   "cell_type": "markdown",
   "metadata": {},
   "source": [
    "### set과 리스트"
   ]
  },
  {
   "cell_type": "code",
   "execution_count": null,
   "metadata": {},
   "outputs": [],
   "source": [
    "# 리스트를 set에 변환하기\n",
    "# set을 사용하여 문자열 리스트의 중복을 제거하는\n",
    "# 문자열 리스트를 정의\n",
    "codon = ['ATG', 'GGC', 'TCC', 'AAG', 'TTC', 'TGG',\n",
    "         'GAC', 'TCC']\n",
    "s_codon = set(codon)      # 리스트를 set으로 변환\n",
    "print(len(codon), len(s_codon))    # 리스트와 set의 길이를 표시"
   ]
  },
  {
   "cell_type": "markdown",
   "metadata": {},
   "source": [
    "### set과 비교"
   ]
  },
  {
   "cell_type": "code",
   "execution_count": null,
   "metadata": {},
   "outputs": [],
   "source": [
    "# 요소의 검색과 set의 비교\n",
    "prime = {2, 3, 5, 7, 13, 17}  # 소수의 set을 정의\n",
    "fib = {1, 1, 2, 3, 5, 8, 13}  # 피보나치수의 set을 정의\n",
    "\n",
    "prime_fib = prime & fib       # 2개의 교집합을 연산\n",
    "if 13 in prime_fib:\n",
    "    print(\"13은 소수이고, 피보나치 수이기도 하다\")\n",
    "if {2, 3} <= prime_fib:\n",
    "    print(\"2, 3은 소수이고, 피보나치 수이기도 하다\")"
   ]
  },
  {
   "cell_type": "code",
   "execution_count": null,
   "metadata": {},
   "outputs": [],
   "source": []
  }
 ],
 "metadata": {
  "kernelspec": {
   "display_name": "Python 3",
   "language": "python",
   "name": "python3"
  },
  "language_info": {
   "codemirror_mode": {
    "name": "ipython",
    "version": 3
   },
   "file_extension": ".py",
   "mimetype": "text/x-python",
   "name": "python",
   "nbconvert_exporter": "python",
   "pygments_lexer": "ipython3",
   "version": "3.6.4"
  }
 },
 "nbformat": 4,
 "nbformat_minor": 1
}
