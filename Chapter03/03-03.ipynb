{
 "cells": [
  {
   "cell_type": "markdown",
   "metadata": {},
   "source": [
    "# Chapter 03-03\n",
    "## 튜플(tuple)을 사용"
   ]
  },
  {
   "cell_type": "code",
   "execution_count": null,
   "metadata": {},
   "outputs": [],
   "source": [
    "# 튜플의 정의\n",
    "month_names = (\"January\", \"February\", \"March\", \"April\",\n",
    "               \"May\", \"June\", \"July\")"
   ]
  },
  {
   "cell_type": "code",
   "execution_count": null,
   "metadata": {},
   "outputs": [],
   "source": [
    "# 튜플에서 요소를 추출\n",
    "month_names[1]   # 2월의 이름을 표시"
   ]
  },
  {
   "cell_type": "code",
   "execution_count": null,
   "metadata": {},
   "outputs": [],
   "source": [
    "# 튜플은 요소의 변경이 불가능\n",
    "month_names[0] = \"오월\""
   ]
  },
  {
   "cell_type": "code",
   "execution_count": null,
   "metadata": {},
   "outputs": [],
   "source": [
    "# 튜플의 연결\n",
    "month_names = month_names+(\"August\", \"September\", \"October\", \n",
    "                           \"November\", \"December\")\n",
    "month_names[11]   # 12월의 이름을 표시"
   ]
  },
  {
   "cell_type": "markdown",
   "metadata": {},
   "source": [
    "### 튜플의 이점"
   ]
  },
  {
   "cell_type": "code",
   "execution_count": null,
   "metadata": {},
   "outputs": [],
   "source": [
    "# 튜플을 키로 사용한 딕셔너리의 작성\n",
    "# 시/도청 소재지와 위도, 경도를 딕셔너리에 등록\n",
    "pref_capitals = {(37.27479, 127.00962):\"경기도(수원시)\",\n",
    "                 (37.88565, 127.73):\"강원도(춘천시)\",\n",
    "                 (36.48008, 127.28921):\"세종특별자치시(보람동)\""
   ]
  },
  {
   "cell_type": "code",
   "execution_count": null,
   "metadata": {},
   "outputs": [],
   "source": [
    "# 지정한 위도, 경도에 맞는 시/도청 소재지를 조사\n",
    "loc = (36.48008, 127.28921)    # 조사하고 싶은 지점의 위도, 경도\n",
    "for key in pref_capitals:      # 키로 루프\n",
    "    if loc == key:\n",
    "        # 조사하고 싶은 지점과 딕셔너리의 키가 같은가\n",
    "        print(pref_capitals[key])\n",
    "        break                 # 루프를 빠져나옴"
   ]
  },
  {
   "cell_type": "code",
   "execution_count": null,
   "metadata": {},
   "outputs": [],
   "source": [
    "# 지정한 위도, 경도에 가장 가까운 시/도청 소재지를 조사\n",
    "loc = (36.35016, 127.38571)   # 조사하고 싶은 지점의 위도, 경도\n",
    "nearest_cap = ''              # 가장 가까운 시/도청 소재지명을 보존하는 변수\n",
    "nearest_dist = 10000          # 가장 가까운 지점까지의 거리를 보존하는 변수\n",
    "for key in pref_capitals:     # 키로 루프\n",
    "    # 위도, 경도의 차를 제곱하여 거리를 계산\n",
    "    dist = (loc[0]-key[0])**2+(loc[1]-key[1])**2\n",
    "    if nearest_dist > dist:\n",
    "        # 보다 가까운 지점을 발견했으므로 변수에 대입\n",
    "        nearest_dist = dist\n",
    "        nearest_cap = pref_capitals[key]\n",
    "\n",
    "print(nearest_cap)"
   ]
  },
  {
   "cell_type": "code",
   "execution_count": null,
   "metadata": {},
   "outputs": [],
   "source": []
  }
 ],
 "metadata": {
  "kernelspec": {
   "display_name": "Python 3",
   "language": "python",
   "name": "python3"
  },
  "language_info": {
   "codemirror_mode": {
    "name": "ipython",
    "version": 3
   },
   "file_extension": ".py",
   "mimetype": "text/x-python",
   "name": "python",
   "nbconvert_exporter": "python",
   "pygments_lexer": "ipython3",
   "version": "3.6.4"
  }
 },
 "nbformat": 4,
 "nbformat_minor": 1
}
