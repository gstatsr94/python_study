{
 "cells": [
  {
   "cell_type": "markdown",
   "metadata": {},
   "source": [
    "# Chapter 03-01\n",
    "## 딕셔너리를 사용"
   ]
  },
  {
   "cell_type": "code",
   "execution_count": null,
   "metadata": {},
   "outputs": [],
   "source": [
    "# 별명, 출생지, 이름을 리스트에 저장\n",
    "purple = [\"도깨비\", \"서울\", \"김영수\"]\n",
    "\n",
    "# 인덱스를 사용하면 요소를 꺼낼 수 있지만\n",
    "# 인덱스를 기억해야 하기 때문에 조금 복잡하다\n",
    "purple[1]"
   ]
  },
  {
   "cell_type": "markdown",
   "metadata": {},
   "source": [
    "### 딕셔너리(Dictionary)란"
   ]
  },
  {
   "cell_type": "code",
   "execution_count": null,
   "metadata": {},
   "outputs": [],
   "source": [
    "# 딕셔너리의 정의\n",
    "purple = {\"별명\": \"도깨비\",\n",
    "          \"출신지\": \"서울\",\n",
    "          \"이름\": \"김영수\"}"
   ]
  },
  {
   "cell_type": "markdown",
   "metadata": {},
   "source": [
    "### 키를 사용하여 요소를 추출하기"
   ]
  },
  {
   "cell_type": "code",
   "execution_count": null,
   "metadata": {},
   "outputs": [],
   "source": [
    "# 딕셔너리로부터 값을 추출\n",
    "print(purple[\"출신지\"])"
   ]
  },
  {
   "cell_type": "code",
   "execution_count": null,
   "metadata": {},
   "outputs": [],
   "source": [
    "# 딕셔너리 purple의 내용을 확인\n",
    "# 딕셔너리의 내용을 보면\n",
    "# 순서가 정의했을 때와 달라지고 있다\n",
    "# (그러나 Python 3.5까지, 3.6부터는 순서가 보존된다)\n",
    "purple"
   ]
  },
  {
   "cell_type": "markdown",
   "metadata": {},
   "source": [
    "### 키를 사용하여 요소를 치환하기"
   ]
  },
  {
   "cell_type": "code",
   "execution_count": null,
   "metadata": {},
   "outputs": [],
   "source": [
    "# 값의 변경\n",
    "purple[\"이름\"] = \"홍길동\"\n",
    "purple            # 딕셔너리 내용을 확인"
   ]
  },
  {
   "cell_type": "markdown",
   "metadata": {},
   "source": [
    "### 새로운 키와 값을 추가하기"
   ]
  },
  {
   "cell_type": "code",
   "execution_count": null,
   "metadata": {},
   "outputs": [],
   "source": [
    "# 요소의 추가\n",
    "purple[\"생년월일\"] = \"1993년 6월 21일\"\n",
    "purple            # 딕셔너리 내용을 확인"
   ]
  },
  {
   "cell_type": "markdown",
   "metadata": {},
   "source": [
    "### 키를 사용하여 요소를 삭제"
   ]
  },
  {
   "cell_type": "code",
   "execution_count": null,
   "metadata": {},
   "outputs": [],
   "source": [
    "# 요소의 삭제\n",
    "del purple[\"별명\"]\n",
    "purple            # 딕셔너리 내용을 확인"
   ]
  },
  {
   "cell_type": "code",
   "execution_count": null,
   "metadata": {},
   "outputs": [],
   "source": [
    "# 존재하지 않는 키를 지정한 경우\n",
    "purple[\"별명\"]"
   ]
  },
  {
   "cell_type": "markdown",
   "metadata": {},
   "source": [
    "### 키의 존재 확인"
   ]
  },
  {
   "cell_type": "code",
   "execution_count": null,
   "metadata": {},
   "outputs": [],
   "source": [
    "# convert_number() 함수의 정의\n",
    "# in을 사용한 키의 존재 확인 샘플\n",
    "def convert_number(num):\n",
    "    # 아라비아 숫자와 로마 숫자의 대응표를 딕셔너리에 정의\n",
    "    roman_nums = {1:\"I\", 2:\"II\", 3:\"III\", 4:\"IV\", 5:\"V\",\n",
    "                  6:\"VI\", 7:\"VII\", 8:\"VIII\", 9:\"IX\"}\n",
    "    if num in roman_nums:\n",
    "        # 딕셔너리의 키로 인수의 정수가 존재하고 있으면\n",
    "        # 키에 대응하는 값을 리턴값으로 한다\n",
    "        return roman_nums[num]\n",
    "    else:\n",
    "        return \"[변환 불가]\""
   ]
  },
  {
   "cell_type": "code",
   "execution_count": null,
   "metadata": {},
   "outputs": [],
   "source": [
    "convert_number(3)   # 함수 호출"
   ]
  },
  {
   "cell_type": "markdown",
   "metadata": {},
   "source": [
    "### 키를 사용한 루프"
   ]
  },
  {
   "cell_type": "code",
   "execution_count": null,
   "metadata": {},
   "outputs": [],
   "source": [
    "# 딕셔너리의 키를 사용한 루프\n",
    "purple = {\"별명\": \"도깨비\",\n",
    "          \"출신지\": \"서울\",\n",
    "          \"이름\": \"홍길동\",\n",
    "          \"생년월일\": \"1993년 6월 21일\")\n",
    "for key in purple:           # 키를 전부 추출\n",
    "    print(key, purple[key])  # 키와 요소를 표시"
   ]
  },
  {
   "cell_type": "code",
   "execution_count": null,
   "metadata": {},
   "outputs": [],
   "source": []
  }
 ],
 "metadata": {
  "kernelspec": {
   "display_name": "Python 3",
   "language": "python",
   "name": "python3"
  },
  "language_info": {
   "codemirror_mode": {
    "name": "ipython",
    "version": 3
   },
   "file_extension": ".py",
   "mimetype": "text/x-python",
   "name": "python",
   "nbconvert_exporter": "python",
   "pygments_lexer": "ipython3",
   "version": "3.6.4"
  }
 },
 "nbformat": 4,
 "nbformat_minor": 1
}
