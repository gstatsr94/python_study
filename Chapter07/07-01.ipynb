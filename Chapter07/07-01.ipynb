{
 "cells": [
  {
   "cell_type": "markdown",
   "metadata": {},
   "source": [
    "# Chapter07-01\n",
    "## 클래스 상속과 고급 객체 지향 기능"
   ]
  },
  {
   "cell_type": "markdown",
   "metadata": {},
   "source": [
    "## 클래스를 상속한다"
   ]
  },
  {
   "cell_type": "code",
   "execution_count": null,
   "metadata": {},
   "outputs": [],
   "source": [
    "# Prism 클래스(기둥)을 다시 정의\n",
    "class Prism:\n",
    "    def __init__(self, width, height, depth):\n",
    "        # 초기화 메쏘드를 정의\n",
    "        self.width = width    # 인수를 속성에 할당\n",
    "        self.height = height\n",
    "        self.depth = depth\n",
    "\n",
    "    def content(self):\n",
    "        # 부피를 계산\n",
    "        return self.width*self.height*self.depth"
   ]
  },
  {
   "cell_type": "code",
   "execution_count": null,
   "metadata": {},
   "outputs": [],
   "source": [
    "# Cube 클래스의 정의\n",
    "# 슈퍼클래스를 지정, Prism을 상속한 Cube 클래스를 정의\n",
    "class Cube(Prism):    # Prism 클래스를 상속함\n",
    "    def __init__(self, length):    # __init__() 메쏘드를 오버라이드\n",
    "        # 초기화 메쏘드를 오버라이드(override)\n",
    "        self.width = self.height = self.depth = length    # 속성을 length로 초기화"
   ]
  },
  {
   "cell_type": "code",
   "execution_count": null,
   "metadata": {},
   "outputs": [],
   "source": [
    "# Cube 클래스를 사용한다\n",
    "c = Cube(20)     # length로 ‘20’을 넘김\n",
    "c.content()      # Prism 클래스의 메쏘드를 호출함"
   ]
  },
  {
   "cell_type": "markdown",
   "metadata": {},
   "source": [
    "### 초기화 메쏘드의 오버라이드"
   ]
  },
  {
   "cell_type": "code",
   "execution_count": null,
   "metadata": {},
   "outputs": [],
   "source": [
    "# Prism 클래스의 새로운 정의\n",
    "# 초기화 메소드에 인수(단위)를 추가하여 Prism 클래스를 재정의\n",
    "class Prism:\n",
    "    def __init__(self, width, height, depth, unit=\"cm\"):    # 인수를 추가\n",
    "        self.width = width\n",
    "        self.height = height\n",
    "        self.depth = depth\n",
    "        self.unit = unit             # 속성을 추가\n",
    "        print(unit)\n",
    "\n",
    "    def content(self):\n",
    "        # 부피 계산\n",
    "        return self.width*self.height*self.depth        \n",
    "\n",
    "    def unit_content(self):         # 메쏘드를 추가\n",
    "        # 체적을 구하고, 단위를 연결하여 문자열을 반환\n",
    "        return str(self.content())+self.unit  # 계산 결과에 단위를 더함          "
   ]
  },
  {
   "cell_type": "code",
   "execution_count": null,
   "metadata": {},
   "outputs": [],
   "source": [
    "# Cube 클래스를 재정의\n",
    "class Cube(Prism):\n",
    "    def __init__(self, length):\n",
    "        # 초기화 메쏘드를 오버라이드(override)\n",
    "        self.width = self.height = self.depth = length"
   ]
  },
  {
   "cell_type": "code",
   "execution_count": null,
   "metadata": {
    "scrolled": true
   },
   "outputs": [],
   "source": [
    "# 추가한 속성을 호출한다\n",
    "# Prism 클래스를 상속한 Cube 클래스에 추가한 메쏘드를 호출\n",
    "c = Cube(10)\n",
    "c.unit_content()"
   ]
  },
  {
   "cell_type": "markdown",
   "metadata": {},
   "source": [
    "### super( )를 사용한 슈퍼클래스의 취득"
   ]
  },
  {
   "cell_type": "code",
   "execution_count": null,
   "metadata": {},
   "outputs": [],
   "source": [
    "# Cube 클래스에서 super()함수를 사용한다.\n",
    "# super()를 사용하여 Cube 클래스를 재정의\n",
    "class Cube(Prism):\n",
    "    def __init__(self, length):\n",
    "        super().__init__(length, length, length)\n"
   ]
  },
  {
   "cell_type": "code",
   "execution_count": null,
   "metadata": {},
   "outputs": [],
   "source": [
    "# 추가한 속성을 호출한다\n",
    "c2 = Cube(10)\n",
    "c2.unit_content()"
   ]
  },
  {
   "cell_type": "markdown",
   "metadata": {},
   "source": [
    "### 슬롯(Slot)"
   ]
  },
  {
   "cell_type": "code",
   "execution_count": null,
   "metadata": {},
   "outputs": [],
   "source": [
    "# 슬롯에 의한 속성 제한\n",
    "# 슬롯을 가지는 클래스를 정의한다\n",
    "class Klass:                # 클래스를 정의\n",
    "    __slots__ = ['a', 'b']  # 속성을 제한\n",
    "    def __init__(self):\n",
    "        self.a = 1          # a라는 속성을 작성\n",
    "\n",
    "i = Klass()      # 인스턴스를 만듦\n",
    "i.a              # a라는 속성을 확인"
   ]
  },
  {
   "cell_type": "code",
   "execution_count": null,
   "metadata": {},
   "outputs": [],
   "source": [
    "i.b = 2          # b라는 속성을 추가\n",
    "i.b              # b라는 속성을 확인"
   ]
  },
  {
   "cell_type": "code",
   "execution_count": null,
   "metadata": {},
   "outputs": [],
   "source": [
    "i.c = 3          # c라는 속성은 추가할 수 없음"
   ]
  },
  {
   "cell_type": "markdown",
   "metadata": {},
   "source": [
    "### 프로퍼티(property)"
   ]
  },
  {
   "cell_type": "code",
   "execution_count": null,
   "metadata": {},
   "outputs": [],
   "source": [
    "# 프로퍼티의 정의\n",
    "# 프로퍼티를 정의하는 클래스를 정의한다\n",
    "class Prop:\n",
    "    def __init__(self):\n",
    "        self.__x = 0    # 속성을 만듦\n",
    "\n",
    "    def getx(self):     # 게터\n",
    "        return self.__x # 속성을 돌려줌\n",
    "\n",
    "    def setx(self, x):  # 세터\n",
    "        self.__x = x    # 속성으로 값을 넣음\n",
    "    \n",
    "    x = property(getx, setx) # 프로퍼티를 설정함\n",
    "    "
   ]
  },
  {
   "cell_type": "code",
   "execution_count": null,
   "metadata": {},
   "outputs": [],
   "source": [
    "# 프로퍼티를 사용한다\n",
    "i = Prop()     # 인스턴스를 만듦\n",
    "i.x            # 속성을 참조"
   ]
  },
  {
   "cell_type": "code",
   "execution_count": null,
   "metadata": {},
   "outputs": [],
   "source": [
    "i.x = 10       # x에 대입\n",
    "i.x            # 속성 x를 참조"
   ]
  },
  {
   "cell_type": "code",
   "execution_count": null,
   "metadata": {},
   "outputs": [],
   "source": [
    "i._Prop__x     # __x에 억지로 접근"
   ]
  },
  {
   "cell_type": "markdown",
   "metadata": {},
   "source": [
    "### 더미 데코레이터를 사용하면 보다 간편하게 속성을 정의 할 수 있다"
   ]
  },
  {
   "cell_type": "code",
   "execution_count": null,
   "metadata": {},
   "outputs": [],
   "source": [
    "# 데코레이터를 사용하여 프로퍼티를 정의하는 클래스를 정의\n",
    "\n",
    "class DecProp:\n",
    "    def __init__(self):\n",
    "        self.__x = 0\n",
    "\n",
    "    @property\n",
    "    def x(self):\n",
    "        # x = property(x.getter(x), x.setter(x)) \n",
    "        return None\n",
    "    \n",
    "    # getter 정의\n",
    "    @x.getter\n",
    "    def x(self):\n",
    "        print('this is getter, value is', self.__x)\n",
    "        return(self.__x)\n",
    "\n",
    "    # setter 정의\n",
    "    @x.setter\n",
    "    def x(self, value):\n",
    "        print('this is setter, value is', value)\n",
    "        self.__x = value\n"
   ]
  },
  {
   "cell_type": "code",
   "execution_count": null,
   "metadata": {},
   "outputs": [],
   "source": [
    "dp = DecProp()   # 데코레이터를 사용한 속성을 가진 인스턴스를 생성\n",
    "dp.x             # __init __ ()에 정의된 초기값을 표시, getter가 호출됨"
   ]
  },
  {
   "cell_type": "code",
   "execution_count": null,
   "metadata": {},
   "outputs": [],
   "source": [
    "dp.x = 1          # setter를 호출하여 값을 변경"
   ]
  },
  {
   "cell_type": "code",
   "execution_count": null,
   "metadata": {},
   "outputs": [],
   "source": [
    "dp.x              # 값이 변경되어 있는지 확인"
   ]
  },
  {
   "cell_type": "code",
   "execution_count": null,
   "metadata": {},
   "outputs": [],
   "source": []
  }
 ],
 "metadata": {
  "kernelspec": {
   "display_name": "Python 3",
   "language": "python",
   "name": "python3"
  },
  "language_info": {
   "codemirror_mode": {
    "name": "ipython",
    "version": 3
   },
   "file_extension": ".py",
   "mimetype": "text/x-python",
   "name": "python",
   "nbconvert_exporter": "python",
   "pygments_lexer": "ipython3",
   "version": "3.6.4"
  }
 },
 "nbformat": 4,
 "nbformat_minor": 1
}
