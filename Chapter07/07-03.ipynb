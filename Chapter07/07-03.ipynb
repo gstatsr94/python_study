{
 "cells": [
  {
   "cell_type": "markdown",
   "metadata": {},
   "source": [
    "# Chapter 07-03\n",
    "## 내장형을 상속하다"
   ]
  },
  {
   "cell_type": "markdown",
   "metadata": {},
   "source": [
    "## 딕셔너리형을 상속한다"
   ]
  },
  {
   "cell_type": "code",
   "execution_count": null,
   "metadata": {},
   "outputs": [],
   "source": [
    "class StrDict(dict):\n",
    "    \"\"\" 딕셔너리형을 상속해서 클래스를 만든다\n",
    "    \"\"\"\n",
    "    def __init__(self):\n",
    "        pass\n",
    "\n",
    "    def __setitem__(self, key, value):\n",
    "        \"\"\" 특수 메쏘드를 재정의(오버라이드)\n",
    "            key가 문자열이 아니면 예외를 발생\n",
    "        \"\"\"\n",
    "        if not isinstance(key, str):\n",
    "            # 키가 문자열이 아닌 경우에는 예외를 발생\n",
    "            raise ValueError(\"Key must be string.\")\n",
    "            # 슈퍼클래스의 특수 메쏘드를 호출해서 키와 값을 설정\n",
    "        dict.__setitem__(self, key, value)"
   ]
  },
  {
   "cell_type": "code",
   "execution_count": null,
   "metadata": {},
   "outputs": [],
   "source": [
    "# 딕셔너리형을 상속한 클래스를 사용한다\n",
    "d = StrDict()   # 인스턴스를 작성\n",
    "d[\"spam\"] = 1   # 딕셔너리와 같이 키를 사용해서 요소를 추가\n",
    "d[\"spam\"]       # 추가된 요소 확인"
   ]
  },
  {
   "cell_type": "code",
   "execution_count": null,
   "metadata": {},
   "outputs": [],
   "source": [
    "d[1] = 1        # 수치 키로 요소를 추가하면 오류"
   ]
  },
  {
   "cell_type": "code",
   "execution_count": null,
   "metadata": {},
   "outputs": [],
   "source": [
    "d.keys()       # 딕셔너리 메쏘드도 이용할 수 있음"
   ]
  },
  {
   "cell_type": "code",
   "execution_count": null,
   "metadata": {},
   "outputs": [],
   "source": []
  }
 ],
 "metadata": {
  "kernelspec": {
   "display_name": "Python 3",
   "language": "python",
   "name": "python3"
  },
  "language_info": {
   "codemirror_mode": {
    "name": "ipython",
    "version": 3
   },
   "file_extension": ".py",
   "mimetype": "text/x-python",
   "name": "python",
   "nbconvert_exporter": "python",
   "pygments_lexer": "ipython3",
   "version": "3.6.4"
  }
 },
 "nbformat": 4,
 "nbformat_minor": 1
}
