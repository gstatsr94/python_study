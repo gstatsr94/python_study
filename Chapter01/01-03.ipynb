{
 "cells": [
  {
   "cell_type": "markdown",
   "metadata": {},
   "source": [
    "# Chapter 01-03\n",
    "## 대화형 쉘(Interactive Shell)을 사용"
   ]
  },
  {
   "cell_type": "code",
   "execution_count": null,
   "metadata": {},
   "outputs": [],
   "source": [
    "# 대화형 Shell에서 실행되는 코드 중\n",
    "# Jupyter Notebook에서 실행할 수 있는 것을 게재하고 있습니다\n",
    "\n",
    "# 명령의 실행\n",
    "1+2+3+4"
   ]
  },
  {
   "cell_type": "code",
   "execution_count": null,
   "metadata": {},
   "outputs": [],
   "source": [
    "# 1,1,2,3 만을 사용하여 10 만들기\n",
    "(1+1)*(2+3)"
   ]
  },
  {
   "cell_type": "code",
   "execution_count": null,
   "metadata": {},
   "outputs": [],
   "source": [
    "(1+1+3)*2"
   ]
  },
  {
   "cell_type": "code",
   "execution_count": null,
   "metadata": {},
   "outputs": [],
   "source": [
    "3*(2+1)+1"
   ]
  },
  {
   "cell_type": "code",
   "execution_count": null,
   "metadata": {},
   "outputs": [],
   "source": [
    "# 변수의 사용\n",
    "red = \"나의 사랑!!\"\n",
    "red"
   ]
  },
  {
   "cell_type": "code",
   "execution_count": null,
   "metadata": {},
   "outputs": [],
   "source": [
    "# 문자열의 결합\n",
    "yellow = \"수현!!\"\n",
    "pink = red+yellow\n",
    "print(pink)"
   ]
  },
  {
   "cell_type": "code",
   "execution_count": null,
   "metadata": {},
   "outputs": [],
   "source": [
    "# 문자열의 곱\n",
    "print(pink*3)    # 문자열의 곱셈을 함"
   ]
  },
  {
   "cell_type": "code",
   "execution_count": null,
   "metadata": {},
   "outputs": [],
   "source": [
    "# turtle 모듈의 사용\n",
    "from turtle import *    # turtle를 사용하기 위한 선언문\n",
    "forward(100)            # turtle을 사용하여 선을 그린다"
   ]
  },
  {
   "cell_type": "code",
   "execution_count": null,
   "metadata": {},
   "outputs": [],
   "source": [
    "# 정방형 그리기\n",
    "left(90)        # 커서를 90도 왼쪽으로 회전\n",
    "forward(100)    # 100 진행\n",
    "left(90)\n",
    "forward(100)\n",
    "left(90)\n",
    "forward(100)"
   ]
  },
  {
   "cell_type": "code",
   "execution_count": null,
   "metadata": {},
   "outputs": [],
   "source": [
    "# 원을 그리기\n",
    "for cnt in range(36):    # 블록의 코드를 36회 반복\n",
    "    # 다음 두 줄은 들여쓰기\n",
    "    forward(20)\n",
    "    left(10)\n",
    "# 들여쓰기를 넣지 않고 줄바꿈을 하면 실행"
   ]
  },
  {
   "cell_type": "code",
   "execution_count": null,
   "metadata": {},
   "outputs": [],
   "source": [
    "# circle() 함수 작성\n",
    "def circle():                # 함수를 만듦\n",
    "    for cnt in range(36):    # 36회 반복\n",
    "        forward(20)\n",
    "        left(10)\n",
    "\n",
    "# circle 함수의 실행\n",
    "for i in range(10):          # 10회 반복\n",
    "    circle()                 # 함수를 실행\n",
    "    left(36)"
   ]
  },
  {
   "cell_type": "code",
   "execution_count": null,
   "metadata": {},
   "outputs": [],
   "source": []
  }
 ],
 "metadata": {
  "kernelspec": {
   "display_name": "Python 3",
   "language": "python",
   "name": "python3"
  },
  "language_info": {
   "codemirror_mode": {
    "name": "ipython",
    "version": 3
   },
   "file_extension": ".py",
   "mimetype": "text/x-python",
   "name": "python",
   "nbconvert_exporter": "python",
   "pygments_lexer": "ipython3",
   "version": "3.6.4"
  }
 },
 "nbformat": 4,
 "nbformat_minor": 1
}
