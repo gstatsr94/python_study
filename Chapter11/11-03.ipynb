{
 "cells": [
  {
   "cell_type": "markdown",
   "metadata": {},
   "source": [
    "# Chapter 11-03\n",
    "## 일시(날짜와 시간) 데이터 취급 ‘datetime, calendar’"
   ]
  },
  {
   "cell_type": "markdown",
   "metadata": {},
   "source": [
    "### 날짜와 시간의 연산과 비교"
   ]
  },
  {
   "cell_type": "code",
   "execution_count": null,
   "metadata": {},
   "outputs": [],
   "source": [
    "# 날짜와 시간의 차를 구한다\n",
    "import datetime                  # datetime을 임포트\n",
    "d1 = datetime.date(2016, 6, 28)  # date형의 인스턴스를 작성\n",
    "d2 = datetime.date(2015, 6, 28)\n",
    "td = d1 - d2  # 2개 날짜의 차이를 계산\n",
    "print(td)     # 결과를 표시"
   ]
  },
  {
   "cell_type": "code",
   "execution_count": null,
   "metadata": {},
   "outputs": [],
   "source": [
    "# 날짜와 시간의 덧셈\n",
    "d1 = datetime.date(2016, 4, 14)   # date형의 인스턴스를 작성\n",
    "td = datetime.timedelta(days=100) # timedelta형을 만듦\n",
    "d2 = d1+td    # 100일 후를 계산\n",
    "print(d2)     # 결과를 표시"
   ]
  },
  {
   "cell_type": "code",
   "execution_count": null,
   "metadata": {},
   "outputs": [],
   "source": [
    "# 날짜와 시간의 곱셈, 나눗셈\n",
    "td = datetime.timedelta(days=5)  # timedelta형을 만듦\n",
    "print(td*2)  # 2를 곱함"
   ]
  },
  {
   "cell_type": "code",
   "execution_count": null,
   "metadata": {},
   "outputs": [],
   "source": [
    "print(td/3)  # 3으로 나눔"
   ]
  },
  {
   "cell_type": "code",
   "execution_count": null,
   "metadata": {},
   "outputs": [],
   "source": [
    "# 날짜와 시간의 비교\n",
    "d1 = datetime.date(2016, 6, 28)  # date형의 인스턴스를 작성\n",
    "d2 = datetime.date(2016, 6, 28)"
   ]
  },
  {
   "cell_type": "code",
   "execution_count": null,
   "metadata": {},
   "outputs": [],
   "source": [
    "# d2보다 d1이 미래인가 아닌가를 비교\n",
    "d1 > d2"
   ]
  },
  {
   "cell_type": "code",
   "execution_count": null,
   "metadata": {},
   "outputs": [],
   "source": [
    "# 날짜가 동일한가를 비교\n",
    "d1 == d2"
   ]
  },
  {
   "cell_type": "markdown",
   "metadata": {},
   "source": [
    "### calendar 모듈을 사용한다"
   ]
  },
  {
   "cell_type": "code",
   "execution_count": null,
   "metadata": {},
   "outputs": [],
   "source": [
    "# 달력을 만든다\n",
    "import calendar                 # calendar 모듈을 임포트\n",
    "print(calendar.month(2199, 12)) # 달력을 표시"
   ]
  },
  {
   "cell_type": "code",
   "execution_count": null,
   "metadata": {},
   "outputs": [],
   "source": [
    "# 날짜 리스트를 만든다\n",
    "print(calendar.monthcalendar(2199, 12))"
   ]
  },
  {
   "cell_type": "code",
   "execution_count": null,
   "metadata": {},
   "outputs": [],
   "source": []
  }
 ],
 "metadata": {
  "kernelspec": {
   "display_name": "Python 3",
   "language": "python",
   "name": "python3"
  },
  "language_info": {
   "codemirror_mode": {
    "name": "ipython",
    "version": 3
   },
   "file_extension": ".py",
   "mimetype": "text/x-python",
   "name": "python",
   "nbconvert_exporter": "python",
   "pygments_lexer": "ipython3",
   "version": "3.6.4"
  }
 },
 "nbformat": 4,
 "nbformat_minor": 1
}
