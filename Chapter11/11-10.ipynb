{
 "cells": [
  {
   "cell_type": "markdown",
   "metadata": {},
   "source": [
    "# Chapter 11-10\n",
    "## CSV(쉼표 구분) 파일의 취급‘ CSV’"
   ]
  },
  {
   "cell_type": "code",
   "execution_count": null,
   "metadata": {},
   "outputs": [],
   "source": [
    "# reader() 함수로 CSV 파일을 open한다\n",
    "import csv    # csv 모듈을 임포트\n",
    "csvfile = open(\"test.csv\", encoding=\"utf-8\")  # CSV 파일을 open함\n",
    "for row in csv.reader(csvfile):               # 1행씩 읽어 들이는 리스트에 대입\n",
    "    print(row)                                # 리스트를 표시..."
   ]
  },
  {
   "cell_type": "code",
   "execution_count": null,
   "metadata": {},
   "outputs": [],
   "source": [
    "# writer() 함수로 한 행씩 써 내려감\n",
    "import csv    # csv 모듈을 임포트\n",
    "seq = csv.reader(open(\"test.csv\", encoding=\"utf-8\")) # CSV 파일을 seq에 저장\n",
    "csvfile2 = open(\"test2.csv\", \"w\", encoding=\"utf-8\")  # CSV 파일을 open함\n",
    "writer = csv.writer(csvfile2)\n",
    "for row in seq:              # 1행씩 seq로부터 읽어 들임\n",
    "    writer.writerow(row)     # 1행을 씀"
   ]
  },
  {
   "cell_type": "code",
   "execution_count": null,
   "metadata": {},
   "outputs": [],
   "source": []
  }
 ],
 "metadata": {
  "kernelspec": {
   "display_name": "Python 3",
   "language": "python",
   "name": "python3"
  },
  "language_info": {
   "codemirror_mode": {
    "name": "ipython",
    "version": 3
   },
   "file_extension": ".py",
   "mimetype": "text/x-python",
   "name": "python",
   "nbconvert_exporter": "python",
   "pygments_lexer": "ipython3",
   "version": "3.6.4"
  }
 },
 "nbformat": 4,
 "nbformat_minor": 2
}
