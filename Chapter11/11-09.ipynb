{
 "cells": [
  {
   "cell_type": "markdown",
   "metadata": {},
   "source": [
    "# Chapter 11-09\n",
    "## 문자열 기반의 가상(virtual) 파일을 작성한다. ‘io.SringIO’"
   ]
  },
  {
   "cell_type": "code",
   "execution_count": null,
   "metadata": {},
   "outputs": [],
   "source": [
    "# 파일 같은 객체를 만든다\n",
    "from io import StringIO    # StringIO를 임포트\n",
    "f = StringIO()             # 파일 같은 객체를 작성\n",
    "f.write(\"a\"*10)            # 10개의 문자 a를 써 넣음\n",
    "f.seek(0)                  # 탐색 위치를 선두로 되돌림\n",
    "f.read()                   # 파일 내용을 읽어 들임"
   ]
  },
  {
   "cell_type": "code",
   "execution_count": null,
   "metadata": {},
   "outputs": [],
   "source": []
  }
 ],
 "metadata": {
  "kernelspec": {
   "display_name": "Python 3",
   "language": "python",
   "name": "python3"
  },
  "language_info": {
   "codemirror_mode": {
    "name": "ipython",
    "version": 3
   },
   "file_extension": ".py",
   "mimetype": "text/x-python",
   "name": "python",
   "nbconvert_exporter": "python",
   "pygments_lexer": "ipython3",
   "version": "3.6.4"
  }
 },
 "nbformat": 4,
 "nbformat_minor": 2
}
