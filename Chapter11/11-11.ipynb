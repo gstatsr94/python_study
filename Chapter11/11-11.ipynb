{
 "cells": [
  {
   "cell_type": "markdown",
   "metadata": {},
   "source": [
    "# Chapter 11-11\n",
    "## 객체의 역직렬화와 직렬화(serialize) ‘shelve’‘ pickle’"
   ]
  },
  {
   "cell_type": "markdown",
   "metadata": {},
   "source": [
    "### 딕셔너리를 역직렬화한다. ‘shelve’"
   ]
  },
  {
   "cell_type": "code",
   "execution_count": null,
   "metadata": {},
   "outputs": [],
   "source": [
    "# shelve 객체를 사용한다\n",
    "import shelve                  # shelve를 임포트\n",
    "d = shelve.open(\"shelvetest\")  # shelve 객체를 작성\n",
    "d.update({\"one\":1, \"two\":2})   # update로 내용을 변경\n",
    "list(d.items())                # shelve 객체 내용을 튜플로 확인"
   ]
  },
  {
   "cell_type": "code",
   "execution_count": null,
   "metadata": {},
   "outputs": [],
   "source": [
    "d.close()                      # shelve 객체를 닫음"
   ]
  },
  {
   "cell_type": "code",
   "execution_count": null,
   "metadata": {},
   "outputs": [],
   "source": [
    "# shelve 객체의 내용을 확인한다\n",
    "d2 = shelve.open(\"shelvetest\") # shelve를 임포트\n",
    "list(d2.items())               # shelve 객체를 복원"
   ]
  },
  {
   "cell_type": "markdown",
   "metadata": {
    "collapsed": true
   },
   "source": [
    "### 객체의 역직렬화와 직렬화를 실행한다. ‘pickle’"
   ]
  },
  {
   "cell_type": "code",
   "execution_count": null,
   "metadata": {},
   "outputs": [],
   "source": [
    "# 객체를 pickle화 한다\n",
    "import pickle        # pickle 모듈을 임포트\n",
    "# 복잡한 객체를 작성\n",
    "o = [1,2,3,{\"one\":1},{\"tow\":2}]\n",
    "# 객체를 pickle화\n",
    "dump_str = pickle.dumps(o)\n",
    "dump_str             # 결과 문자열 표시"
   ]
  },
  {
   "cell_type": "code",
   "execution_count": null,
   "metadata": {},
   "outputs": [],
   "source": [
    "# pickle화 한 객체를 복원한다\n",
    "o2 = pickle.loads(dump_str)\n",
    "o2                    # 객체의 내용을 확인"
   ]
  },
  {
   "cell_type": "code",
   "execution_count": null,
   "metadata": {},
   "outputs": [],
   "source": []
  }
 ],
 "metadata": {
  "kernelspec": {
   "display_name": "Python 3",
   "language": "python",
   "name": "python3"
  },
  "language_info": {
   "codemirror_mode": {
    "name": "ipython",
    "version": 3
   },
   "file_extension": ".py",
   "mimetype": "text/x-python",
   "name": "python",
   "nbconvert_exporter": "python",
   "pygments_lexer": "ipython3",
   "version": "3.6.4"
  }
 },
 "nbformat": 4,
 "nbformat_minor": 1
}
