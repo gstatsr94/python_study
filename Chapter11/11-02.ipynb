{
 "cells": [
  {
   "cell_type": "markdown",
   "metadata": {},
   "source": [
    "# Chapter 11-02\n",
    "## 데이터 구조"
   ]
  },
  {
   "cell_type": "markdown",
   "metadata": {},
   "source": [
    "### 추가 시 순서를 유지한다. ‘collections.OrderedDict’"
   ]
  },
  {
   "cell_type": "code",
   "execution_count": null,
   "metadata": {},
   "outputs": [],
   "source": [
    "# OrderedDict를 사용한다\n",
    "from collections import OrderedDict  # collections 모듈을 임포트\n",
    "od = OrderedDict()    # OrderedDict 인스턴스를 작성\n",
    "od['a'] = 'A'         # a, c, b와 요소를 추가\n",
    "od['c'] = 'C'\n",
    "od['b'] = 'B'\n",
    "od                    # 순서가 맞게 저장되어 있는지 확인"
   ]
  },
  {
   "cell_type": "code",
   "execution_count": null,
   "metadata": {},
   "outputs": [],
   "source": [
    "d = {}                # 딕셔너리를 작성\n",
    "d['a'] = 'A'          # a, c, b와 요소를 추가\n",
    "d['c'] = 'C'\n",
    "d['b'] = 'B'\n",
    "d                     # 추가된 순서와 저장된 순서가 다르다 (Python 3.6에서 순서를 저장)"
   ]
  },
  {
   "cell_type": "markdown",
   "metadata": {},
   "source": [
    "### 디폴트(default) 값을 갖는 딕셔너리 ‘collections.defaultdict’"
   ]
  },
  {
   "cell_type": "code",
   "execution_count": null,
   "metadata": {},
   "outputs": [],
   "source": [
    "# 튜플에서 딕셔너리를 작성한다\n",
    "# 개/고양이를 키로 하고 속하는 종류를 리스트의 값으로 딕셔너리 만들기\n",
    "# 딕셔너리를 사용한 경우\n",
    "animals = [('고양이', '삼모'), ('개', '코기'),\n",
    "           ('고양이', '샴'), ('개', '닥스'),\n",
    "           ('개', '흑러브')]\n",
    "d = {}     # 딕셔너리를 초기화\n",
    "for k, v in animals:   # 튜플에서 딕셔너리를 작성\n",
    "    if k not in d:\n",
    "        # 키가 존재하지 않기 때문에 리스트로 초기화\n",
    "        d[k] = [v]\n",
    "    else:\n",
    "        # 키가 존재하기 때문에 값을 추가\n",
    "        d[k].append(v)\n",
    "\n",
    "d  # 결과 표시"
   ]
  },
  {
   "cell_type": "code",
   "execution_count": null,
   "metadata": {},
   "outputs": [],
   "source": [
    "# setdefault( ) 메쏘드를 사용한다\n",
    "d2 = {}    # 딕셔너리를 초기화\n",
    "for k, v in animals:\n",
    "    d2.setdefault(k, []).append(v)\n",
    "\n",
    "d2  # 결과 표시"
   ]
  },
  {
   "cell_type": "code",
   "execution_count": null,
   "metadata": {},
   "outputs": [],
   "source": [
    "# defaultdict( )를 사용한다\n",
    "from collections import defaultdict\n",
    "# 빈 리스트를 초기치로 갖는 딕셔너리를 작성\n",
    "dd = defaultdict(list)\n",
    "for k, v in animals:\n",
    "    dd[k].append(v)\n",
    "\n",
    "dd  # 결과 표시"
   ]
  },
  {
   "cell_type": "code",
   "execution_count": null,
   "metadata": {},
   "outputs": [],
   "source": []
  }
 ],
 "metadata": {
  "kernelspec": {
   "display_name": "Python 3",
   "language": "python",
   "name": "python3"
  },
  "language_info": {
   "codemirror_mode": {
    "name": "ipython",
    "version": 3
   },
   "file_extension": ".py",
   "mimetype": "text/x-python",
   "name": "python",
   "nbconvert_exporter": "python",
   "pygments_lexer": "ipython3",
   "version": "3.6.4"
  }
 },
 "nbformat": 4,
 "nbformat_minor": 1
}
