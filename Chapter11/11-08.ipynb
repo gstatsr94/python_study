{
 "cells": [
  {
   "cell_type": "markdown",
   "metadata": {},
   "source": [
    "# Chapter 11-08\n",
    "## 인터넷상의 데이터를 취득한다. ‘urllib’"
   ]
  },
  {
   "cell_type": "markdown",
   "metadata": {},
   "source": [
    "### request.urlretrieve( )를 사용한 샘플 코드"
   ]
  },
  {
   "cell_type": "code",
   "execution_count": null,
   "metadata": {
    "scrolled": true
   },
   "outputs": [],
   "source": [
    "# 웹상의 데이터를 파일로 보관한다\n",
    "from urllib import request   # request를 임포트\n",
    "from urllib import parse     # parse를 임포트\n",
    "# 파이썬의 로고 이미지를 얻음\n",
    "url = 'https://www.python.org/static/community_logos/python-logo-master-v3-TM.png'\n",
    "# URL을 분할하여 파일 이름을 검색\n",
    "filename = parse.urlparse(url)[2].split('/')[-1]\n",
    "filename"
   ]
  },
  {
   "cell_type": "code",
   "execution_count": null,
   "metadata": {},
   "outputs": [],
   "source": [
    "# 파일을 취득, 현재 디렉터리를 보존\n",
    "request.urlretrieve(url, filename)"
   ]
  },
  {
   "cell_type": "markdown",
   "metadata": {
    "collapsed": true
   },
   "source": [
    "### 데이터를 POST한다"
   ]
  },
  {
   "cell_type": "code",
   "execution_count": null,
   "metadata": {},
   "outputs": [],
   "source": [
    "# urlopen()으로 데이터를 포스트(post)한다\n",
    "from urllib import request    # request를 임포트\n",
    "from urllib import parse      # parse를 임포트\n",
    "postdic = {'name':'someone', 'email':'foo@bar.com'}  # 쿼리 딕셔너리를 작성\n",
    "postdata = parse.urlencode(postdic) # 딕셔너리로 교환\n",
    "postdata     # 내용을 확인"
   ]
  },
  {
   "cell_type": "code",
   "execution_count": null,
   "metadata": {},
   "outputs": [],
   "source": [
    "# 데이터를 지정하여 POST\n",
    "# 실제로 POST할 URL 주소로 변경해야 함\n",
    "file = request.urlopen('http://service.com/process.cgi', \n",
    "                       postdata)"
   ]
  },
  {
   "cell_type": "markdown",
   "metadata": {},
   "source": [
    "### 그 밖의 함수"
   ]
  },
  {
   "cell_type": "code",
   "execution_count": null,
   "metadata": {},
   "outputs": [],
   "source": [
    "# quote() 함수의 샘플\n",
    "from urllib import parse                  # parse를 임포트\n",
    "url = \"https://www.google.com/webhp?ie=UTF-8#q=\"\n",
    "url += parse.quote('파이썬 샘플 코드')        # 샘플 코드 검색문자열을 URL 인코드\n",
    "url                                       # URL을 표시"
   ]
  },
  {
   "cell_type": "code",
   "execution_count": null,
   "metadata": {},
   "outputs": [],
   "source": []
  }
 ],
 "metadata": {
  "kernelspec": {
   "display_name": "Python 3",
   "language": "python",
   "name": "python3"
  },
  "language_info": {
   "codemirror_mode": {
    "name": "ipython",
    "version": 3
   },
   "file_extension": ".py",
   "mimetype": "text/x-python",
   "name": "python",
   "nbconvert_exporter": "python",
   "pygments_lexer": "ipython3",
   "version": "3.6.4"
  }
 },
 "nbformat": 4,
 "nbformat_minor": 1
}
