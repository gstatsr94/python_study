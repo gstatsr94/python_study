{
 "cells": [
  {
   "cell_type": "markdown",
   "metadata": {},
   "source": [
    "# Chapter 11-04\n",
    "## 정규 표현 ‘re’"
   ]
  },
  {
   "cell_type": "markdown",
   "metadata": {},
   "source": [
    "### 정규 표현 샘플 코드"
   ]
  },
  {
   "cell_type": "code",
   "execution_count": null,
   "metadata": {},
   "outputs": [],
   "source": [
    "# 정규 표현을 사용한 url의 매칭\n",
    "import re                            # re(정규 표현) 모듈을 임포트\n",
    "from urllib import request           # request 모듈을 임포트\n",
    "url = \"https://www.python.org/downloads/\" # 읽어 들인 URL을 임포트\n",
    "src = request.urlopen(url).read()    # 파이썬 릴리스 URL을 읽어 들임\n",
    "src = src.decode(\"utf-8\")            # bytes형을 문자열형으로 교환\n",
    "                                     # 링크를 추출하는 정규 표현 패턴\n",
    "pat = re.compile(r'href=\"(/download/releases/.+?)\"')\n",
    "for match in pat.finditer(src):\n",
    "    print(match.group(1))"
   ]
  },
  {
   "cell_type": "code",
   "execution_count": null,
   "metadata": {},
   "outputs": [],
   "source": []
  }
 ],
 "metadata": {
  "kernelspec": {
   "display_name": "Python 3",
   "language": "python",
   "name": "python3"
  },
  "language_info": {
   "codemirror_mode": {
    "name": "ipython",
    "version": 3
   },
   "file_extension": ".py",
   "mimetype": "text/x-python",
   "name": "python",
   "nbconvert_exporter": "python",
   "pygments_lexer": "ipython3",
   "version": "3.6.4"
  }
 },
 "nbformat": 4,
 "nbformat_minor": 1
}
