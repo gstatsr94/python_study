{
 "cells": [
  {
   "cell_type": "markdown",
   "metadata": {},
   "source": [
    "# Chapter 11-12\n",
    "## JSON 데이터를 취급함 ‘json’"
   ]
  },
  {
   "cell_type": "markdown",
   "metadata": {},
   "source": [
    "### json의 사용 예"
   ]
  },
  {
   "cell_type": "code",
   "execution_count": null,
   "metadata": {},
   "outputs": [],
   "source": [
    "# 깃허브에서 읽어 들임\n",
    "from urllib.request import urlopen\n",
    "from json import loads       # json 모듈의 load() 함수를 임포트\n",
    "# GitHub에서 Guido의 레포지토리 리스트를 JSON으로 검색\n",
    "url = 'https://api.github.com/users/gvanrossum/repos'\n",
    "body = urlopen(url).read()\n",
    "body = body.decode('utf-8')  # JSON을 문자열로 변환\n",
    "repos = loads(body)          # JSON을 파이썬 객체로 변환\n",
    "for r in repos:              # 레포지토리 이름을 표시\n",
    "    print(r['name'])"
   ]
  },
  {
   "cell_type": "code",
   "execution_count": null,
   "metadata": {},
   "outputs": [],
   "source": []
  }
 ],
 "metadata": {
  "kernelspec": {
   "display_name": "Python 3",
   "language": "python",
   "name": "python3"
  },
  "language_info": {
   "codemirror_mode": {
    "name": "ipython",
    "version": 3
   },
   "file_extension": ".py",
   "mimetype": "text/x-python",
   "name": "python",
   "nbconvert_exporter": "python",
   "pygments_lexer": "ipython3",
   "version": "3.6.4"
  }
 },
 "nbformat": 4,
 "nbformat_minor": 1
}
