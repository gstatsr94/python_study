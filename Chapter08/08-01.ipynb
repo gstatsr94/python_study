{
 "cells": [
  {
   "cell_type": "markdown",
   "metadata": {},
   "source": [
    "# Chapter08-01\n",
    "## 모듈 파일 만들기"
   ]
  },
  {
   "cell_type": "markdown",
   "metadata": {},
   "source": [
    "### 모듈을 import하는 과정"
   ]
  },
  {
   "cell_type": "code",
   "execution_count": null,
   "metadata": {},
   "outputs": [],
   "source": [
    "# 모듈을 import해서 사용한다\n",
    "import testmodule    # testmodule 모듈을 임포트"
   ]
  },
  {
   "cell_type": "code",
   "execution_count": null,
   "metadata": {},
   "outputs": [],
   "source": [
    "testmodule.a         # 변수를 표시함"
   ]
  },
  {
   "cell_type": "code",
   "execution_count": null,
   "metadata": {},
   "outputs": [],
   "source": [
    "testmodule.b"
   ]
  },
  {
   "cell_type": "code",
   "execution_count": null,
   "metadata": {},
   "outputs": [],
   "source": [
    "testmodule.foo()     # 함수를 호출함"
   ]
  },
  {
   "cell_type": "code",
   "execution_count": null,
   "metadata": {},
   "outputs": [],
   "source": [
    "testmodule.sys.argv  # 모듈 속에서 import한 모듈을 사용함"
   ]
  },
  {
   "cell_type": "markdown",
   "metadata": {},
   "source": [
    "### 파일을 실행할 때만 실행하는 블록"
   ]
  },
  {
   "cell_type": "code",
   "execution_count": null,
   "metadata": {},
   "outputs": [],
   "source": [
    "%run testmodule.py  # %run을 사용하여 모듈을 실행"
   ]
  },
  {
   "cell_type": "markdown",
   "metadata": {},
   "source": [
    "### 클래스와 모듈"
   ]
  },
  {
   "cell_type": "code",
   "execution_count": null,
   "metadata": {},
   "outputs": [],
   "source": [
    "# bookmark 모듈을 임포트 함\n",
    "import bookmark     # bookmark 모듈을 임포트 함\n",
    "# Bookmark 클래스에서 인스턴스를 만듦\n",
    "b = bookmark.Bookmark(\"타이틀\", \"http://path.to/site\")"
   ]
  },
  {
   "cell_type": "code",
   "execution_count": null,
   "metadata": {},
   "outputs": [],
   "source": [
    "# from문을 사용하여 Bookmark 클래스를 임포트 함\n",
    "from bookmark import Bookmark # bookmark 모듈을 임포트 함\n",
    "b2 = Bookmark(\"타이틀\", \"http://path.to/site\")"
   ]
  },
  {
   "cell_type": "code",
   "execution_count": null,
   "metadata": {},
   "outputs": [],
   "source": [
    "# bookmark.Bookmark 클래스의 상속\n",
    "import bookmark # bookmark 모듈을 임포트 함\n",
    "\n",
    "class Blogmark(bookmark.Bookmark):\n",
    "    pass"
   ]
  },
  {
   "cell_type": "code",
   "execution_count": null,
   "metadata": {},
   "outputs": [],
   "source": [
    "# from 문장을 사용하여 Bookmark 클래스를 임포트해서 상속함\n",
    "from bookmark import Bookmark # bookmark 모듈을 임포트 함\n",
    "class Blogmark(Bookmark):\n",
    "    pass"
   ]
  },
  {
   "cell_type": "code",
   "execution_count": null,
   "metadata": {},
   "outputs": [],
   "source": []
  }
 ],
 "metadata": {
  "kernelspec": {
   "display_name": "Python 3",
   "language": "python",
   "name": "python3"
  },
  "language_info": {
   "codemirror_mode": {
    "name": "ipython",
    "version": 3
   },
   "file_extension": ".py",
   "mimetype": "text/x-python",
   "name": "python",
   "nbconvert_exporter": "python",
   "pygments_lexer": "ipython3",
   "version": "3.6.4"
  }
 },
 "nbformat": 4,
 "nbformat_minor": 1
}
