{
 "cells": [
  {
   "cell_type": "markdown",
   "metadata": {},
   "source": [
    "# Chapter05-02\n",
    "## 내포 표기(Comprehension)"
   ]
  },
  {
   "cell_type": "markdown",
   "metadata": {},
   "source": [
    "### 내포 표기란?"
   ]
  },
  {
   "cell_type": "code",
   "execution_count": null,
   "metadata": {},
   "outputs": [],
   "source": [
    "# 리스트 내포 표기의 예\n",
    "monk_fish_team = [158, 157, 163, 157, 145]\n",
    "\n",
    "total = sum(monk_fish_team)    # 리스트의 합계\n",
    "length = len(monk_fish_team)   # 리스트의 요소 수(길이)\n",
    "mean = total/length            # 평균을 구함\n",
    "\n",
    "# for height in monk_fish_team:\n",
    "#     variance = variance+(height-mean)**2\n",
    "#\n",
    "# variance = variance/length\n",
    "\n",
    "variance = sum([(h-mean)**2 for h in monk_fish_team])/length\n",
    "\n",
    "variance"
   ]
  },
  {
   "cell_type": "markdown",
   "metadata": {},
   "source": [
    "### 리스트 내포 표기의 상세"
   ]
  },
  {
   "cell_type": "code",
   "execution_count": null,
   "metadata": {},
   "outputs": [],
   "source": [
    "# 리스트 내포표기가 돌려주는 리스트\n",
    "[(h-mean)**2 for h in monk_fish_team]"
   ]
  },
  {
   "cell_type": "code",
   "execution_count": null,
   "metadata": {},
   "outputs": [],
   "source": [
    "# 리스트 내포 표기로 바꾼 코드\n",
    "str_speeds = \"38 42 20 40 39\"\n",
    "speeds = [int(s) for s in str_speeds.split()]\n",
    "speeds"
   ]
  },
  {
   "cell_type": "markdown",
   "metadata": {},
   "source": [
    "### 리스트 내포 표기에서 이용하는 ‘if’"
   ]
  },
  {
   "cell_type": "code",
   "execution_count": null,
   "metadata": {},
   "outputs": [],
   "source": [
    "# 숫자가 아닌 것을 걸러내서(배제해서) 리스트를 만드는 예\n",
    "str_speeds = \"38 42 20 40 a1 39\"\n",
    "speeds = [int(s) for s in str_speeds.split()\n",
    "                              if s.isdigit()]\n",
    "speeds"
   ]
  },
  {
   "cell_type": "markdown",
   "metadata": {},
   "source": [
    "### 딕셔너리 내포 표기"
   ]
  },
  {
   "cell_type": "code",
   "execution_count": null,
   "metadata": {},
   "outputs": [],
   "source": [
    "# 구문 딕셔너리 내포 표기를 사용한다\n",
    "# 딕셔너리 내포 표기법을 사용하여 키와 값을 반전한 딕셔너리를 만듦\n",
    "# 시간대의 딕셔너리를 만듦\n",
    "tz = {\"GMT\":\"+000\", \"BST\":\"+100\",\n",
    "      \"EET\":\"+200\", \"JST\":\"+900\"}\n",
    "# 시간대와 시차를 반대로 한 딕셔너리를 만듦\n",
    "revtz = {off:zone for zone, off in tz.items()}\n",
    "revtz"
   ]
  },
  {
   "cell_type": "markdown",
   "metadata": {},
   "source": [
    "### set 내포 표기"
   ]
  },
  {
   "cell_type": "code",
   "execution_count": null,
   "metadata": {},
   "outputs": [],
   "source": [
    "# set 내포 표기를 사용한다\n",
    "names = [\"BOB\", \"burton\", \"dave\", \"bob\"]  # 이름 리스트를 정의\n",
    "unames = {x.lower() for x in names}       # 이름을 소문자로 바꿔서 중복된 것 제거\n",
    "unames"
   ]
  },
  {
   "cell_type": "code",
   "execution_count": null,
   "metadata": {},
   "outputs": [],
   "source": []
  }
 ],
 "metadata": {
  "kernelspec": {
   "display_name": "Python 3",
   "language": "python",
   "name": "python3"
  },
  "language_info": {
   "codemirror_mode": {
    "name": "ipython",
    "version": 3
   },
   "file_extension": ".py",
   "mimetype": "text/x-python",
   "name": "python",
   "nbconvert_exporter": "python",
   "pygments_lexer": "ipython3",
   "version": "3.6.4"
  }
 },
 "nbformat": 4,
 "nbformat_minor": 1
}
