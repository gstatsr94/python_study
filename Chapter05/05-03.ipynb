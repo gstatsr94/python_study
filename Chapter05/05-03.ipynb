{
 "cells": [
  {
   "cell_type": "markdown",
   "metadata": {},
   "source": [
    "# Chapter05-03\n",
    "## 이터레이터를 사용한다"
   ]
  },
  {
   "cell_type": "markdown",
   "metadata": {},
   "source": [
    "### 이터레이터와 지연평가"
   ]
  },
  {
   "cell_type": "code",
   "execution_count": null,
   "metadata": {},
   "outputs": [],
   "source": [
    "# read() 메쏘드로 파일 전체를 읽어 들인다\n",
    "# 파일에서 모두 읽어 들인 후 선두의 5행을 표시\n",
    "f = open('some.txt')           # フ파일 객체를 만듦\n",
    "body = f.read()                # 파일 전체를 읽어 들임\n",
    "lines = body.split('\\n')       # 파일을 줄 바꾸기(개행)로 분할\n",
    "print('\\n'.join(lines[:5]))    # 선두 5행을 표시"
   ]
  },
  {
   "cell_type": "code",
   "execution_count": null,
   "metadata": {},
   "outputs": [],
   "source": [
    "# readline() 메쏘드로 1행씩 읽어 들인다\n",
    "# 루프 카운터를 사용하여 선두의 5행만 읽음\n",
    "f = open('some.txt')       # 파일 객체를 만듦\n",
    "lines = ''                 # 표시할 문자열을 초기화\n",
    "for i in range(5):         # 선두에서 5행 읽어 들임\n",
    "    lines += f.readline()\n",
    "print(lines)               # 선두 5행을 표시함"
   ]
  },
  {
   "cell_type": "code",
   "execution_count": null,
   "metadata": {},
   "outputs": [],
   "source": [
    "# 이터레이터를 사용한다\n",
    "# 파일 객체를 for문을 사용하여 5행만 읽음\n",
    "# 파일에서 한 줄씩 읽음\n",
    "for c, l in enumerate(open('some.txt')):\n",
    "    print(l, end='')  # 행을 표시\n",
    "    if c == 4:        # 5행을 표시하고서 루프를 빠져나감\n",
    "        break"
   ]
  },
  {
   "cell_type": "markdown",
   "metadata": {},
   "source": [
    "### Column : 파이썬 이터레이터 객체"
   ]
  },
  {
   "cell_type": "code",
   "execution_count": null,
   "metadata": {},
   "outputs": [],
   "source": [
    "# iter()와 next() 함수의 예\n",
    "i = iter([1, 2])   # 리스트를 이터레이터 객체로 변환함\n",
    "next(i)   # 첫 요소를 추출"
   ]
  },
  {
   "cell_type": "code",
   "execution_count": null,
   "metadata": {},
   "outputs": [],
   "source": [
    "# 꺼낸 요소가 사라진 경우\n",
    "next(i)   # 다음의 요소를 추출\n",
    "next(i)   # 요소가 없어져서 StopIteration 오류가 발생"
   ]
  },
  {
   "cell_type": "code",
   "execution_count": null,
   "metadata": {},
   "outputs": [],
   "source": []
  }
 ],
 "metadata": {
  "kernelspec": {
   "display_name": "Python 3",
   "language": "python",
   "name": "python3"
  },
  "language_info": {
   "codemirror_mode": {
    "name": "ipython",
    "version": 3
   },
   "file_extension": ".py",
   "mimetype": "text/x-python",
   "name": "python",
   "nbconvert_exporter": "python",
   "pygments_lexer": "ipython3",
   "version": "3.6.4"
  }
 },
 "nbformat": 4,
 "nbformat_minor": 1
}
