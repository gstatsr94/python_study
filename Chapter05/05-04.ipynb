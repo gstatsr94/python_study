{
 "cells": [
  {
   "cell_type": "markdown",
   "metadata": {},
   "source": [
    "# Chapter05-04\n",
    "## 생성자를 사용한다"
   ]
  },
  {
   "cell_type": "markdown",
   "metadata": {},
   "source": [
    "### 생성자 함수를 정의한다"
   ]
  },
  {
   "cell_type": "code",
   "execution_count": null,
   "metadata": {},
   "outputs": [],
   "source": [
    "# 소수를 돌려주는 생성자 함수의 정의\n",
    "def get_primes(x=2):\n",
    "    while True:\n",
    "        for i in range(2, x):\n",
    "            if x%i == 0: # 나누어지는 수를 찾음\n",
    "                break\n",
    "        else:\n",
    "            yield x      # 소수가 찾아지면 yield로 돌려줌\n",
    "        x += 1           # 수치를 증가"
   ]
  },
  {
   "cell_type": "code",
   "execution_count": null,
   "metadata": {},
   "outputs": [],
   "source": [
    "# 생성자 함수의 실행\n",
    "i = get_primes()       # 생성자 함수로부터 이터레이터를 취득\n",
    "for c in range(10):    # 소수를 10개 표시\n",
    "    print(next(i))"
   ]
  },
  {
   "cell_type": "markdown",
   "metadata": {},
   "source": [
    "### 생성자 표현식(generator expression)"
   ]
  },
  {
   "cell_type": "code",
   "execution_count": null,
   "metadata": {},
   "outputs": [],
   "source": [
    "# 리스트 내포 표기의 예\n",
    "# 리스트 내포 표기는 요소가 완벽하게 갖추어 진 리스트를 반환\n",
    "[x**2 for x in range(1, 10)]   # 1에서 9까지의 제곱 리스트"
   ]
  },
  {
   "cell_type": "code",
   "execution_count": null,
   "metadata": {},
   "outputs": [],
   "source": [
    "# 생성자식의 예\n",
    "# 생성자식은 이터레이터를 반환\n",
    "i = (x**2 for x in range(1, 10))\n",
    "print(next(i))\n",
    "print(next(i))\n",
    "print(next(i))"
   ]
  },
  {
   "cell_type": "code",
   "execution_count": null,
   "metadata": {},
   "outputs": [],
   "source": []
  }
 ],
 "metadata": {
  "kernelspec": {
   "display_name": "Python 3",
   "language": "python",
   "name": "python3"
  },
  "language_info": {
   "codemirror_mode": {
    "name": "ipython",
    "version": 3
   },
   "file_extension": ".py",
   "mimetype": "text/x-python",
   "name": "python",
   "nbconvert_exporter": "python",
   "pygments_lexer": "ipython3",
   "version": "3.6.4"
  }
 },
 "nbformat": 4,
 "nbformat_minor": 1
}
