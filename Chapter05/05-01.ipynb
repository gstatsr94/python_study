{
 "cells": [
  {
   "cell_type": "markdown",
   "metadata": {},
   "source": [
    "# Chapter 05-01\n",
    "## 파이썬과 함수형 프로그래밍"
   ]
  },
  {
   "cell_type": "markdown",
   "metadata": {},
   "source": [
    "## 함수형 프로그래밍이란 무엇인가"
   ]
  },
  {
   "cell_type": "code",
   "execution_count": null,
   "metadata": {},
   "outputs": [],
   "source": [
    "# 리스트의 메쏘드를 사용한 처리\n",
    "# reverse() 메쏘드를 사용한 회문 판정\n",
    "orig_str = \"아좋다좋아\"\n",
    "str_list = list(orig_str)     # 문자열을 리스트로 변환\n",
    "str_list.reverse()            # 리스트를 뒤집음(반전)\n",
    "''.join(str_list) == orig_str # 리스트를 문자열로 바꾸어 회문 판정"
   ]
  },
  {
   "cell_type": "code",
   "execution_count": null,
   "metadata": {},
   "outputs": [],
   "source": [
    "# 함수를 사용한 처리\n",
    "# reversed()를 사용한 회문 판정\n",
    "orig_str = \"아좋다좋아\"\n",
    "\"\".join(reversed(orig_str)) == orig_str"
   ]
  },
  {
   "cell_type": "code",
   "execution_count": null,
   "metadata": {},
   "outputs": [],
   "source": [
    "# 참고로 문자열을 반전만 한다면 슬라이스의 단계 수를 사용하는 것이\n",
    "# 가장 쉽다\n",
    "\n",
    "orig_str = \"아좋다좋아\"\n",
    "orig_str == orig_str[::-1]\n",
    "\n",
    "# 슬라이스도 함수형적인 작업이라고 말할 수 있을지도..."
   ]
  },
  {
   "cell_type": "markdown",
   "metadata": {},
   "source": [
    "### 파이썬의 문장과 식"
   ]
  },
  {
   "cell_type": "code",
   "execution_count": null,
   "metadata": {},
   "outputs": [],
   "source": [
    "# 파이썬의 문장\n",
    "\n",
    "# if문, for문, def문과 같이 '~ 문장'이라는 기능\n",
    "# '문장'은 줄 바꿈을 필요하다\n",
    "if \"\":\n",
    "    print(\"이 블록은 실행되지 않습니다\")\n",
    "else:\n",
    "    print(\"파이썬에서는 빈 문자열은 거짓이라고 판정됩니다\")\n",
    "    \n",
    "# 파이썬에서는 대입도 '문장'과 비슷하다.\n",
    "# '대입문' 등이라고도 한다\n",
    "var = 123      "
   ]
  },
  {
   "cell_type": "code",
   "execution_count": null,
   "metadata": {},
   "outputs": [],
   "source": [
    "# Python의 식\n",
    "\n",
    "# 함수/메쏘드 호출 연산자와 비교 연산자를 포함하는 식 등\n",
    "\n",
    "print(\"\".join(reversed(\"아좋다좋아\")))"
   ]
  },
  {
   "cell_type": "code",
   "execution_count": null,
   "metadata": {},
   "outputs": [],
   "source": [
    "# '식'은 줄 바꿈 없이 얼마든지 계속할 수 있다\n",
    "# 하지만 하나의 행이 너무 길면 읽기 어려워지므로 주의\n",
    "\n",
    "# 소수 찾기 함수를 하나의 행으로 정의\n",
    "primelist = lambda n : [x for x in range(2, n) if not 0 in map(lambda z : x % z, range(2,x))]\n",
    "primelist(30)  # 30까지의 소수를 찾기"
   ]
  },
  {
   "cell_type": "markdown",
   "metadata": {},
   "source": [
    "### lambda식"
   ]
  },
  {
   "cell_type": "code",
   "execution_count": null,
   "metadata": {},
   "outputs": [],
   "source": [
    "# 정렬 순서 지정에 lambda식을 사용한다.\n",
    "tank_data = [(\"IV호 전차\", 38, 80, 75), (\"LT-38\", 42, 50, 37),\n",
    "             (\"89식 중전차\", 20, 17, 57), (\"III호 돌격포\", 40, 50, 75),\n",
    "             (\"M3 중전차\", 39, 51, 75)]\n",
    "def evaluate_tankdata(tup):\n",
    "    # 전차의 제원을 더해 반환하는 함수\n",
    "    return tup[1]+tup[2]+tup[3]\n",
    "\n",
    "# def evaluate_tankdata(tup):\n",
    "#    # 전차의 제원을 더해 반환하는 함수\n",
    "#    return tup[1]+tup[2]+tup[3]\n",
    "\n",
    "tank_data.sort(key=lambda tup: sum(tup[1:4]), reverse=True)\n",
    "tank_data"
   ]
  },
  {
   "cell_type": "code",
   "execution_count": null,
   "metadata": {},
   "outputs": [],
   "source": [
    "# sorted() 함수에 의한 바꾸기\n",
    "r = sorted(tank_data, key=lambda tup: sum(tup[1:4]), reverse=True)\n",
    "r"
   ]
  },
  {
   "cell_type": "code",
   "execution_count": null,
   "metadata": {},
   "outputs": [],
   "source": []
  }
 ],
 "metadata": {
  "kernelspec": {
   "display_name": "Python 3",
   "language": "python",
   "name": "python3"
  },
  "language_info": {
   "codemirror_mode": {
    "name": "ipython",
    "version": 3
   },
   "file_extension": ".py",
   "mimetype": "text/x-python",
   "name": "python",
   "nbconvert_exporter": "python",
   "pygments_lexer": "ipython3",
   "version": "3.6.4"
  }
 },
 "nbformat": 4,
 "nbformat_minor": 1
}
