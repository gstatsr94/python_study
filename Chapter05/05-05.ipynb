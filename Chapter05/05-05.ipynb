{
 "cells": [
  {
   "cell_type": "markdown",
   "metadata": {},
   "source": [
    "# Chapter05-05\n",
    "## 고차 함수와 데코레이터"
   ]
  },
  {
   "cell_type": "markdown",
   "metadata": {},
   "source": [
    "### 고차 함수(higher-order functions)란?"
   ]
  },
  {
   "cell_type": "code",
   "execution_count": null,
   "metadata": {},
   "outputs": [],
   "source": [
    "# 함수를 받아서 실행하는 함수를 정의한다\n",
    "def execute(func, arg):\n",
    "    return func(arg)        # 인수로 받은 함수를 실행함\n",
    "\n",
    "print(execute(int, \"100\"))  # 함수를 인수로 전달하여 실행"
   ]
  },
  {
   "cell_type": "code",
   "execution_count": null,
   "metadata": {},
   "outputs": [],
   "source": [
    "# 함수를 받아 실행하는 함수를 정의한다\n",
    "def logger(func):\n",
    "    def inner(*args):\n",
    "        print(\"인수:\", args)  # 인수 리스트를 표시\n",
    "        return func(*args)   # 함수를 호출함\n",
    "    return inner"
   ]
  },
  {
   "cell_type": "code",
   "execution_count": null,
   "metadata": {},
   "outputs": [],
   "source": [
    "# 2개의 값을 더하는 함수를 정의한다\n",
    "def accumulate(a, b):\n",
    "    return a+b\n",
    "\n",
    "print(accumulate(1, 2))   # 함수를 호출함"
   ]
  },
  {
   "cell_type": "code",
   "execution_count": null,
   "metadata": {},
   "outputs": [],
   "source": [
    "# logger를 사용해서 accumulate를 변환\n",
    "newfunc = logger(accumulate)\n",
    "print(newfunc(1, 2))      # 고차 함수로 만든 함수를 호출"
   ]
  },
  {
   "cell_type": "markdown",
   "metadata": {},
   "source": [
    "### 데코레이터(decorator)"
   ]
  },
  {
   "cell_type": "code",
   "execution_count": null,
   "metadata": {},
   "outputs": [],
   "source": [
    "# 데코레이터에 따른 지정 예\n",
    "# 고차 함수와 데코레이터를 결합\n",
    "@logger\n",
    "def accumulate(a, b):\n",
    "    return a+b"
   ]
  },
  {
   "cell_type": "code",
   "execution_count": null,
   "metadata": {},
   "outputs": [],
   "source": [
    "# accumulate() 함수의 실행\n",
    "print(accumulate(1, 2))"
   ]
  },
  {
   "cell_type": "code",
   "execution_count": null,
   "metadata": {},
   "outputs": [],
   "source": [
    "%%time    # 실행 시간을 측정\n",
    "# lru_cache함수를 데코레이터로 사용한다\n",
    "# functools의 lru_cache를 사용\n",
    "\n",
    "# lru_cache을 사용하여 피보나치 수를 계산하는 함수\n",
    "from functools import lru_cache\n",
    "@lru_cache(maxsize=None)\n",
    "def fib(n):\n",
    "    if n < 2:\n",
    "        return n\n",
    "    return fib(n-1) + fib(n-2)"
   ]
  },
  {
   "cell_type": "code",
   "execution_count": null,
   "metadata": {},
   "outputs": [],
   "source": [
    "# 피보나치 수의 표시\n",
    "# 실행 시간을 측정\n",
    "%time [fib_nc(n) for n in range(16)]"
   ]
  },
  {
   "cell_type": "code",
   "execution_count": null,
   "metadata": {},
   "outputs": [],
   "source": [
    "%%time    # 실행 시간을 측정\n",
    "#  lru_cache를 사용하지 않고 피보나치 수를 계산하는 함수\n",
    "def fib_nc(n):\n",
    "    if n < 2:\n",
    "        return n\n",
    "    return fib_nc(n-1) + fib_nc(n-2)"
   ]
  },
  {
   "cell_type": "code",
   "execution_count": null,
   "metadata": {},
   "outputs": [],
   "source": [
    "# 피보나치 수의 표시\n",
    "# 실행 시간을 측정\n",
    "%time [fib_nc(n) for n in range(16)]"
   ]
  },
  {
   "cell_type": "code",
   "execution_count": null,
   "metadata": {},
   "outputs": [],
   "source": []
  }
 ],
 "metadata": {
  "kernelspec": {
   "display_name": "Python 3",
   "language": "python",
   "name": "python3"
  },
  "language_info": {
   "codemirror_mode": {
    "name": "ipython",
    "version": 3
   },
   "file_extension": ".py",
   "mimetype": "text/x-python",
   "name": "python",
   "nbconvert_exporter": "python",
   "pygments_lexer": "ipython3",
   "version": "3.6.4"
  }
 },
 "nbformat": 4,
 "nbformat_minor": 1
}
