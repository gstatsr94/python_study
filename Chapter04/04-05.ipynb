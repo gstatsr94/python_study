{
 "cells": [
  {
   "cell_type": "markdown",
   "metadata": {},
   "source": [
    "# Chapter 04-05\n",
    "## set형 구사"
   ]
  },
  {
   "cell_type": "markdown",
   "metadata": {},
   "source": [
    "### set형 메쏘드를 활용"
   ]
  },
  {
   "cell_type": "code",
   "execution_count": null,
   "metadata": {},
   "outputs": [],
   "source": [
    "# set형 메쏘드에는 두가지 방법이 있다\n",
    "# 하나는 결과 set의 복사본을 반환 객체를 변경하는 메쏘드이다\n",
    "prime = set([2, 3, 5, 7, 11])\n",
    "fib = set([0, 1, 2, 3, 5, 8])\n",
    "new_set = prime.union(fib)     # 메소드가 돌려주는 결과를 변수로 받음\n",
    "new_set                        # 변수를 표시"
   ]
  },
  {
   "cell_type": "code",
   "execution_count": null,
   "metadata": {},
   "outputs": [],
   "source": [
    "prime                          # 메쏘드를 호출한 원래의 변수는 변하지 않는다"
   ]
  },
  {
   "cell_type": "code",
   "execution_count": null,
   "metadata": {},
   "outputs": [],
   "source": [
    "# 다른 하나는 개체 자체를 변경하는 메쏘드입니다\n",
    "\n",
    "prefs = set(['서울시', '경기도', '강원도'])   # set 정의\n",
    "prefs.add('제주도')                        # 요수를 추가\n",
    "prefs                                     # 요소를 표시"
   ]
  },
  {
   "cell_type": "code",
   "execution_count": null,
   "metadata": {},
   "outputs": [],
   "source": []
  }
 ],
 "metadata": {
  "kernelspec": {
   "display_name": "Python 3",
   "language": "python",
   "name": "python3"
  },
  "language_info": {
   "codemirror_mode": {
    "name": "ipython",
    "version": 3
   },
   "file_extension": ".py",
   "mimetype": "text/x-python",
   "name": "python",
   "nbconvert_exporter": "python",
   "pygments_lexer": "ipython3",
   "version": "3.6.4"
  }
 },
 "nbformat": 4,
 "nbformat_minor": 1
}
