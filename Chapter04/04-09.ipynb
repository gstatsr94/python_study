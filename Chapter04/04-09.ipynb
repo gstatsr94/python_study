{
 "cells": [
  {
   "cell_type": "markdown",
   "metadata": {},
   "source": [
    "# Chapter04-09\n",
    "## 함수와 내장형"
   ]
  },
  {
   "cell_type": "code",
   "execution_count": null,
   "metadata": {},
   "outputs": [],
   "source": [
    "# 여러 반환 값을 반환하는 함수\n",
    "\n",
    "# 책의 코드를 보충하여 수정함\n",
    "\n",
    "def foo():\n",
    "    return [1, 2]"
   ]
  },
  {
   "cell_type": "code",
   "execution_count": null,
   "metadata": {},
   "outputs": [],
   "source": [
    "# 함수의 반환값을 리스트로 받음\n",
    "alist = foo()\n",
    "alist           # 반환값으로 받은 리스트 보기"
   ]
  },
  {
   "cell_type": "markdown",
   "metadata": {},
   "source": [
    "### 반환값과 언팩 대입"
   ]
  },
  {
   "cell_type": "code",
   "execution_count": null,
   "metadata": {},
   "outputs": [],
   "source": [
    "# 목록의 최솟값, 최댓값, 평균값을 반환하는 함수\n",
    "def digest(in_list):\n",
    "    minvalue = min(in_list)\n",
    "    maxvalue = max(in_list)\n",
    "    average = sum(in_list)/len(in_list)\n",
    "   # 다음 return 라인[~]를 생략할 수 있다\n",
    "    return [minvalue, maxvalue, average]"
   ]
  },
  {
   "cell_type": "code",
   "execution_count": null,
   "metadata": {},
   "outputs": [],
   "source": [
    "# 함수를 사용\n",
    "monk_fish_team = [158, 157, 163, 157, 145]\n",
    "minvalue, maxvalue, average = digest(monk_fish_team)\n",
    "print(minvalue, maxvalue, average)"
   ]
  },
  {
   "cell_type": "markdown",
   "metadata": {},
   "source": [
    "### 함수로 인수 리스트를 받기"
   ]
  },
  {
   "cell_type": "code",
   "execution_count": null,
   "metadata": {},
   "outputs": [],
   "source": [
    "# 함수로 인수 리스트를 받기\n",
    "def foo(a, b, *vals):   # *인수를 갖는 함수를 정의\n",
    "    print(a, b, vals)\n",
    "foo(1, 2, 3, 4, 5)      # 5개의 값을 인수로 지정하여 호출"
   ]
  },
  {
   "cell_type": "code",
   "execution_count": null,
   "metadata": {},
   "outputs": [],
   "source": [
    "foo(1, 2, c=3)          # c라고 하는 미정의 키워드 인수를 지정"
   ]
  },
  {
   "cell_type": "markdown",
   "metadata": {
    "collapsed": true
   },
   "source": [
    "### 함수로 키워드 인수 받기"
   ]
  },
  {
   "cell_type": "code",
   "execution_count": null,
   "metadata": {},
   "outputs": [],
   "source": [
    "# 정의되지 않은 키워드 인수\n",
    "def bar(a, b, **args):    # **인수를 갖는 함수를 정의\n",
    "    print(a, b, args)\n",
    "\n",
    "bar(1, 2, c=3, d=4)       # 정의하지 않은 키워드 인수를 정의"
   ]
  },
  {
   "cell_type": "markdown",
   "metadata": {
    "collapsed": true
   },
   "source": [
    "### 기본 인수 및 갱신 가능한 내장형"
   ]
  },
  {
   "cell_type": "markdown",
   "metadata": {},
   "source": [
    "변경 가능한 내장형을 기본 인수로 설정하면 곤란한 일이 생기기 때문에 주의가 필요하다.\n",
    "\n",
    "구체적으로 예를 보는 것이 알기 쉽다고 생각하기 때문에 그런 함수를 만들어 호출한다."
   ]
  },
  {
   "cell_type": "code",
   "execution_count": null,
   "metadata": {},
   "outputs": [],
   "source": [
    "def append_to(a_list, b_list=[]):\n",
    "    # 변경 가능한 객체(목록)를 기본 인수로 가지는 함수를 정의\n",
    "    b_list.append(0)\n",
    "    return a_list+b_list"
   ]
  },
  {
   "cell_type": "code",
   "execution_count": null,
   "metadata": {},
   "outputs": [],
   "source": [
    "list_1 = [1, 2, 3, 4]        # 리스트 정의\n",
    "# 두 번째 인수를 생략하고 함수를 호출\n",
    "list_2 = append_to(list_1)\n",
    "list_2                       # 결과 표시"
   ]
  },
  {
   "cell_type": "code",
   "execution_count": null,
   "metadata": {},
   "outputs": [],
   "source": [
    "list_3 = append_to(list_1)   # 함수를 다시 호출\n",
    "# 함수의 인수 b_list에 추가, 0이 추가되므로\n",
    "# 결과의 끝은 [0, 0]이 된다\n",
    "list_3"
   ]
  },
  {
   "cell_type": "code",
   "execution_count": null,
   "metadata": {},
   "outputs": [],
   "source": [
    "list_3 = append_to(list_1)\n",
    "# 인수 b_list에 추가, 0이 추가되기 때문에 결과가 달라진다\n",
    "list_3"
   ]
  },
  {
   "cell_type": "markdown",
   "metadata": {},
   "source": [
    "따라서, 기본 인수로 변경 가능한 객체를 설정하면 함수 내에서 한 파괴적인 조작이 그대로 유지된다. 이것은 기본 인수의 객체가 인터프리터 실행에 저장되어 있기 때문이다.\n",
    "\n",
    "기본 인수로 변경 가능한 객체를 설정하면 예상대로 처리되지 않을 수 있으므로 주의가 필요하다."
   ]
  }
 ],
 "metadata": {
  "kernelspec": {
   "display_name": "Python 3",
   "language": "python",
   "name": "python3"
  },
  "language_info": {
   "codemirror_mode": {
    "name": "ipython",
    "version": 3
   },
   "file_extension": ".py",
   "mimetype": "text/x-python",
   "name": "python",
   "nbconvert_exporter": "python",
   "pygments_lexer": "ipython3",
   "version": "3.6.4"
  }
 },
 "nbformat": 4,
 "nbformat_minor": 1
}
