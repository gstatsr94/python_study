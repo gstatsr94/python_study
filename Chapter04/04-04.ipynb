{
 "cells": [
  {
   "cell_type": "markdown",
   "metadata": {},
   "source": [
    "# Chapter04-04\n",
    "## 리스트형, 튜플형 구사하기"
   ]
  },
  {
   "cell_type": "markdown",
   "metadata": {},
   "source": [
    "### 리스트를 정렬"
   ]
  },
  {
   "cell_type": "code",
   "execution_count": null,
   "metadata": {},
   "outputs": [],
   "source": [
    "# 오름차순으로 정렬\n",
    "monk_fish_team = [158, 157, 163, 157, 145]\n",
    "monk_fish_team.sort()          # 정렬하기\n",
    "monk_fish_team                 # 리스트 내용 확인"
   ]
  },
  {
   "cell_type": "code",
   "execution_count": null,
   "metadata": {},
   "outputs": [],
   "source": [
    "# 내림차순으로 정렬\n",
    "monk_fish_team.sort(reverse=True)  # 정렬하기\n",
    "monk_fish_team                     # 리스트 내용 확인"
   ]
  },
  {
   "cell_type": "markdown",
   "metadata": {},
   "source": [
    "### 정렬 순서 커스터마이징(Customizing)"
   ]
  },
  {
   "cell_type": "code",
   "execution_count": null,
   "metadata": {},
   "outputs": [],
   "source": [
    "# 튜플의 리스트를 작성\n",
    "tank_data = [(\"A형 전차\", 38, 80, 75), (\"B형 전차\", 42, 50, 37),\n",
    "             (\"X형 전차\", 20, 17, 57), (\"Y형 전차\", 40, 50, 75),\n",
    "             (\"Z형 전차\", 39, 51, 75)]"
   ]
  },
  {
   "cell_type": "code",
   "execution_count": null,
   "metadata": {},
   "outputs": [],
   "source": [
    "# 전차의 제원을 더해 반환하는 함수\n",
    "# 정렬에 사용할 함수를 정의\n",
    "def evaluate_tankdata(tup):\n",
    "    return tup[1]+tup[2]+tup[3]"
   ]
  },
  {
   "cell_type": "code",
   "execution_count": null,
   "metadata": {},
   "outputs": [],
   "source": [
    "# 각 전차의 강함을 표시\n",
    "print(evaluate_tankdata(tank_data[0]))\n",
    "print(evaluate_tankdata(tank_data[4]))"
   ]
  },
  {
   "cell_type": "code",
   "execution_count": null,
   "metadata": {},
   "outputs": [],
   "source": [
    "# 전차의 강함으로 정렬하기\n",
    "tank_data.sort(key=evaluate_tankdata, reverse=True)\n",
    "print(tank_data)"
   ]
  },
  {
   "cell_type": "markdown",
   "metadata": {},
   "source": [
    "### 언팩 대입"
   ]
  },
  {
   "cell_type": "code",
   "execution_count": null,
   "metadata": {},
   "outputs": [],
   "source": [
    "# 언팩 대입 사용\n",
    "a = 1\n",
    "b = 2\n",
    "b, a = a, b   # 여러 개의 요소를 동시에 대입\n",
    "print(a, b)"
   ]
  },
  {
   "cell_type": "markdown",
   "metadata": {},
   "source": [
    "### 슬라이스의 스텝 수"
   ]
  },
  {
   "cell_type": "code",
   "execution_count": null,
   "metadata": {},
   "outputs": [],
   "source": [
    "# 리스트에서 슬라이스로 요소를 추출\n",
    "a = [1, 2, 3, 4, 5]   # 리스트 정의\n",
    "a                     # 리스트 보기"
   ]
  },
  {
   "cell_type": "code",
   "execution_count": null,
   "metadata": {},
   "outputs": [],
   "source": [
    "# 슬라이스의 범위를 지정\n",
    "a[1:4]                # 인덱스 1부터 3까지 추출, [1:3]이 아닌 것에 주의"
   ]
  },
  {
   "cell_type": "code",
   "execution_count": null,
   "metadata": {},
   "outputs": [],
   "source": [
    "# 인덱스 이상의 요소 수를 지정\n",
    "a[2:100]              # 오류가 나지 않음"
   ]
  },
  {
   "cell_type": "code",
   "execution_count": null,
   "metadata": {},
   "outputs": [],
   "source": [
    "a[::2]                # 리스트에서 짝수번째의 요소를 추출"
   ]
  },
  {
   "cell_type": "markdown",
   "metadata": {},
   "source": [
    "### 슬라이스를 사용한 요소의 대입과 삭제"
   ]
  },
  {
   "cell_type": "code",
   "execution_count": null,
   "metadata": {},
   "outputs": [],
   "source": [
    "# 요소의 추가\n",
    "a = [1, 2, 3, 4, 5]   # 리스트를 작성\n",
    "# 리스트의 3번째 부터 다섯번째 요소를 치환\n",
    "a[2:4] = ['Three', 'Four', 'five']\n",
    "a                     # 결과의 표시"
   ]
  },
  {
   "cell_type": "code",
   "execution_count": null,
   "metadata": {},
   "outputs": [],
   "source": [
    "# 요소의 삭제\n",
    "a = [1, 2, 3, 4, 5]   # 리스트를 작성\n",
    "del a[2:]             # 3번째부터 마지막까지 삭제\n",
    "a                     # 결과 확인"
   ]
  },
  {
   "cell_type": "code",
   "execution_count": null,
   "metadata": {},
   "outputs": [],
   "source": []
  }
 ],
 "metadata": {
  "kernelspec": {
   "display_name": "Python 3",
   "language": "python",
   "name": "python3"
  },
  "language_info": {
   "codemirror_mode": {
    "name": "ipython",
    "version": 3
   },
   "file_extension": ".py",
   "mimetype": "text/x-python",
   "name": "python",
   "nbconvert_exporter": "python",
   "pygments_lexer": "ipython3",
   "version": "3.6.4"
  }
 },
 "nbformat": 4,
 "nbformat_minor": 1
}
