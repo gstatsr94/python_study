{
 "cells": [
  {
   "cell_type": "markdown",
   "metadata": {},
   "source": [
    "# Chapter 04-01\n",
    "## 객체로서의 내장형"
   ]
  },
  {
   "cell_type": "markdown",
   "metadata": {},
   "source": [
    "### 메쏘드란?"
   ]
  },
  {
   "cell_type": "code",
   "execution_count": null,
   "metadata": {},
   "outputs": [],
   "source": [
    "# 리스트의 인덱스를 반환하는 함수 find_index의 정의\n",
    "def find_index(the_list, target):\n",
    "    # the_list에서 target의 인덱스를 조사하는 함수\n",
    "    idx = 0                 # 인덱스용의 카운터를 초기화\n",
    "    for item in the_list:   # 리스트의 요소를 1개씩 조사\n",
    "        if target == the_list[idx]:\n",
    "            # 조사하고 싶은 요소가 발견되면 인덱스를 반환\n",
    "            return idx\n",
    "        idx = idx+1    # 인덱스를 1 증가"
   ]
  },
  {
   "cell_type": "code",
   "execution_count": null,
   "metadata": {},
   "outputs": [],
   "source": [
    "# find_index( )를 사용한 예\n",
    "# 리스트를 정의\n",
    "mcz=[\"영희\", \"길동\", \"순철\", \"철희\", \"지영\"]\n",
    "find_index(mcz, \"순철\")"
   ]
  },
  {
   "cell_type": "code",
   "execution_count": null,
   "metadata": {},
   "outputs": [],
   "source": [
    "# index( ) 메쏘드를 사용한 예\n",
    "# 메쏘드를 사용하여 동일한 작업을 하는 것이 더 쉽다\n",
    "mcz.index(\"순철\")"
   ]
  },
  {
   "cell_type": "code",
   "execution_count": null,
   "metadata": {},
   "outputs": [],
   "source": []
  }
 ],
 "metadata": {
  "kernelspec": {
   "display_name": "Python 3",
   "language": "python",
   "name": "python3"
  },
  "language_info": {
   "codemirror_mode": {
    "name": "ipython",
    "version": 3
   },
   "file_extension": ".py",
   "mimetype": "text/x-python",
   "name": "python",
   "nbconvert_exporter": "python",
   "pygments_lexer": "ipython3",
   "version": "3.6.4"
  }
 },
 "nbformat": 4,
 "nbformat_minor": 1
}
