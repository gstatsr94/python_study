{
 "cells": [
  {
   "cell_type": "markdown",
   "metadata": {},
   "source": [
    "# Chapter04-11\n",
    "## 파이썬의 파일 처리"
   ]
  },
  {
   "cell_type": "markdown",
   "metadata": {},
   "source": [
    "### 파일과 파일 객체"
   ]
  },
  {
   "cell_type": "code",
   "execution_count": null,
   "metadata": {},
   "outputs": [],
   "source": [
    "# 파일 열기\n",
    "\n",
    "# 코드를 실행할 수 있도록 샘플 코드의 같은 계층에\n",
    "# 텍스트 파일을 설치하고 있다\n",
    "\n",
    "# 파일을 열고 파일 개체를 얻음\n",
    "f = open(\"foo.txt\", \"r\", encoding=\"utf-8\")  # 파일 열기\n",
    "s = f.read()           # 파일의 내용을 문자열형 변수로 읽음\n",
    "print(s)               # 파일의 내용을 표시\n",
    "f.close()              # 파일 닫기"
   ]
  },
  {
   "cell_type": "markdown",
   "metadata": {},
   "source": [
    "### 파일로부터 1행씩 읽어 들여 처리하기"
   ]
  },
  {
   "cell_type": "code",
   "execution_count": null,
   "metadata": {},
   "outputs": [],
   "source": [
    "# 텍스트 파일을 행으로 분할하기\n",
    "f = open(\"test.txt\", \"r\", encoding=\"utf-8\")  # 파일 열기\n",
    "for line in f:             # 파일로부터 1행씩 읽어냄\n",
    "    print(line, end=\" \")   # 1행씩 표시하기"
   ]
  },
  {
   "cell_type": "markdown",
   "metadata": {},
   "source": [
    "### 파일에 쓰기"
   ]
  },
  {
   "cell_type": "code",
   "execution_count": null,
   "metadata": {},
   "outputs": [],
   "source": [
    "# 모드를 지정하여 파일을 열기\n",
    "f = open(\"newfile.txt\", \"w\", encoding=\"utf-8\")  # 모드 w로 파일 열기\n",
    "f.write(s)      # 변수 s의 문자열을 파일에 쓰기\n",
    "f.close()       # 파일 닫기"
   ]
  },
  {
   "cell_type": "markdown",
   "metadata": {},
   "source": [
    "### 바이너리 파일을 다루기"
   ]
  },
  {
   "cell_type": "code",
   "execution_count": null,
   "metadata": {},
   "outputs": [],
   "source": [
    "imgfile = open('someimage.png', 'rb')\n",
    "imgsrc = imgfile.read()\n",
    "if imgsrc[1:4] == b'PNG':\n",
    "    print('image/png')"
   ]
  },
  {
   "cell_type": "markdown",
   "metadata": {},
   "source": [
    "### 파일명 다루기"
   ]
  },
  {
   "cell_type": "code",
   "execution_count": null,
   "metadata": {},
   "outputs": [],
   "source": [
    "# 인코딩 확인하기\n",
    "import sys    # sys 모듈을 임포트\n",
    "# 파일 시스템의 인코딩을 표시\n",
    "sys.getfilesystemencoding()"
   ]
  },
  {
   "cell_type": "code",
   "execution_count": null,
   "metadata": {},
   "outputs": [],
   "source": []
  }
 ],
 "metadata": {
  "kernelspec": {
   "display_name": "Python 3",
   "language": "python",
   "name": "python3"
  },
  "language_info": {
   "codemirror_mode": {
    "name": "ipython",
    "version": 3
   },
   "file_extension": ".py",
   "mimetype": "text/x-python",
   "name": "python",
   "nbconvert_exporter": "python",
   "pygments_lexer": "ipython3",
   "version": "3.6.4"
  }
 },
 "nbformat": 4,
 "nbformat_minor": 1
}
