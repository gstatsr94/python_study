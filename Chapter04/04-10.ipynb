{
 "cells": [
  {
   "cell_type": "markdown",
   "metadata": {},
   "source": [
    "# Chapter04-10\n",
    "## 파이썬의 문자열과 한국어"
   ]
  },
  {
   "cell_type": "markdown",
   "metadata": {},
   "source": [
    "### 문자 코드에 관한 기본 지식"
   ]
  },
  {
   "cell_type": "code",
   "execution_count": null,
   "metadata": {},
   "outputs": [],
   "source": [
    "# 컴퓨터 내부에서 문자가 대응하는 값으로 변경\n",
    "s = \"1AZa\"\n",
    "for c in s:\n",
    "    print(c, ord(c))  # 문자에 해당하는 숫자를 표시"
   ]
  },
  {
   "cell_type": "code",
   "execution_count": null,
   "metadata": {},
   "outputs": [],
   "source": [
    "# 멀티 바이트 문자(UTF-8) 코드를 표시\n",
    "ms = \"한국어\"\n",
    "for c in ms:\n",
    "    print(c, ord(c), ord(c)//256, ord(c)%256)"
   ]
  },
  {
   "cell_type": "markdown",
   "metadata": {},
   "source": [
    "### bytes형"
   ]
  },
  {
   "cell_type": "code",
   "execution_count": null,
   "metadata": {},
   "outputs": [],
   "source": [
    "# 멀티 바이트형의 사용\n",
    "s = \"대한민국\"         # 한글을 포함하는 문자열형을 정의\n",
    "len(s)               # 길이를 조사"
   ]
  },
  {
   "cell_type": "code",
   "execution_count": null,
   "metadata": {},
   "outputs": [],
   "source": [
    "bs = s.encode(\"EUC-KR\") # 문자열형에서 EUC-KR 바이트형으로 변환\n",
    "len(bs)              # 길이를 조사"
   ]
  },
  {
   "cell_type": "code",
   "execution_count": null,
   "metadata": {},
   "outputs": [],
   "source": [
    "print(bs)            # 바이트형으로 프린트"
   ]
  },
  {
   "cell_type": "code",
   "execution_count": null,
   "metadata": {},
   "outputs": [],
   "source": [
    "bt = s.encode(\"UTF-8\")   # 문자열형에서 UTF-8 바이트형으로 변환\n",
    "len(bt)              # 길이를 조사"
   ]
  },
  {
   "cell_type": "code",
   "execution_count": null,
   "metadata": {},
   "outputs": [],
   "source": [
    "print(bt)            # 바이트형으로 프린트"
   ]
  },
  {
   "cell_type": "code",
   "execution_count": null,
   "metadata": {},
   "outputs": [],
   "source": [
    "s[0]                 # 인덱스를 사용해 문자열 꺼내기"
   ]
  },
  {
   "cell_type": "code",
   "execution_count": null,
   "metadata": {
    "scrolled": true
   },
   "outputs": [],
   "source": [
    "bs[0]                # EUC-KR 바이트형 문자열 꺼내기"
   ]
  },
  {
   "cell_type": "code",
   "execution_count": null,
   "metadata": {},
   "outputs": [],
   "source": [
    "bt[0]                # UTF-8 바이트형 문자열 꺼내기"
   ]
  },
  {
   "cell_type": "markdown",
   "metadata": {},
   "source": [
    "### 문자열을 바이트형으로 변환"
   ]
  },
  {
   "cell_type": "code",
   "execution_count": null,
   "metadata": {},
   "outputs": [],
   "source": [
    "s = \"파이썬！\"                      # 문자열 정의\n",
    "bs = s.encode(\"EUC-KR\", \"strict\")  # 인코딩(EUC-KR)을 지정하여 인코딩, 바이트형으로 변환\n",
    "print(bs)                         # 바이트형의 문자열을 표시"
   ]
  },
  {
   "cell_type": "markdown",
   "metadata": {},
   "source": [
    "### 바이트형을 문자열로 변환하기"
   ]
  },
  {
   "cell_type": "code",
   "execution_count": null,
   "metadata": {},
   "outputs": [],
   "source": [
    "# 바이트 리터럴을 변수에 할당\n",
    "bs = b'\\xc6\\xc4\\xc0\\xcc\\xbd\\xe3\\xa3\\xa1'\n",
    "u = bs.decode(\"EUC-KR\", \"ignore\")     # 인코딩을 지정하여 디코딩 문자열 변환\n",
    "print(u)                              # 문자열을 표시"
   ]
  },
  {
   "cell_type": "code",
   "execution_count": null,
   "metadata": {},
   "outputs": [],
   "source": []
  }
 ],
 "metadata": {
  "kernelspec": {
   "display_name": "Python 3",
   "language": "python",
   "name": "python3"
  },
  "language_info": {
   "codemirror_mode": {
    "name": "ipython",
    "version": 3
   },
   "file_extension": ".py",
   "mimetype": "text/x-python",
   "name": "python",
   "nbconvert_exporter": "python",
   "pygments_lexer": "ipython3",
   "version": "3.6.4"
  }
 },
 "nbformat": 4,
 "nbformat_minor": 1
}
