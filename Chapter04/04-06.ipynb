{
 "cells": [
  {
   "cell_type": "markdown",
   "metadata": {},
   "source": [
    "# Chapter04-06\n",
    "## 딕셔너리형 구사"
   ]
  },
  {
   "cell_type": "markdown",
   "metadata": {},
   "source": [
    "### 시퀀스 등으로부터 딕셔너리를 작성"
   ]
  },
  {
   "cell_type": "code",
   "execution_count": null,
   "metadata": {},
   "outputs": [],
   "source": [
    "# {'one':1, 'two':2}라는 딕셔너리를 만든다\n",
    "\n",
    "# 딕셔너리에서 딕셔너리를 만듦(복사)\n",
    "dict({'one':1, 'two':2})"
   ]
  },
  {
   "cell_type": "code",
   "execution_count": null,
   "metadata": {},
   "outputs": [],
   "source": [
    "# 키와 값의 시퀀스로 딕셔너리를 만듦\n",
    "dict([['one', 1], ['two', 2]])"
   ]
  },
  {
   "cell_type": "code",
   "execution_count": null,
   "metadata": {},
   "outputs": [],
   "source": [
    "# 키워드 인수로 딕셔너리를 만듦\n",
    "dict(one=1, two=2)"
   ]
  },
  {
   "cell_type": "markdown",
   "metadata": {},
   "source": [
    "### 두 개의 딕셔너리를 조합"
   ]
  },
  {
   "cell_type": "code",
   "execution_count": null,
   "metadata": {},
   "outputs": [],
   "source": [
    "# update() 메쏘드에 의한 딕셔너리의 연결\n",
    "rssitem = {\"title\"  :\"파이썬의 공부 전\",\n",
    "           \"link\"   :\"http://host.to/blog/entry\",\n",
    "           \"dc_date\":\"2016-07-12T13:24:04Z\"}\n",
    "# 딕셔너리 변경\n",
    "rssitem.update({\"title\"     :\"파이썬을 공부 중\",\n",
    "                \"dc:creator\":\"someone\"})\n",
    "rssitem.keys()   # 키의 요약을 표시"
   ]
  },
  {
   "cell_type": "code",
   "execution_count": null,
   "metadata": {},
   "outputs": [],
   "source": [
    "rssitem          # 딕셔너리를 표시"
   ]
  },
  {
   "cell_type": "markdown",
   "metadata": {},
   "source": [
    "### 딕셔너리의 키를 스마트하게 다루기"
   ]
  },
  {
   "cell_type": "code",
   "execution_count": null,
   "metadata": {},
   "outputs": [],
   "source": [
    "# 영어 단어의 출현 수를 딕셔너리에서 계산\n",
    "#\n",
    "# 책에서는 지면의 사정 등으로 추상적인 샘플 코드를 게재하고 있지만\n",
    "# 여기에 코드를 보충하여 다시 작성했다\n",
    "\n",
    "line = \"\"\"If you can dream it, you can do it. \n",
    "- Walt Disney\"\"\"\n",
    "wordcnt = {}              # 딕셔너리를 초기화\n",
    "for word in line.split():\n",
    "    if word in wordcnt:\n",
    "        wordcnt[word] = wordcnt[word]+1\n",
    "    else:\n",
    "        wordcnt[word] = 1\n",
    "print(wordcnt)            # 결과 표시"
   ]
  },
  {
   "cell_type": "code",
   "execution_count": null,
   "metadata": {},
   "outputs": [],
   "source": [
    "# 딕셔너리의 get 메쏘드를 사용하여 다시 작성\n",
    "wordcnt = {}              # 딕셔너리를 초기화\n",
    "for word in line.split():\n",
    "    wordcnt[word] = wordcnt.get(word, 0)+1\n",
    "print(wordcnt)            # 결과 표시"
   ]
  },
  {
   "cell_type": "code",
   "execution_count": null,
   "metadata": {},
   "outputs": [],
   "source": [
    "# 더미 setdefault()를 사용한 샘플\n",
    "wordcnt = {}              # 딕셔너리를 초기화\n",
    "for word in line.split():\n",
    "    wordcnt[word] = wordcnt.setdefault(word, 0) + 1\n",
    "print(wordcnt)            # 결과 표시"
   ]
  },
  {
   "cell_type": "code",
   "execution_count": null,
   "metadata": {},
   "outputs": [],
   "source": []
  }
 ],
 "metadata": {
  "kernelspec": {
   "display_name": "Python 3",
   "language": "python",
   "name": "python3"
  },
  "language_info": {
   "codemirror_mode": {
    "name": "ipython",
    "version": 3
   },
   "file_extension": ".py",
   "mimetype": "text/x-python",
   "name": "python",
   "nbconvert_exporter": "python",
   "pygments_lexer": "ipython3",
   "version": "3.6.4"
  }
 },
 "nbformat": 4,
 "nbformat_minor": 1
}
