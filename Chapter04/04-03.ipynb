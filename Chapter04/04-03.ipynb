{
 "cells": [
  {
   "cell_type": "markdown",
   "metadata": {},
   "source": [
    "# Chapter 04-03\n",
    "## 문자열형을 구사하기"
   ]
  },
  {
   "cell_type": "markdown",
   "metadata": {},
   "source": [
    "### 문자열의 치환과 삭제"
   ]
  },
  {
   "cell_type": "code",
   "execution_count": null,
   "metadata": {},
   "outputs": [],
   "source": [
    "# replace( ) 메쏘드의 예\n",
    "orig_str = \"abcdef\"          # 치환전의 문자열을 정의\n",
    "orig_str.replace(\"c\", \"z\")  # 문자열 c를 z로 치환하고 결과를 표시"
   ]
  },
  {
   "cell_type": "code",
   "execution_count": null,
   "metadata": {},
   "outputs": [],
   "source": [
    "# 또한 replace () 메쏘드는 치환할 횟수를 지정할 수 있다\n",
    "orig_str.replace(\"b\", \"y\", 1)"
   ]
  },
  {
   "cell_type": "code",
   "execution_count": null,
   "metadata": {},
   "outputs": [],
   "source": [
    "# 문자열의 삭제와 수치로의 변환\n",
    "str_num = \"1,000,000\"                # 쉼표가 들어 있는 정수의 문자열\n",
    "num = int(str_num.replace(\",\", \"\"))  # 쉼표를 빼고 int()로 수치로 변환\n",
    "num"
   ]
  },
  {
   "cell_type": "code",
   "execution_count": null,
   "metadata": {},
   "outputs": [],
   "source": [
    "# 더미 문자 -> 모스 부호로 변환\n",
    "m_sos = \"SOS\"                # 문자열 정의\n",
    "# 문자열을 모스 부호로 치환\n",
    "m_sos = m_sos.replace(\"S\", \"...\")\n",
    "m_sos = m_sos.replace(\"O\", \"---\")\n",
    "m_sos"
   ]
  },
  {
   "cell_type": "markdown",
   "metadata": {},
   "source": [
    "### split( ) 메쏘드와 join( ) 메쏘드"
   ]
  },
  {
   "cell_type": "code",
   "execution_count": null,
   "metadata": {},
   "outputs": [],
   "source": [
    "# 문자열의 분할과 그래프 표시\n",
    "# split 메쏘드 사용 예\n",
    "%matplotlib inline\n",
    "import matplotlib.pyplot as plt\n",
    "\n",
    "str_speeds = \"38 42 20 40 39\"       # 전차의 속도(km/h)\n",
    "str_armor = \"80 50 17 50 51\"        # 전차의 철판 두께(mm)\n",
    "speeds = str_speeds.split(\" \")      # 속도를 공백 문자로 분할\n",
    "armors = str_armor.split(\" \")       # 철판 두께를 공백 문자로 분할\n",
    "markers = [\"o\", \"v\", \"^\", \"<\", \">\"] # 그래프 상에 마크\n",
    "\n",
    "for idx in range(len(speeds)):      # 리스트의 길이만큼 루프\n",
    "    x = int(speeds[idx])            # 문자열을 수치로 변환\n",
    "    y = int(armors[idx])\n",
    "    # 산포도 그림\n",
    "    plt.scatter(x, y, marker=markers[idx])    \n",
    "\n",
    "\n",
    "    # A형 전차(o), B형 전차(v), X형 전차(^), Y형 전차(<), Z형 전차(>)"
   ]
  },
  {
   "cell_type": "code",
   "execution_count": null,
   "metadata": {},
   "outputs": [],
   "source": [
    "# 공백으로 구분된 것을 쉼표를 사용하여 구분\n",
    "# split() 문자열을 join ()로 연결\n",
    "str_speeds = \"38 42 20 40 39\"  # 공백으로 나눠진 수치\n",
    "speeds = str_speeds.split()    # 공백으로 분할\n",
    "csep_speeds = \",\".join(speeds) # 쉼표로 연결\n",
    "print(csep_speeds)             # 결과 표시"
   ]
  },
  {
   "cell_type": "code",
   "execution_count": null,
   "metadata": {},
   "outputs": [],
   "source": [
    "# 여분의 공백을 제거\n",
    "# replace() 메쏘드를 사용하면 불필요한 공백이 치환된다\n",
    "str_speeds2 = \" 38  42 20 40 39 \"    # 여분의 공백이 들어간 문자열\n",
    "print(str_speeds2.replace(\" \", \",\")) # replace()를 사용한 결과 표시"
   ]
  },
  {
   "cell_type": "code",
   "execution_count": null,
   "metadata": {},
   "outputs": [],
   "source": [
    "# 분할해서 여분의 공백을 제거\n",
    "# split()와 join()을 함께 사용하면 불필요한 공백이 제거된다\n",
    "str_speeds2 = \" 38  42 20 40 39 \"    # 여분의 공백이 들어간 문자열\n",
    "speeds2 = str_speeds2.split()\n",
    "csep_speeds2 = \",\".join(speeds2)     # split(), join()을 사용하여 치환\n",
    "print(csep_speeds2)                  # 결과 표시"
   ]
  },
  {
   "cell_type": "markdown",
   "metadata": {},
   "source": [
    "### 이스케이프 문자(Escape sequence)"
   ]
  },
  {
   "cell_type": "code",
   "execution_count": null,
   "metadata": {},
   "outputs": [],
   "source": [
    "# 함수 내에서 줄 바꿈을 포함한 문자열을 변수로서 정의하는 예\n",
    "def func():                     # func() 함수 정의\n",
    "    # 줄 바꿈을 포함하는 문자열을 변수로 함\n",
    "    words = \"\"\"abcdefghi\n",
    "jklmnop\"\"\"\n",
    "    print(words)\n",
    "\n",
    "func()  # func() 함수 실행"
   ]
  },
  {
   "cell_type": "code",
   "execution_count": null,
   "metadata": {},
   "outputs": [],
   "source": [
    "# 이스케이프 문자 \\n을 사용\n",
    "def func():\n",
    "    words = \"abcdefghi\\njklmnop\"\n",
    "    print(words)\n",
    "\n",
    "func()"
   ]
  },
  {
   "cell_type": "code",
   "execution_count": null,
   "metadata": {},
   "outputs": [],
   "source": [
    "# 또한, 들여쓰기를 무너뜨리지 않고 긴 문자열을 정의하려면\n",
    "# 다음과 같은 방법도 있다\n",
    "#\n",
    "# ※ 단, 줄 바꿈 이스케이프 문자는 명시할 필요가 있다는 점에 주의\n",
    "\n",
    "def func():\n",
    "    words = (\"abcdefghi\\n\"\n",
    "             \"jklmnop\")\n",
    "    print(words)\n",
    "\n",
    "func()"
   ]
  },
  {
   "cell_type": "markdown",
   "metadata": {},
   "source": [
    "### raw 문자열"
   ]
  },
  {
   "cell_type": "code",
   "execution_count": null,
   "metadata": {},
   "outputs": [],
   "source": [
    "# raw 문자열 사용\n",
    "# raw 문자열을 사용하면 이스케이프 시퀀스 문자열로 취급\n",
    "# Windows 파일의 경로를 다룰 때 유용\n",
    "raw = r\"C:\\path\\to\\file\"\n",
    "raw"
   ]
  },
  {
   "cell_type": "code",
   "execution_count": null,
   "metadata": {},
   "outputs": [],
   "source": [
    "# raw 문자열이 아닌 경우와 결과를 비교\n",
    "non_raw = \"C:\\path\\to\\file\"\n",
    "non_raw"
   ]
  },
  {
   "cell_type": "markdown",
   "metadata": {},
   "source": [
    "### 문자열로 이용할 수 있는 메쏘드"
   ]
  },
  {
   "cell_type": "code",
   "execution_count": null,
   "metadata": {},
   "outputs": [],
   "source": [
    "# endswith() startswith() 메쏘드\n",
    "# 문자열의 끝 또는 시작 부분에 특정 문자열이 있는지 여부를 테스트할 때 사용한다\n",
    "# 메쏘드 이름에 S는 문자열 객체를 나타낸다\n",
    "# 슬라이스와 지수 연동을 구사해 같은 처리가 가능하지만\n",
    "# 메쏘드를 사용하는 것이 쉽습니다\n",
    "\n",
    "fn = \"funny_picture.jpg\"\n",
    "if fn.endswith(\".jpg\"):\n",
    "    print(\"JPEG 이미지입니다.\")\n",
    "\n",
    "# c.f.\n",
    "# if fn[-4:] == \".jpg\":\n",
    "#     print(\"JPEG 이미지입니다.\")"
   ]
  },
  {
   "cell_type": "code",
   "execution_count": null,
   "metadata": {},
   "outputs": [],
   "source": [
    "# strip() 메쏘드\n",
    "# 주로 문자열의 앞뒤 공백을 제거하는 데 사용한다\n",
    "orig_str = \" HAM SPAM \"\n",
    "stripped_str = orig_str.strip()\n",
    "stripped_str"
   ]
  },
  {
   "cell_type": "code",
   "execution_count": null,
   "metadata": {},
   "outputs": [],
   "source": [
    "# upper(), lower() 메쏘드를 조합하면 문자의 대/소문자를 무시하고\n",
    "# 문자열 비교할 수 있다\n",
    "\n",
    "upper_str = \"I like SPAM and egg.\"\n",
    "if \"spam\" in upper_str.lower():\n",
    "    print(\"정말 SPAM을 좋아하네요!\")"
   ]
  },
  {
   "cell_type": "markdown",
   "metadata": {},
   "source": [
    "## 문자열의 형식"
   ]
  },
  {
   "cell_type": "code",
   "execution_count": null,
   "metadata": {},
   "outputs": [],
   "source": [
    "# 포맷에 문자열을 채움\n",
    "\"{} loves Python !\".format('Guido')"
   ]
  },
  {
   "cell_type": "code",
   "execution_count": null,
   "metadata": {},
   "outputs": [],
   "source": [
    "# 여러 개를 동시에 삽입\n",
    "linkstr = '<a href=\"{}\">{}</a>'\n",
    "for i in ['http://python.org',\n",
    "          'http://pypy.org',\n",
    "          'http://http://cython.org/']:\n",
    "    print(linkstr.format(i, i.replace('http://', '')))"
   ]
  },
  {
   "cell_type": "code",
   "execution_count": null,
   "metadata": {},
   "outputs": [],
   "source": [
    "# 수치로 삽입 위치를 지정\n",
    "\"{0} {1} {0}\".format('Spam', 'Ham')"
   ]
  },
  {
   "cell_type": "code",
   "execution_count": null,
   "metadata": {},
   "outputs": [],
   "source": [
    "# 키로 삽입 위치를 지정\n",
    "\"{food1} {food2} {food1}\".format(food1=\"Spam\",\n",
    "                                 food2=\"Ham\")"
   ]
  },
  {
   "cell_type": "code",
   "execution_count": null,
   "metadata": {},
   "outputs": [],
   "source": [
    "# 딕셔너리로 삽입 위치를 지정\n",
    "d = {'name': 'Guido', 'birthyear': 1964}\n",
    "\"{0[birthyear]} is {0[name]}'s birthyear\".format(d)"
   ]
  },
  {
   "cell_type": "code",
   "execution_count": null,
   "metadata": {},
   "outputs": [],
   "source": [
    "# 속성을 지정하여 치환\n",
    "import sys\n",
    "# sys.version 속성을 사용하여 파이썬의 버전 표시\n",
    "\"Python version: {0.version}\".format(sys)"
   ]
  },
  {
   "cell_type": "markdown",
   "metadata": {},
   "source": [
    "### 채워 넣는 문자열의 형식 지정"
   ]
  },
  {
   "cell_type": "code",
   "execution_count": null,
   "metadata": {},
   "outputs": [],
   "source": [
    "# 밀림을 지정하여 포매팅하기\n",
    "# 첫 번째 요소를 왼쪽 밀림하고, 두 번째 요소를 오른쪽 밀림으로 치환\n",
    "tmpl = \"{0:10} {1:>8}\"\n",
    "tmpl.format('Spam', 300)"
   ]
  },
  {
   "cell_type": "code",
   "execution_count": null,
   "metadata": {},
   "outputs": [],
   "source": [
    "tmpl.format('Ham', 200)"
   ]
  },
  {
   "cell_type": "code",
   "execution_count": null,
   "metadata": {},
   "outputs": [],
   "source": [
    "# 표기 형식을 지정하여 포매팅하기\n",
    "# 소수점 이하 2 자리까지\n",
    "\"{:.2%}\".format(6260/12776)"
   ]
  },
  {
   "cell_type": "code",
   "execution_count": null,
   "metadata": {},
   "outputs": [],
   "source": [
    "\"{:,}\".format(10000)"
   ]
  },
  {
   "cell_type": "code",
   "execution_count": null,
   "metadata": {},
   "outputs": [],
   "source": [
    "# Python 3.6에서는 f문자열 기능이 추가되었다\n",
    "name = \"블라블라군\"                 # 치환할 요소를 변수로 정의\n",
    "f\"먼저 {name}이 자리 잡음\"           # {name} 부분의 변수 내용에 치환\n",
    "\n",
    "# '먼저 블라블라군이 자리 잡음'"
   ]
  },
  {
   "cell_type": "code",
   "execution_count": null,
   "metadata": {},
   "outputs": [],
   "source": []
  }
 ],
 "metadata": {
  "kernelspec": {
   "display_name": "Python 3",
   "language": "python",
   "name": "python3"
  },
  "language_info": {
   "codemirror_mode": {
    "name": "ipython",
    "version": 3
   },
   "file_extension": ".py",
   "mimetype": "text/x-python",
   "name": "python",
   "nbconvert_exporter": "python",
   "pygments_lexer": "ipython3",
   "version": "3.6.4"
  }
 },
 "nbformat": 4,
 "nbformat_minor": 1
}
