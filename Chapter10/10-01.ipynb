{
 "cells": [
  {
   "cell_type": "markdown",
   "metadata": {},
   "source": [
    "# Chapter 10-01\n",
    "## 예외 처리"
   ]
  },
  {
   "cell_type": "markdown",
   "metadata": {},
   "source": [
    "### 예외를 포착하다"
   ]
  },
  {
   "cell_type": "code",
   "execution_count": null,
   "metadata": {},
   "outputs": [],
   "source": [
    "# 책의 스크립트 파일과 동일한 기능을 가진 함수를 정의\n",
    "def filelen(filenames):\n",
    "    \"\"\"공백으로 구분된 파일 이름을 지정하고 파일의 길이를 반환하는 함수\n",
    "    \"\"\"\n",
    "    for fn in filenames.split():\n",
    "        try:\n",
    "            f = open(fn)\n",
    "        except FileNotFoundError:\n",
    "            print(\"{}(이)라는 파일이 존재하지 않습니다.\".format(fn))\n",
    "        else:\n",
    "            try:\n",
    "                print(fn, len(f.read())) # 파일명과 크기를 표시\n",
    "            finally:\n",
    "                f.close()                # 파일을 닫음\n"
   ]
  },
  {
   "cell_type": "code",
   "execution_count": null,
   "metadata": {},
   "outputs": [],
   "source": [
    "# 함수를 호출함\n",
    "filelen('filelen.py')"
   ]
  },
  {
   "cell_type": "code",
   "execution_count": null,
   "metadata": {},
   "outputs": [],
   "source": [
    "filelen('text1.txt')"
   ]
  },
  {
   "cell_type": "markdown",
   "metadata": {},
   "source": [
    "### with문"
   ]
  },
  {
   "cell_type": "code",
   "execution_count": null,
   "metadata": {},
   "outputs": [],
   "source": [
    "# with 문을 사용하여 동일한 함수를 정의\n",
    "def filelen_w(filenames):\n",
    "    \"\"\"공백으로 구분된 파일 이름을 지정하고 파일의 길이를 반환하는 함수\n",
    "    \"\"\"\n",
    "    for fn in filenames.split():\n",
    "        try:\n",
    "            with open(fn) as f:\n",
    "                print(fn, len(f.read())) # 파일명과 크기를 표시\n",
    "        except FileNotFoundError:\n",
    "            print(\"{}(이)라는 파일이 존재하지 않습니다.\".format(fn))\n"
   ]
  },
  {
   "cell_type": "code",
   "execution_count": null,
   "metadata": {},
   "outputs": [],
   "source": [
    "# 함수를 호출함\n",
    "filelen_w('filelen.py')"
   ]
  },
  {
   "cell_type": "code",
   "execution_count": null,
   "metadata": {},
   "outputs": [],
   "source": [
    "filelen_w('spam.txt')"
   ]
  },
  {
   "cell_type": "markdown",
   "metadata": {},
   "source": [
    "### 예외와 역추적(traceback)"
   ]
  },
  {
   "cell_type": "code",
   "execution_count": null,
   "metadata": {},
   "outputs": [],
   "source": [
    "from urllib import request\n",
    "request.urlopen('spam://spam.spam/') # URL을 지정해서 open함"
   ]
  },
  {
   "cell_type": "markdown",
   "metadata": {},
   "source": [
    "### 예외를 발생(raise)시키다"
   ]
  },
  {
   "cell_type": "code",
   "execution_count": null,
   "metadata": {},
   "outputs": [],
   "source": [
    "try:\n",
    "    raise ValueError(\"Some message\")\n",
    "except ValueError as e:\n",
    "    print(e)    # 예외 메시지를 표시"
   ]
  },
  {
   "cell_type": "markdown",
   "metadata": {},
   "source": [
    "### 역추적(traceback)을 표시한다"
   ]
  },
  {
   "cell_type": "code",
   "execution_count": null,
   "metadata": {},
   "outputs": [],
   "source": [
    "# print_exc()에서 역추적 표시\n",
    "import traceback\n",
    "try:\n",
    "    spam += 1              # 의도적으로 예외(NameError)를 발생\n",
    "except:\n",
    "    traceback.print_exc()  # 역추적 표시"
   ]
  },
  {
   "cell_type": "code",
   "execution_count": null,
   "metadata": {},
   "outputs": [],
   "source": [
    "# format_exc ()에서 추적을 문자열로 받기\n",
    "# print_exc ()에서 예외 보기\n",
    "import traceback\n",
    "try:\n",
    "    spam += 1              # 의도적으로 예외(NameError)를 발생\n",
    "except:\n",
    "    e = traceback.format_exc() # 역추적을 문자열로 받기\n",
    "    print(e)               # 역추적 표시"
   ]
  },
  {
   "cell_type": "code",
   "execution_count": null,
   "metadata": {},
   "outputs": [],
   "source": []
  }
 ],
 "metadata": {
  "kernelspec": {
   "display_name": "Python 3",
   "language": "python",
   "name": "python3"
  },
  "language_info": {
   "codemirror_mode": {
    "name": "ipython",
    "version": 3
   },
   "file_extension": ".py",
   "mimetype": "text/x-python",
   "name": "python",
   "nbconvert_exporter": "python",
   "pygments_lexer": "ipython3",
   "version": "3.6.4"
  }
 },
 "nbformat": 4,
 "nbformat_minor": 1
}
