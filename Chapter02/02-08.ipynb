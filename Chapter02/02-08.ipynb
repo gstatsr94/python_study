{
 "cells": [
  {
   "cell_type": "markdown",
   "metadata": {},
   "source": [
    "# Chapter02-08\n",
    "## 모듈 사용"
   ]
  },
  {
   "cell_type": "markdown",
   "metadata": {},
   "source": [
    "### 모듈 import(가져 오기)"
   ]
  },
  {
   "cell_type": "code",
   "execution_count": null,
   "metadata": {},
   "outputs": [],
   "source": [
    "# random 모듈의 Import\n",
    "import random                 # 랜덤 모듈을 읽기\n",
    "\n",
    "print(random.random())        # 0 < x < 1의 난수를 얻음\n",
    "print(random.randint(0, 6))   # 0 <= x <= 6의 난수를 얻음\n",
    "a_list = [0, 1, 2, 3, 4, 5]\n",
    "random.shuffle(a_list)        # 리스트를 임의로 교체\n",
    "print(a_list)\n",
    "print(random.choice(a_list))  # 리스트의 요소를 1개 랜덤으로 선택"
   ]
  },
  {
   "cell_type": "markdown",
   "metadata": {},
   "source": [
    "### import.as"
   ]
  },
  {
   "cell_type": "code",
   "execution_count": null,
   "metadata": {},
   "outputs": [],
   "source": [
    "# plt라는 이름으로 matplotlib.pyplot import하기\n",
    "import matplotlib.pyplot as plt  \n",
    "\n",
    "# 그래프를 표시하기 위한 선언문\n",
    "%matplotlib inline\n",
    "\n",
    "pravda_team = [127, 172, 140, 160, 174]\n",
    "plt.bar([1, 2, 3, 4, 5], pravda_team)  # plt를 사용하여 그래프를 그림"
   ]
  },
  {
   "cell_type": "markdown",
   "metadata": {},
   "source": [
    "### from을 사용한 import"
   ]
  },
  {
   "cell_type": "code",
   "execution_count": null,
   "metadata": {},
   "outputs": [],
   "source": [
    "# median() 함수의 import\n",
    "# statistics 모듈의 median 함수를 사용하여 평균을 계산\n",
    "from statistics import median\n",
    "\n",
    "monk_fish_team = [158, 157, 163, 157, 145]\n",
    "volleyball_team = [143, 167, 170, 165]\n",
    "print(median(monk_fish_team))    # 함수 이름만 불러낼 수 있음\n",
    "print(median(volleyball_team))   # 함수 이름만 불러낼 수 있음"
   ]
  },
  {
   "cell_type": "code",
   "execution_count": null,
   "metadata": {},
   "outputs": [],
   "source": []
  }
 ],
 "metadata": {
  "kernelspec": {
   "display_name": "Python 3",
   "language": "python",
   "name": "python3"
  },
  "language_info": {
   "codemirror_mode": {
    "name": "ipython",
    "version": 3
   },
   "file_extension": ".py",
   "mimetype": "text/x-python",
   "name": "python",
   "nbconvert_exporter": "python",
   "pygments_lexer": "ipython3",
   "version": "3.6.4"
  }
 },
 "nbformat": 4,
 "nbformat_minor": 1
}
