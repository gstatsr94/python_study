{
 "cells": [
  {
   "cell_type": "markdown",
   "metadata": {},
   "source": [
    "# Chapter 02-07\n",
    "## 함수를 사용"
   ]
  },
  {
   "cell_type": "markdown",
   "metadata": {},
   "source": [
    "### 함수란"
   ]
  },
  {
   "cell_type": "code",
   "execution_count": null,
   "metadata": {},
   "outputs": [],
   "source": [
    "# 리스트의 값을 합하는 프로그램\n",
    "the_list = [101, 123, 152, 123]\n",
    "summary = 0                 # 합계를 위한 변수를 만듦\n",
    "for item in the_list:       # 리스트로 루프를 적용\n",
    "    summary = summary+item  # 리스트의 요소를 합계\n",
    "\n",
    "summary                     # 합계를 표시"
   ]
  },
  {
   "cell_type": "code",
   "execution_count": null,
   "metadata": {},
   "outputs": [],
   "source": [
    "sum(the_list)  # 함수 sum()을 사용하는 것이 간단하고 쉽다."
   ]
  },
  {
   "cell_type": "markdown",
   "metadata": {},
   "source": [
    "### 함수를 호출"
   ]
  },
  {
   "cell_type": "code",
   "execution_count": null,
   "metadata": {},
   "outputs": [],
   "source": [
    "# abs() 함수의 실행 사례\n",
    "abs(10)    # 절대값을 반환하는 함수를 호출"
   ]
  },
  {
   "cell_type": "code",
   "execution_count": null,
   "metadata": {},
   "outputs": [],
   "source": [
    "# abs() 함수의 실행 사례\n",
    "abs(-200)"
   ]
  },
  {
   "cell_type": "markdown",
   "metadata": {},
   "source": [
    "### 함수의 인수"
   ]
  },
  {
   "cell_type": "code",
   "execution_count": null,
   "metadata": {},
   "outputs": [],
   "source": [
    "# int() 함수의 실행 사례\n",
    "int(\"100\")              # 문자열을 10진수의 수치로 변환"
   ]
  },
  {
   "cell_type": "code",
   "execution_count": null,
   "metadata": {},
   "outputs": [],
   "source": [
    "# int() 함수의 실행 사례\n",
    "# 인수가 같은 함수에서도 동작이 바뀐다.\n",
    "int(\"100\", 2)           # 문자열을 2진수의 수치에 만들어 변환"
   ]
  },
  {
   "cell_type": "code",
   "execution_count": null,
   "metadata": {},
   "outputs": [],
   "source": [
    "# int() 함수의 실행 사례\n",
    "int(\"100\", 16)          # 문자열을 16진수의 수치에 만들어 변환"
   ]
  },
  {
   "cell_type": "markdown",
   "metadata": {},
   "source": [
    "### 함수의 정의"
   ]
  },
  {
   "cell_type": "code",
   "execution_count": null,
   "metadata": {},
   "outputs": [],
   "source": [
    "# destiny_tank() 함수의 정의\n",
    "def destiny_tank():\n",
    "    tanks = [\"IV호 전차 D형\", \"III호 전차 J형\", \"처칠 Mk.VII\",\n",
    "             \"M4 셔먼\", \"P40 중전차\", \"T-34/76\"]  # 전차의 리스트\n",
    "    num = input(\"좋아하는 숫자를 입력하세요:\")         #숫자를 입력\n",
    "    idx = int(num) % len(tanks)        # 입력값을 리스트의 인수로 변환\n",
    "    print(\"당신의 운명의 전차는 \")\n",
    "    print(tanks[idx])                  # 결과를 표시"
   ]
  },
  {
   "cell_type": "code",
   "execution_count": null,
   "metadata": {},
   "outputs": [],
   "source": [
    "# 함수를 호출하면 양식이 나타난다.\n",
    "# 폼에 숫자를 입력하고 리턴을 누르면\n",
    "# 운명의 전차가 나타난다.\n",
    "destiny_tank()      "
   ]
  },
  {
   "cell_type": "markdown",
   "metadata": {},
   "source": [
    "### 인수를 정의"
   ]
  },
  {
   "cell_type": "code",
   "execution_count": null,
   "metadata": {},
   "outputs": [],
   "source": [
    "# 인수를 갖는 함수의 정의\n",
    "def destiny_tank2(num):\n",
    "    tanks = [\"IV호 전차 D형\", \"III호 전차 J형\", \"처칠 Mk.VII\",\n",
    "             \"M4 셔먼\", \"P40 중전차\", \"T-34/76\"]  # 전차의 리스트\n",
    "    idx = num % len(tanks)             # 입력값을 리스트의 인수로 변환\n",
    "    print(\"당신의 운명의 전차는 \")\n",
    "    print(tanks[idx])                  # 결과를 표시"
   ]
  },
  {
   "cell_type": "code",
   "execution_count": null,
   "metadata": {},
   "outputs": [],
   "source": [
    "# destiny_tank2() 함수의 실행 사례\n",
    "# 인수를 주고 함수를 호출\n",
    "num_str = input(\"좋아하는 숫자를 입력하세요:\")    # 입력 윈도우를 표시\n",
    "num = int(num_str)                         # 문자열을 수치로 변환\n",
    "destiny_tank2(num)                         # 수치를 함수에 전달"
   ]
  },
  {
   "cell_type": "code",
   "execution_count": null,
   "metadata": {},
   "outputs": [],
   "source": [
    "# 랜덤한 결과를 되돌려 줌\n",
    "# 난수를 사용하여 운명의 전차 추천 받기\n",
    "from random import randint\n",
    "num = randint(0, 10)        # 난수를 생성\n",
    "destiny_tank2(num)          # 생성한 난수를 함수에 전달"
   ]
  },
  {
   "cell_type": "markdown",
   "metadata": {},
   "source": [
    "### 함수의 반환"
   ]
  },
  {
   "cell_type": "code",
   "execution_count": null,
   "metadata": {},
   "outputs": [],
   "source": [
    "# 반환값을 갖는 함수의 정의\n",
    "# 행운의 전차 반환값으로 결과를 반환\n",
    "def destiny_tank3(num):\n",
    "    tanks = [\"IV호 전차 D형\", \"III호 전차 J형\", \"처칠 Mk.VII\",\n",
    "             \"M4 셔먼\", \"P40 중전차\", \"T-34/76\"]  # 전차의 리스트\n",
    "    idx = num % len(tanks)             # 입력값을 리스트의 인수로 변환\n",
    "    return tanks[idx]                  # 결과를 반환값으로 되돌려 줌"
   ]
  },
  {
   "cell_type": "code",
   "execution_count": null,
   "metadata": {},
   "outputs": [],
   "source": [
    "# destiny_tank3() 함수의 실행 사례\n",
    "# 반환값으로 된 전차 이름을 표시하려면\n",
    "from random import randint\n",
    "num = randint(0, 10)\n",
    "tank = destiny_tank3(num)\n",
    "print(\"오늘 당신이 타야 할 행운의 전차는 \", tank, \"입니다.\")"
   ]
  },
  {
   "cell_type": "markdown",
   "metadata": {},
   "source": [
    "### 지역 변수"
   ]
  },
  {
   "cell_type": "code",
   "execution_count": null,
   "metadata": {},
   "outputs": [],
   "source": [
    "# 지역 변수를 함수의 밖에서 쓰는 경우\n",
    "def test_func(arg1):\n",
    "    # 수치의 인수에 100을 더하고 표시하는 함수\n",
    "    inner_var = 100\n",
    "    print(arg1+inner_var)\n",
    "\n",
    "test_func(10)       # 함수를 호출 –110으로 표시된다\n",
    "print(inner_var)    # 함수 내에서 정의한 변수를 표시(오류가 됨)"
   ]
  },
  {
   "cell_type": "markdown",
   "metadata": {},
   "source": [
    "### 반복 사용하는 코드를 함수로 정리"
   ]
  },
  {
   "cell_type": "code",
   "execution_count": null,
   "metadata": {},
   "outputs": [],
   "source": [
    "# 지역 변수를 함수의 밖에서 쓰는 경우\n",
    "# 신장 목록에서 분산을 계산했을 때의 코드(길고 같은 처리가 중복 ...)\n",
    "monk_fish_team = [158, 157, 163, 157, 145]\n",
    "\n",
    "total = sum(monk_fish_team)    # 리스트의 합계\n",
    "length = len(monk_fish_team)   # 리스트의 요소 수(길이)\n",
    "mean = total/length            # 평균을 계산\n",
    "variance = 0                   # 분산을 계산하기 위한 변수\n",
    "\n",
    "for height in monk_fish_team:\n",
    "    variance = variance+(height-mean)**2 # 신장에서 평균을 빼고 제곱을 더함\n",
    "\n",
    "variance = variance/length     # 더한 수치를 요소 수로 나누어 분산을 구함\n",
    "\n",
    "volleyball_team = [143, 167, 170, 165]\n",
    "\n",
    "total2 = sum(volleyball_team)    # 리스트의 합계\n",
    "length2 = len(volleyball_team)   # 리스트의 요소 수(길이)\n",
    "mean2 = total2/length2           # 평균을 구함\n",
    "variance2 = 0                    # 분산을 계산하기 위한 변수\n",
    "\n",
    "for height in volleyball_team:\n",
    "    variance2 = variance2+(height-mean)**2 # 신장에서 평균을 빼고 제곱을 더함\n",
    "\n",
    "variance2 = variance2/length2  # 더한 수치를 요소 수로 나누어 분산을 구함\n",
    "print(variance, variance2)     # 결과 보기"
   ]
  },
  {
   "cell_type": "code",
   "execution_count": null,
   "metadata": {},
   "outputs": [],
   "source": [
    "# calc_variance() 함수의 정의\n",
    "# 공통 부분을 정리한 함수\n",
    "def calc_variance(a_list):\n",
    "    # 분산을 요구하는 함수\n",
    "    total = sum(a_list)    # 리스트의 합계\n",
    "    length = len(a_list)   # 리스트의 요소 수(길이)\n",
    "    mean = total/length    # 평균을 구함\n",
    "    variance = 0           # 분산을 계산하기 위한 변수\n",
    "\n",
    "    for height in a_list:\n",
    "        variance = variance+(height-mean)**2 # 신장에서 평균을 빼고 제곱을 더함\n",
    "    variance = variance/len(monk_fish_team)  # 더한 수치를 요소 수로 나누어 분산을 구함\n",
    "\n",
    "    return variance     # 요구 분산을 반환값으로 돌려줌"
   ]
  },
  {
   "cell_type": "code",
   "execution_count": null,
   "metadata": {},
   "outputs": [],
   "source": [
    "# calc_variance() 함수의 실행 사례\n",
    "# 함수를 사용하여 분산과 표준 편차를 계산하는\n",
    "# 리스트를 정의한다\n",
    "monk_fish_team = [158, 157, 163, 157, 145]\n",
    "volleyball_team = [143, 167, 170, 165]\n",
    "pravda_team = [127, 172, 140, 160, 174]\n",
    "\n",
    "# 분산을 계산하다\n",
    "monk_team_variance = calc_variance(monk_fish_team)\n",
    "volley_team_variance = calc_variance(volleyball_team)\n",
    "pravda_team_variance = calc_variance(pravda_team)\n",
    "\n",
    "# 표준 편차를 계산하다\n",
    "print(monk_team_variance**0.5)\n",
    "print(volley_team_variance**0.5)\n",
    "print(pravda_team_variance**0.5)"
   ]
  },
  {
   "cell_type": "code",
   "execution_count": null,
   "metadata": {},
   "outputs": [],
   "source": []
  }
 ],
 "metadata": {
  "kernelspec": {
   "display_name": "Python 3",
   "language": "python",
   "name": "python3"
  },
  "language_info": {
   "codemirror_mode": {
    "name": "ipython",
    "version": 3
   },
   "file_extension": ".py",
   "mimetype": "text/x-python",
   "name": "python",
   "nbconvert_exporter": "python",
   "pygments_lexer": "ipython3",
   "version": "3.6.4"
  }
 },
 "nbformat": 4,
 "nbformat_minor": 1
}
