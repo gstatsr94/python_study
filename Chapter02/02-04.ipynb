{
 "cells": [
  {
   "cell_type": "markdown",
   "metadata": {},
   "source": [
    "# Chapter 02-04\n",
    "## 리스트 사용"
   ]
  },
  {
   "cell_type": "markdown",
   "metadata": {},
   "source": [
    "### 리스트 정의"
   ]
  },
  {
   "cell_type": "code",
   "execution_count": null,
   "metadata": {},
   "outputs": [],
   "source": [
    "# 도쿄의 낮 평균 기온 (1950년부터 2000년까지)\n",
    "# 변수 리스트를 할당\n",
    "tokyo_temps = [15.1, 15.4, 15.2, 15.4, 17.0, 16.9]"
   ]
  },
  {
   "cell_type": "code",
   "execution_count": null,
   "metadata": {},
   "outputs": [],
   "source": [
    "# 그래프의 표시 준비\n",
    "%matplotlib inline\n",
    "import matplotlib.pyplot as plt"
   ]
  },
  {
   "cell_type": "code",
   "execution_count": null,
   "metadata": {},
   "outputs": [],
   "source": [
    "# 그래프의 표시\n",
    "plt.plot(tokyo_temps)"
   ]
  },
  {
   "cell_type": "markdown",
   "metadata": {},
   "source": [
    "### 인덱스(index)를 사용하여 요소를 추출"
   ]
  },
  {
   "cell_type": "code",
   "execution_count": null,
   "metadata": {},
   "outputs": [],
   "source": [
    "tokyo_temps[0]   # 1950년의 평균 기온"
   ]
  },
  {
   "cell_type": "code",
   "execution_count": null,
   "metadata": {},
   "outputs": [],
   "source": [
    "# 2000년까지 50년 평균 기온이 몇도 올랐는지 계산\n",
    "# 리스트 요소의 뺄셈\n",
    "tokyo_temps[5]-tokyo_temps[0]"
   ]
  },
  {
   "cell_type": "markdown",
   "metadata": {},
   "source": [
    "계산 결과가 1.8이 되지 않는 것이 이상한 사람은 다음을 참고[기사](http://web.archive.org/web/20160506221107/http://pc.nikkeibp.co.jp/pc21/special/gosa/eg4.shtml)\n",
    "\n",
    "또한 (파이썬에서 클래를 사용)에도 쉽게 설명하고 있다"
   ]
  },
  {
   "cell_type": "code",
   "execution_count": null,
   "metadata": {},
   "outputs": [],
   "source": [
    "# 인덱스에 -1을 주고 같은 온도 차이를 계산\n",
    "# 리스트의 마지막 요소를 지정\n",
    "tokyo_temps[-1]-tokyo_temps[0]"
   ]
  },
  {
   "cell_type": "markdown",
   "metadata": {},
   "source": [
    "### 리스트의 연결"
   ]
  },
  {
   "cell_type": "code",
   "execution_count": null,
   "metadata": {},
   "outputs": [],
   "source": [
    "# 리스트에 1900년부터 1940년의 평균 기온 추가\n",
    "# 리스트의 덧셈\n",
    "e_tokyo_temps = [13.6, 13.5, 14.2, 14.8, 14.8]\n",
    "tokyo_temps2 = e_tokyo_temps+tokyo_temps"
   ]
  },
  {
   "cell_type": "code",
   "execution_count": null,
   "metadata": {},
   "outputs": [],
   "source": [
    "# 그래프의 표시\n",
    "plt.plot(tokyo_temps2)"
   ]
  },
  {
   "cell_type": "markdown",
   "metadata": {},
   "source": [
    "### 요소의 변경 삭제"
   ]
  },
  {
   "cell_type": "code",
   "execution_count": null,
   "metadata": {},
   "outputs": [],
   "source": [
    "# 문자열의 리스트를 정의하고 내용보기\n",
    "# 리스트 \"mcz\" 만들기\n",
    "mcz = [\"AB\", \"CD\", \"EF\", \"GH\", \"IJ\", \"KL\"]\n",
    "mcz"
   ]
  },
  {
   "cell_type": "code",
   "execution_count": null,
   "metadata": {},
   "outputs": [],
   "source": [
    "# 여섯 번째[5] 요소를 다시 작성\n",
    "mcz[5] = 'ZY'\n",
    "mcz                 # 변경 후 리스트 확인"
   ]
  },
  {
   "cell_type": "code",
   "execution_count": null,
   "metadata": {},
   "outputs": [],
   "source": [
    "# 요소의 제거\n",
    "del mcz[0]\n",
    "mcz            # 변경 후 리스트 확인"
   ]
  },
  {
   "cell_type": "markdown",
   "metadata": {},
   "source": [
    "### 슬라이스를 이용하여 여러 요소를 추출"
   ]
  },
  {
   "cell_type": "code",
   "execution_count": null,
   "metadata": {},
   "outputs": [],
   "source": [
    "# 인덱스 1부터 2까지의 요소를 슬라이스로 검색\n",
    "# 슬라이스의 사용 예\n",
    "momotamai = mcz[1:3]\n",
    "momotamai"
   ]
  },
  {
   "cell_type": "code",
   "execution_count": null,
   "metadata": {},
   "outputs": [],
   "source": [
    "# 슬라이스 왼쪽 인덱스를 생략하면 처음부터 추출\n",
    "# 슬라이스의 사용 예\n",
    "mcz[:2]"
   ]
  },
  {
   "cell_type": "code",
   "execution_count": null,
   "metadata": {},
   "outputs": [],
   "source": [
    "# 오른쪽 인덱스를 생략하면 마지막까지 추출\n",
    "# 슬라이스의 사용 예\n",
    "mcz[1:]"
   ]
  },
  {
   "cell_type": "markdown",
   "metadata": {},
   "source": [
    "### 리스트의 리스트 － 2 차원 배열"
   ]
  },
  {
   "cell_type": "markdown",
   "metadata": {},
   "source": [
    "\n",
    "|도시 이름/년|1930|1940|1950|1960|1970|1980|1990|2000|\n",
    "|-----|----|----|----|----|----|----|----|----|\n",
    "|도쿄도|14.8|14.8|15.1|15.4|15.2|15.4|17.0|16.9|\n",
    "|아키타시|10.0|10.4|11.5|11.2|10.9|10.6|11.8|12.2|\n",
    "|구마모토시|16.0|15.5|15.9|16.4|15.9|15.6|17.5|17.1|\n"
   ]
  },
  {
   "cell_type": "code",
   "execution_count": null,
   "metadata": {},
   "outputs": [],
   "source": [
    "# 각 도시의 평균 기온 리스트\n",
    "city_temps = [\n",
    "#도쿄의 평균 기온\n",
    "[14.8, 14.8, 15.1, 15.4, 15.2, 15.4, 17.0, 16.9],\n",
    "#아키타시의 평균 기온\n",
    "[10.0, 10.4, 11.5, 11.2, 10.9, 10.6, 11.8, 12.2],\n",
    "#구마모토시의 평균 기온\n",
    "[16.0, 15.5, 15.9, 16.4, 15.9, 15.6, 17.5, 17.1]\n",
    "]"
   ]
  },
  {
   "cell_type": "code",
   "execution_count": null,
   "metadata": {},
   "outputs": [],
   "source": [
    "# 아키타시의 평균 기온 리스트 보기\n",
    "city_temps[1]"
   ]
  },
  {
   "cell_type": "code",
   "execution_count": null,
   "metadata": {},
   "outputs": [],
   "source": [
    "# 평균 기온 비교\n",
    "city_temps[2][7]- city_temps[2][0]"
   ]
  },
  {
   "cell_type": "code",
   "execution_count": null,
   "metadata": {},
   "outputs": [],
   "source": [
    "# 3개 도시의 평균 기온 그래프 그리기\n",
    "plt.plot(city_temps[0])       # 도쿄도의 그래프 그리기\n",
    "plt.plot(city_temps[1])       # 아키타시의 그래프 그리기\n",
    "plt.plot(city_temps[2])       # 구마모토시의 그래프 그리기"
   ]
  },
  {
   "cell_type": "markdown",
   "metadata": {},
   "source": [
    "### 리스트의 합계 최대값, 최소값"
   ]
  },
  {
   "cell_type": "code",
   "execution_count": null,
   "metadata": {},
   "outputs": [],
   "source": [
    "monk_fish_team = [158, 157, 163, 157, 145]\n",
    "sum(monk_fish_team)   # 리스트의 합계를 계산"
   ]
  },
  {
   "cell_type": "code",
   "execution_count": null,
   "metadata": {},
   "outputs": [],
   "source": [
    "max(monk_fish_team)   # 최대 값 계산"
   ]
  },
  {
   "cell_type": "code",
   "execution_count": null,
   "metadata": {},
   "outputs": [],
   "source": [
    "min(monk_fish_team)   # 최소 값 계산"
   ]
  },
  {
   "cell_type": "markdown",
   "metadata": {},
   "source": [
    "### 리스트의 항목 수를 측정"
   ]
  },
  {
   "cell_type": "code",
   "execution_count": null,
   "metadata": {},
   "outputs": [],
   "source": [
    "len(monk_fish_team)   # 리스트의 길이(항목 수)를 조사"
   ]
  },
  {
   "cell_type": "code",
   "execution_count": null,
   "metadata": {},
   "outputs": [],
   "source": [
    "# 합계, 리스트 길이의 응용 - 평균을 계산\n",
    "monk_sum = sum(monk_fish_team)    # 합계를 계산\n",
    "monk_len = len(monk_fish_team)    # 길이를 측정\n",
    "monk_mean = monk_sum/monk_len     # 평균을 계산\n",
    "monk_mean"
   ]
  },
  {
   "cell_type": "code",
   "execution_count": null,
   "metadata": {},
   "outputs": [],
   "source": [
    "# 신장 그래프를 그리기\n",
    "\n",
    "plt.bar([0, 1, 2, 3, 4], monk_fish_team)\n",
    "plt.plot([0, len(monk_fish_team)], [monk_mean, monk_mean], color='red')"
   ]
  },
  {
   "cell_type": "code",
   "execution_count": null,
   "metadata": {},
   "outputs": [],
   "source": []
  }
 ],
 "metadata": {
  "kernelspec": {
   "display_name": "Python 3",
   "language": "python",
   "name": "python3"
  },
  "language_info": {
   "codemirror_mode": {
    "name": "ipython",
    "version": 3
   },
   "file_extension": ".py",
   "mimetype": "text/x-python",
   "name": "python",
   "nbconvert_exporter": "python",
   "pygments_lexer": "ipython3",
   "version": "3.6.4"
  }
 },
 "nbformat": 4,
 "nbformat_minor": 1
}
