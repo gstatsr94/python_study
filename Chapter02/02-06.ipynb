{
 "cells": [
  {
   "cell_type": "markdown",
   "metadata": {},
   "source": [
    "# Chapter 02-06\n",
    "## if문에서 조건 분기"
   ]
  },
  {
   "cell_type": "code",
   "execution_count": null,
   "metadata": {},
   "outputs": [],
   "source": [
    "# if문의 예(4개의 2로 10을 만들자)\n",
    "# 10이 될지 어떨지를 조사\n",
    "# 조건식이 성립 때만 블록의 print() 함수가 실행된다.\n",
    "\n",
    "if 2*2*2+2 == 10:\n",
    "    print(\"2*2*2+2는 10\")\n",
    "if 2+2*2+2 == 10:\n",
    "    print(\"2+2*2+2는 10\")\n",
    "if (2+2)*2+2 == 10:\n",
    "    print(\"(2+2)*2+2는 10\")"
   ]
  },
  {
   "cell_type": "markdown",
   "metadata": {},
   "source": [
    "### 수치를 비교"
   ]
  },
  {
   "cell_type": "code",
   "execution_count": null,
   "metadata": {},
   "outputs": [],
   "source": [
    "# 조건식이 성립 때만 블록의 print() 함수가 실행된다\n",
    "if 1 == 1:\n",
    "    print(\"첫째는 True\")\n",
    "if 5^(4-4)+9 == 10:\n",
    "    print(\"2번째는 True\")\n",
    "if 2 < len([0, 1, 2]):\n",
    "    print(\"3번째는 True\")\n",
    "if sum([1, 2, 3, 4]) < 10:\n",
    "    print(\"4번째는 True\")"
   ]
  },
  {
   "cell_type": "markdown",
   "metadata": {},
   "source": [
    "### 문자열을 비교"
   ]
  },
  {
   "cell_type": "code",
   "execution_count": null,
   "metadata": {},
   "outputs": [],
   "source": [
    "# 문장ㄹ을 비교하는 조건식의 예\n",
    "if \"AUG\" == \"AUG\":\n",
    "    print(\"첫째는 True\")\n",
    "if \"AUG\" == \"aug\":\n",
    "    print(\"2번째는 True\")\n",
    "if \"가나다\" == \"가나다\":\n",
    "    print(\"3번째는 True\")"
   ]
  },
  {
   "cell_type": "markdown",
   "metadata": {},
   "source": [
    "### 문자열을 검색"
   ]
  },
  {
   "cell_type": "code",
   "execution_count": null,
   "metadata": {},
   "outputs": [],
   "source": [
    "# in 연산자를 사용한 문자열 검색\n",
    "if \"GAG\" in \"AUGACGGAGCUU\":\n",
    "    print(\"첫째는 True\")\n",
    "if \"사랑과 전쟁은 모든 것이 정당화되어\" in \"정당화\":\n",
    "    print(\"2번째는 True\")\n",
    "if \"stumble\" in \"A horse may stumble though he has four legs\":\n",
    "    print(\"3번째는 True\")"
   ]
  },
  {
   "cell_type": "markdown",
   "metadata": {},
   "source": [
    "### 리스트를 비교"
   ]
  },
  {
   "cell_type": "code",
   "execution_count": null,
   "metadata": {},
   "outputs": [],
   "source": [
    "# 리스트를 비교하는 조건식의 예\n",
    "if [1, 2, 3, 4] == [1, 2, 3, 4]:\n",
    "    print(\"첫째는 True\")\n",
    "if [1, 2, 3] == [2, 3]:\n",
    "    print(\"2번째는 True\")\n",
    "if [1, 2, 3] == ['1', '2', '3']:\n",
    "    print(\"3번째는 True\")"
   ]
  },
  {
   "cell_type": "markdown",
   "metadata": {},
   "source": [
    "### 리스트의 요소를 검색"
   ]
  },
  {
   "cell_type": "code",
   "execution_count": null,
   "metadata": {},
   "outputs": [],
   "source": [
    "# 리스트 내의 요소를 알아보는 조건식 사례 1\n",
    "if 2 in [2, 3, 5, 7, 11]:\n",
    "    print(\"첫째는 True\")\n",
    "if 21 in [13, 17, 19, 23, 29]:\n",
    "    print(\"2번째는 True\")\n",
    "if '대구' in ['서울', '대구', '부산']:\n",
    "    print(\"3번째는 True\")"
   ]
  },
  {
   "cell_type": "code",
   "execution_count": null,
   "metadata": {},
   "outputs": [],
   "source": [
    "# 리스트 내의 요소를 알아보는 조건식 사례 2\n",
    "# 목록의 비교에서는 in 왼쪽에 리스트가 오는 경우에 주의\n",
    "if 1 in [0, 1, 2, 3, 4]:\n",
    "    print(\"첫째는 True\")\n",
    "if [1, 2] in [0, 1, 2, 3, 4]:\n",
    "    print(\"2번째는 True\")\n",
    "if [1, 2] in [0, 1, [1, 2], 3, 4]:\n",
    "    print(\"3번째는 True\")"
   ]
  },
  {
   "cell_type": "markdown",
   "metadata": {},
   "source": [
    "### else문을 사용"
   ]
  },
  {
   "cell_type": "code",
   "execution_count": null,
   "metadata": {},
   "outputs": [],
   "source": [
    "# else문 사용 사례\n",
    "# 식 1\n",
    "if 2^3-2+4 == 10:                \n",
    "    print(\"식 1은 10\")            #식 1의 결과에 따라서 둘 중의 하나가 실행\n",
    "else:\n",
    "    print(\"식 1은 10이 아닙니다\")    #식 1의 결과에 따라서 둘 중의 하나가 실행\n",
    "    \n",
    "# 식 2\n",
    "if 2**3-2+4 == 10:               \n",
    "    print(\"식 2는 10\")            #식 2의 결과에 따라서 둘 중의 하나가 실행\n",
    "else:\n",
    "    print(\"식 2는 10이 아닙니다\")    #식 2의 결과에 따라서 둘 중의 하나가 실행"
   ]
  },
  {
   "cell_type": "markdown",
   "metadata": {},
   "source": [
    "### elif문의 사용"
   ]
  },
  {
   "cell_type": "code",
   "execution_count": null,
   "metadata": {},
   "outputs": [],
   "source": [
    "# 2중 if문을 사용한 사례\n",
    "# if를 다단 중첩하면 들여 쓰기가 깊어지고 코드가 어렵게 보인다.\n",
    "a_year = 2080\n",
    "if a_year >= 1993:                  # 식 1\n",
    "    # 출생 연도 또는 그 이후의 경우\n",
    "    if a_year == 1993:              # 식 2\n",
    "        print(a_year, \"년에 태어남\")   # 식 1, 식 2 모두 참일 때 실행\n",
    "    else:\n",
    "        print(a_year, \"년은 \", a_year-1993, \"세\")    # 식 1은 참이지만 식 2가 거짓일 때 실행"
   ]
  },
  {
   "cell_type": "code",
   "execution_count": null,
   "metadata": {},
   "outputs": [],
   "source": [
    "# elif문 사용 사례\n",
    "# elif를 사용하면 동일한 작업을 깔끔하게 할 수 있다.\n",
    "a_year = 2080\n",
    "if a_year == 1993:\n",
    "    print(a_year, \"년에 태어남\")\n",
    "elif a_year > 1993:\n",
    "    print(a_year, \"년은 \", a_year-1993, \"세\")"
   ]
  },
  {
   "cell_type": "code",
   "execution_count": null,
   "metadata": {},
   "outputs": [],
   "source": [
    "# for문으로 if문을 조합한 사례\n",
    "# a_num가 소수의 경우에는 아무것도 표시되지 않는다.\n",
    "# 소수가 아닌 때에는 소수가 아니란 것을 표시한다.\n",
    "\n",
    "# a_num에 대입하는 수치를 바꾸어 셀을 실행하면 다양한 숫자에 대한\n",
    "# 소수 여부를 확인할 수 있다.\n",
    "\n",
    "a_num = 57            # 소수인지 알아보는 수\n",
    "for num in range(2, a_num):  # 2부터 a_num-1까지 반복\n",
    "    if a_num % num == 0:     # a_num을 num으로 나누어지는지 확인\n",
    "        print(a_num, \"은(는) 소수가 아닙니다.\")\n",
    "        break"
   ]
  },
  {
   "cell_type": "code",
   "execution_count": null,
   "metadata": {},
   "outputs": [],
   "source": []
  }
 ],
 "metadata": {
  "kernelspec": {
   "display_name": "Python 3",
   "language": "python",
   "name": "python3"
  },
  "language_info": {
   "codemirror_mode": {
    "name": "ipython",
    "version": 3
   },
   "file_extension": ".py",
   "mimetype": "text/x-python",
   "name": "python",
   "nbconvert_exporter": "python",
   "pygments_lexer": "ipython3",
   "version": "3.6.4"
  }
 },
 "nbformat": 4,
 "nbformat_minor": 1
}
