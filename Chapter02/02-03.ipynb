{
 "cells": [
  {
   "cell_type": "markdown",
   "metadata": {},
   "source": [
    "# Chapter 02-03\n",
    "## 문자열을 사용"
   ]
  },
  {
   "cell_type": "markdown",
   "metadata": {},
   "source": [
    "### 문자열 정의"
   ]
  },
  {
   "cell_type": "code",
   "execution_count": null,
   "metadata": {},
   "outputs": [],
   "source": [
    "# 문자를 따옴표 (따옴표)로 묶으면 문자열이다\n",
    "# 등호의 왼쪽에 있는 문자는 변수이다\n",
    "# 등호의 오른쪽에있는 따옴표로 둘러싸인 문자가 문자열이다\n",
    "spam = \"spam\""
   ]
  },
  {
   "cell_type": "code",
   "execution_count": null,
   "metadata": {},
   "outputs": [],
   "source": [
    "psy = \"오빤 강남스타일 \"    # 문자열을 변수에 할당"
   ]
  },
  {
   "cell_type": "markdown",
   "metadata": {},
   "source": [
    "### 문자열 연결"
   ]
  },
  {
   "cell_type": "code",
   "execution_count": null,
   "metadata": {},
   "outputs": [],
   "source": [
    "# 문자열을 연결\n",
    "psy = \"오빤 강남스타일 \" \n",
    "psy = psy+\"오, 강남스타일\"\n",
    "psy      # 연결 문자열을 확인"
   ]
  },
  {
   "cell_type": "markdown",
   "metadata": {},
   "source": [
    "### 복합 연산자"
   ]
  },
  {
   "cell_type": "code",
   "execution_count": null,
   "metadata": {},
   "outputs": [],
   "source": [
    "# 복합 연산자를 사용해 보자\n",
    "psy2 = \"아름다워 사랑스러워 \"\n",
    "psy2 += \"그래 너, 그래 바로 너\"\n",
    "psy2       # 복합 연산자를 사용하여 연결 문자열을 확인 "
   ]
  },
  {
   "cell_type": "markdown",
   "metadata": {},
   "source": [
    "### Column : 문자열 정의의 응용"
   ]
  },
  {
   "cell_type": "code",
   "execution_count": null,
   "metadata": {},
   "outputs": [],
   "source": [
    "# 따옴표를 세 개 겹친 삼중 따옴표를 사용하면 줄 바꿈을 포함하는 문자열을 정의할 수 있다\n",
    "\n",
    "psy = \"\"\"낮에는 따사로운 인간적인 여자 \n",
    "커피 한잔의 여유를 아는 품격있는 여자 \n",
    "밤이 오면 심장이 뜨거워지는 여자 그런 반전 있는 여자\"\"\"\n",
    "psy"
   ]
  },
  {
   "cell_type": "markdown",
   "metadata": {},
   "source": [
    "### 형태를 갖추는 파이썬의 방식"
   ]
  },
  {
   "cell_type": "code",
   "execution_count": null,
   "metadata": {},
   "outputs": [],
   "source": [
    "# 다른 데이터 유형을 덧셈 한 경우의 오류\n",
    "day = 24\n",
    "date = day+\"일\"  # 이 코드를 실행하면 오류가 발생한다"
   ]
  },
  {
   "cell_type": "markdown",
   "metadata": {},
   "source": [
    "### 문자열과 수치의 변환 (형 변환)"
   ]
  },
  {
   "cell_type": "code",
   "execution_count": null,
   "metadata": {},
   "outputs": [],
   "source": [
    "# str() 함수를 사용\n",
    "day = 24             # 날짜의 수치\n",
    "str_day = str(day)   # 수치를 문자열로 변환하여 변수에 할당\n",
    "date = str_day+\"일\"  # 수치로 변환한 날짜와 문자열을 연결\n",
    "date"
   ]
  },
  {
   "cell_type": "code",
   "execution_count": null,
   "metadata": {},
   "outputs": [],
   "source": [
    "# 문자열을 숫자로 변환할 때 내장 함수를 사용\n",
    "int(\"200\")     # 문자열을 숫자(정수)로 변환"
   ]
  },
  {
   "cell_type": "code",
   "execution_count": null,
   "metadata": {},
   "outputs": [],
   "source": [
    "float(\"3.14159265358979\")  # 문자열을 숫자(부동 소수점)으로 변환"
   ]
  },
  {
   "cell_type": "code",
   "execution_count": null,
   "metadata": {},
   "outputs": [],
   "source": []
  }
 ],
 "metadata": {
  "kernelspec": {
   "display_name": "Python 3",
   "language": "python",
   "name": "python3"
  },
  "language_info": {
   "codemirror_mode": {
    "name": "ipython",
    "version": 3
   },
   "file_extension": ".py",
   "mimetype": "text/x-python",
   "name": "python",
   "nbconvert_exporter": "python",
   "pygments_lexer": "ipython3",
   "version": "3.6.4"
  }
 },
 "nbformat": 4,
 "nbformat_minor": 1
}
