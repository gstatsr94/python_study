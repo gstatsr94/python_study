{
 "cells": [
  {
   "cell_type": "markdown",
   "metadata": {},
   "source": [
    "# Chapter 02-05\n",
    "## for문에서 루프를 사용"
   ]
  },
  {
   "cell_type": "code",
   "execution_count": null,
   "metadata": {},
   "outputs": [],
   "source": [
    "# for문 루프를 사용하여 리스트의 요소를 하나씩 보기\n",
    "mcz = ['AB', 'CD', 'EF', 'GH', 'IJ']\n",
    "for member in mcz:\n",
    "    print(member)"
   ]
  },
  {
   "cell_type": "code",
   "execution_count": null,
   "metadata": {},
   "outputs": [],
   "source": [
    "# 루프가 끝난 후에도 리스트의 내용이 바뀌지 않았는지 확인\n",
    "mcz"
   ]
  },
  {
   "cell_type": "code",
   "execution_count": null,
   "metadata": {},
   "outputs": [],
   "source": [
    "# for문을 사용하여 분산을 계산\n",
    "# 몽크 피시 팀\n",
    "monk_fish_team = [158, 157, 163, 157, 145]\n",
    "\n",
    "total = sum(monk_fish_team)    # 리스트의 합계\n",
    "length = len(monk_fish_team)   # 리스트의 요소 수(길이)\n",
    "mean = total/length            # 평균을 구함\n",
    "variance = 0                   # 분산을 계산하기 위한 변수\n",
    "\n",
    "for height in monk_fish_team:\n",
    "    variance = variance+(height-mean)**2 # 키에서 평균을 빼고 제곱한 수를 더함\n",
    "\n",
    "variance = variance/length     # 더한 수치를 요소 수로 나누어 분산을 구함\n",
    "variance"
   ]
  },
  {
   "cell_type": "code",
   "execution_count": null,
   "metadata": {},
   "outputs": [],
   "source": [
    "# 분산의 루트를 계산하고 표준 편차를 계산\n",
    "variance**0.5"
   ]
  },
  {
   "cell_type": "code",
   "execution_count": null,
   "metadata": {},
   "outputs": [],
   "source": [
    "# 다른 리스트에서 표준 편차를 계산\n",
    "# 발리볼 팀\n",
    "volleyball_team = [143, 167, 170, 165]\n",
    "\n",
    "total2 = sum(volleyball_team)    # 리스트의 합계\n",
    "length2 = len(volleyball_team)   # 리스트의 요소 수(길이)\n",
    "mean2 = total2/length2           # 평균을 구함\n",
    "variance2 = 0                    # 분산을 계산하기 위한 변수\n",
    "\n",
    "for height in volleyball_team:\n",
    "    variance2 = variance2+(height-mean2)**2 # 신장에서 평균을 빼고 제곱한 수를 더함\n",
    "\n",
    "variance2 = variance2/length2  # 더한 수치를 요소 수로 나누어 분산을 구함\n",
    "variance2**0.5"
   ]
  },
  {
   "cell_type": "markdown",
   "metadata": {},
   "source": [
    "### range() 함수"
   ]
  },
  {
   "cell_type": "code",
   "execution_count": null,
   "metadata": {},
   "outputs": [],
   "source": [
    "# range()를 사용하여 0에서 9까지 표시\n",
    "for cnt in range(10):\n",
    "    print(cnt)"
   ]
  },
  {
   "cell_type": "code",
   "execution_count": null,
   "metadata": {},
   "outputs": [],
   "source": [
    "# range()를 사용하여 복리 계산을 함\n",
    "# 연리 5%의 금융 상품에 100만원 예금하면 15년 후에 얼마인지를 계산\n",
    "savings = 100               # 원금\n",
    "for i in range(15):         # 15년 반복 루프\n",
    "    savings = savings+savings*0.05\n",
    "\n",
    "savings"
   ]
  },
  {
   "cell_type": "markdown",
   "metadata": {
    "collapsed": true
   },
   "source": [
    "그런데 금리 15%로 돈을 빌릴 때 몇 년후에 2배가 될까? 위 코드의 수치를 다시 작성하여 실제로 시험해 본다.\n",
    "\n",
    "신용 카드 리볼빙 지불에서 상품을 구매하거나 소비자 금융에서 돈을 빌릴 때 금리가 15% 정도 붙는다."
   ]
  },
  {
   "cell_type": "code",
   "execution_count": null,
   "metadata": {},
   "outputs": [],
   "source": []
  }
 ],
 "metadata": {
  "kernelspec": {
   "display_name": "Python 3",
   "language": "python",
   "name": "python3"
  },
  "language_info": {
   "codemirror_mode": {
    "name": "ipython",
    "version": 3
   },
   "file_extension": ".py",
   "mimetype": "text/x-python",
   "name": "python",
   "nbconvert_exporter": "python",
   "pygments_lexer": "ipython3",
   "version": "3.6.4"
  }
 },
 "nbformat": 4,
 "nbformat_minor": 1
}
