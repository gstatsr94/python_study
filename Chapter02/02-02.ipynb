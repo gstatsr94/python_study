{
 "cells": [
  {
   "cell_type": "markdown",
   "metadata": {},
   "source": [
    "# Chapter 02-02\n",
    "## 변수의 사용"
   ]
  },
  {
   "cell_type": "markdown",
   "metadata": {},
   "source": [
    "### 변수 정의"
   ]
  },
  {
   "cell_type": "code",
   "execution_count": null,
   "metadata": {},
   "outputs": [],
   "source": [
    "champernowne = 0.12345678910"
   ]
  },
  {
   "cell_type": "code",
   "execution_count": null,
   "metadata": {},
   "outputs": [],
   "source": [
    "champernowne_19 = 0.1234567891011121314"
   ]
  },
  {
   "cell_type": "markdown",
   "metadata": {},
   "source": [
    "### 변수를 사용하여 계산하기"
   ]
  },
  {
   "cell_type": "code",
   "execution_count": null,
   "metadata": {},
   "outputs": [],
   "source": [
    "# 적도면에서 지구 둘레를 계산\n",
    "pi = 3.141592           # 원주율\n",
    "diameter = 12756.274    # 적도면에서의 지구의 지름(km)\n",
    "pi*diameter             # 적도면에서 지구 둘레를 계산"
   ]
  },
  {
   "cell_type": "code",
   "execution_count": null,
   "metadata": {},
   "outputs": [],
   "source": [
    "# 조깅에서 1kg 지방을 태우는 데 몇 시간 걸리는지를 계산\n",
    "cal_per_1kg = 7200           # 지방 1kg 연소에 필요한 열량\n",
    "cal_per_1minjog = 7.76       # 조깅 1 분에 의한 소비 칼로리\n",
    "\n",
    "#조깅에서 1kg 체중 감소하는데 몇 분이 필요할까?\n",
    "min_to_lose1kg = cal_per_1kg/cal_per_1minjog\n",
    "hours_to_lose1kg = min_to_lose1kg/60  # 분을 시간으로 환산\n",
    "print(hours_to_lose1kg)      # 변수의 내용을 표시"
   ]
  },
  {
   "cell_type": "markdown",
   "metadata": {},
   "source": [
    "### Column : 변수명 붙이기"
   ]
  },
  {
   "cell_type": "code",
   "execution_count": null,
   "metadata": {},
   "outputs": [],
   "source": [
    "# Python 3에서는 한국어를 사용한 변수이름도 붙일 수 있다.\n",
    "# 변수 이름은 안에 들어있는 데이터의 의미를 알 수 있도록 정한다\n",
    "# 다음은 외형은 재미있지만 어떤 프로그램인지 잘 모르기 때문에 이것은 나쁜 변수 이름의 예이다.\n",
    "그릇 = 1\n",
    "없습니다 = 2\n",
    "그릇+없습니다"
   ]
  },
  {
   "cell_type": "code",
   "execution_count": null,
   "metadata": {},
   "outputs": [],
   "source": [
    "# 변수 이름은 알파벳 문자를 사용하여 붙인다.\n",
    "# 변수에 들어있는 데이터를 나타내는 단어를 사용하는 것이 정석이다.\n",
    "lastname = \"길동\"\n",
    "firstname = \"홍\"\n",
    "\n",
    "# 적절한 단어를 생각하는 것은 힘든 경우에 로마자를 사용해도 좋다고 생각한다\n",
    "hongGilDong = \"홍길동\""
   ]
  },
  {
   "cell_type": "code",
   "execution_count": null,
   "metadata": {},
   "outputs": [],
   "source": [
    "# 단어의 구분은 밑줄 (_)을 사용하거나\n",
    "a_lyric = \"상당히 나는 능숙하다고 생각합니다.\"\n",
    "\n",
    "# 대문자를 사용한다\n",
    "anotherLiric = \"사랑은 지금 와 있습니다!\""
   ]
  },
  {
   "cell_type": "markdown",
   "metadata": {
    "collapsed": true
   },
   "source": [
    "### 파이썬 변수에 대한 지식"
   ]
  },
  {
   "cell_type": "code",
   "execution_count": null,
   "metadata": {},
   "outputs": [],
   "source": [
    "# 파이썬은 동적인 언어이다\n",
    "# 정의된 변수\n",
    "some_var = 100\n",
    "\n",
    "# 다른 종류의 데이터를 할당할 수 있습다\n",
    "some_var = \"SPAM\"\n",
    "\n",
    "# 한편, 정적인 종류의 프로그래밍 언어\n",
    "# 변수는 정해진 유형의 데이터만 할당할 수 있다"
   ]
  },
  {
   "cell_type": "code",
   "execution_count": null,
   "metadata": {},
   "outputs": [],
   "source": [
    "# 예약어는 변수 이름으로 사용할 수 없다 (오류가 발생함)\n",
    "import keyword\n",
    "\n",
    "keyword.kwlist  # 키워드 목록을 표시한다"
   ]
  },
  {
   "cell_type": "code",
   "execution_count": null,
   "metadata": {},
   "outputs": [],
   "source": []
  }
 ],
 "metadata": {
  "kernelspec": {
   "display_name": "Python 3",
   "language": "python",
   "name": "python3"
  },
  "language_info": {
   "codemirror_mode": {
    "name": "ipython",
    "version": 3
   },
   "file_extension": ".py",
   "mimetype": "text/x-python",
   "name": "python",
   "nbconvert_exporter": "python",
   "pygments_lexer": "ipython3",
   "version": "3.6.4"
  }
 },
 "nbformat": 4,
 "nbformat_minor": 1
}
