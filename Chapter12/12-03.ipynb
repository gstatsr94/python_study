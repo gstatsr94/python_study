{
 "cells": [
  {
   "cell_type": "markdown",
   "metadata": {},
   "source": [
    "# Chapter 12-03\n",
    "## matplotlib을 사용한다"
   ]
  },
  {
   "cell_type": "markdown",
   "metadata": {},
   "source": [
    "### plot( )로 그래프를 그린다"
   ]
  },
  {
   "cell_type": "code",
   "execution_count": null,
   "metadata": {},
   "outputs": [],
   "source": [
    "# sin그래프를 그린다\n",
    "%matplotlib inline\n",
    "import numpy as np\n",
    "import matplotlib.pyplot as plt\n",
    "\n",
    "s = np.sin(np.pi*np.arange(0.0, 2.0, 0.01))\n",
    "t = plt.plot(s)    # sin의 그래프를 그림"
   ]
  },
  {
   "cell_type": "code",
   "execution_count": null,
   "metadata": {},
   "outputs": [],
   "source": [
    "# 산포도를 그린다\n",
    "# 인수 마커를 사용하여 산포도를 작성\n",
    "x = np.random.randn(5000)    # 표준 정규 분포에 따라 난수 생성\n",
    "y = np.random.randn(5000)\n",
    "t = plt.plot(x, y, 'o', alpha=0.1)"
   ]
  },
  {
   "cell_type": "code",
   "execution_count": null,
   "metadata": {},
   "outputs": [],
   "source": [
    "# 그래프를 중복해 그림\n",
    "x = np.array([1.628, 3.363, 5.145, 7.683, 9.855])\n",
    "y = np.array([1.257, 3.672, 5.841, 7.951, 9.775])\n",
    "# 최소 자승법으로 데이터를 근사하는 직선을 구함\n",
    "a = np.array([x, np.ones(x.size)])\n",
    "a = a.T\n",
    "m, c = np.linalg.lstsq(a, y)[0]\n",
    "t = plt.plot(x, y, 'o')   # 데이터를 그림\n",
    "t = plt.plot(x, (m*x+c))  # 근사직선을 그림"
   ]
  },
  {
   "cell_type": "markdown",
   "metadata": {},
   "source": [
    "### plot( )로 그림을 제어"
   ]
  },
  {
   "cell_type": "code",
   "execution_count": null,
   "metadata": {},
   "outputs": [],
   "source": [
    "# 선 스타일 변경\n",
    "s = np.sin(np.pi*np.arange(0.0, 2.0, 0.01))\n",
    "t = plt.plot(s, linestyle='--', linewidth=4)"
   ]
  },
  {
   "cell_type": "markdown",
   "metadata": {},
   "source": [
    "### 문자를 삽입한다"
   ]
  },
  {
   "cell_type": "code",
   "execution_count": null,
   "metadata": {},
   "outputs": [],
   "source": [
    "# 표시용 폰트 지정\n",
    "import matplotlib.pyplot as plt\n",
    "plt.rcParams['font.family'] = 'AppleGothic'"
   ]
  },
  {
   "cell_type": "code",
   "execution_count": null,
   "metadata": {},
   "outputs": [],
   "source": [
    "# 시스템에서 사용 가능한 글꼴 목록을 표시\n",
    "import matplotlib.font_manager as fm\n",
    "fm.findSystemFonts()"
   ]
  },
  {
   "cell_type": "code",
   "execution_count": null,
   "metadata": {},
   "outputs": [],
   "source": []
  }
 ],
 "metadata": {
  "kernelspec": {
   "display_name": "Python 3",
   "language": "python",
   "name": "python3"
  },
  "language_info": {
   "codemirror_mode": {
    "name": "ipython",
    "version": 3
   },
   "file_extension": ".py",
   "mimetype": "text/x-python",
   "name": "python",
   "nbconvert_exporter": "python",
   "pygments_lexer": "ipython3",
   "version": "3.6.4"
  }
 },
 "nbformat": 4,
 "nbformat_minor": 1
}
