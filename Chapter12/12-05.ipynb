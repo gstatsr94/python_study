{
 "cells": [
  {
   "cell_type": "markdown",
   "metadata": {},
   "source": [
    "# Chapter 12-05\n",
    "## 파이썬과 기계학습"
   ]
  },
  {
   "cell_type": "markdown",
   "metadata": {},
   "source": [
    "### 기계학습에 의한 수치 예측"
   ]
  },
  {
   "cell_type": "code",
   "execution_count": null,
   "metadata": {},
   "outputs": [],
   "source": [
    "# 데이터 작성\n",
    "# 예측에 이용하는 데이터 만들기\n",
    "import numpy as np\n",
    "\n",
    "# 난수 seed(초깃값)를 설정\n",
    "np.random.seed(9)\n",
    "# 0에서 1까지 100개의 수치를 생성, 난수를 혼합하기 전의 x\n",
    "x_orig = np.linspace(0, 1, 100)\n",
    "\n",
    "def f(x):\n",
    "    # x에 대응하는 sin값을 돌려주는 함수\n",
    "    return np.sin(2 * np.pi * x)\n",
    "\n",
    "# 0에서 1까지 100개가 흩어져 있는 샘플 데이터 x를 생성\n",
    "x = np.random.uniform(0, 1, size=100)[:, np.newaxis]\n",
    "# x에 대응하는 sin값에 난수를 더하여 샘플 데이터(y)를 생성\n",
    "y = f(x)+np.random.normal(scale=0.3, size=100)[:, np.newaxis]"
   ]
  },
  {
   "cell_type": "code",
   "execution_count": null,
   "metadata": {},
   "outputs": [],
   "source": [
    "# 그래프 작성\n",
    "%matplotlib inline\n",
    "import matplotlib.pyplot as plt\n",
    "from sklearn.cross_validation import train_test_split\n",
    "# 학습용 데이터와 테스트용 데이터를 분리\n",
    "x_train, x_test, y_train, y_test = train_test_split(x, y, test_size=0.8)\n",
    "\n",
    "# 원래 sin값과 샘플 데이터를 plot\n",
    "plt.plot(x_orig, f(x_orig), ls=':')\n",
    "plt.scatter(x_train, y_train)\n",
    "plt.xlim((0, 1))"
   ]
  },
  {
   "cell_type": "code",
   "execution_count": null,
   "metadata": {},
   "outputs": [],
   "source": [
    "# 모델의 그래프 표시\n",
    "# 최소 자승법의 다항식 근사를 사용하여 데이터를 학습\n",
    "from sklearn.linear_model import LinearRegression\n",
    "from sklearn.preprocessing import PolynomialFeatures\n",
    "from sklearn.pipeline import make_pipeline\n",
    "\n",
    "# 2x2의 그래프를 그리는 준비\n",
    "fig, axs = plt.subplots(2, 2, figsize=(8, 5))\n",
    "\n",
    "# 차수 0, 1, 3, 9에 대하여 학습한 결과를 표시\n",
    "for ax, deg in zip(axs.ravel(), [0, 1, 3, 9]):\n",
    "    # 파이프라인을 만듦\n",
    "    e = make_pipeline(PolynomialFeatures(deg), LinearRegression())\n",
    "    # 학습 set으로 학습\n",
    "    e.fit(x_train, y_train)\n",
    "    # 원래의 x로 예측\n",
    "    px = e.predict(x_orig[:, np.newaxis])\n",
    "    # 예측결과 그래프와 테스트 데이터 점을 그림\n",
    "    ax.scatter(x_train, y_train)\n",
    "    ax.plot(x_orig, px)\n",
    "    ax.set(xlim=(0, 1), ylim=(-2, 2),\n",
    "           ylabel='y', xlabel='x',\n",
    "           title='degree={}'.format(deg))\n",
    "\n",
    "plt.tight_layout()"
   ]
  },
  {
   "cell_type": "code",
   "execution_count": null,
   "metadata": {},
   "outputs": [],
   "source": [
    "# 예측치와의 오차를 그래프화 한다\n",
    "# 테스트 데이터를 사용하여 오버피팅의 모습을 그래프로 표시한다\n",
    "from sklearn.metrics import mean_squared_error\n",
    "\n",
    "# 실 데이터와의 오차를 보존하는 array\n",
    "train_error = np.empty(10)\n",
    "test_error = np.empty(10)\n",
    "# 차수 0에서 9에 대하여 조사\n",
    "for deg in range(10):\n",
    "    # 모델을 작성\n",
    "    e = make_pipeline(PolynomialFeatures(deg), LinearRegression())\n",
    "    e.fit(x_train, y_train)\n",
    "    # 테스트 데이터를 사용하여 예측값과 실제값의 오차를 조사\n",
    "    train_error[deg] = mean_squared_error(y_train, e.predict(x_train))\n",
    "    test_error[deg] = mean_squared_error(y_test, e.predict(x_test))\n",
    "\n",
    "# 그래프를 그림\n",
    "plt.plot(np.arange(10), train_error, ls=':', label='train')\n",
    "plt.plot(np.arange(10), test_error, ls='-', label='test')\n",
    "plt.ylim((0, 1))\n",
    "plt.legend(loc='upper left')"
   ]
  },
  {
   "cell_type": "markdown",
   "metadata": {},
   "source": [
    "### 이름으로 성별을 판정한다"
   ]
  },
  {
   "cell_type": "code",
   "execution_count": null,
   "metadata": {},
   "outputs": [],
   "source": [
    "# array 작성\n",
    "# 데이터를 읽어 들여 변환하기\n",
    "import numpy as np\n",
    "from sklearn.cross_validation import train_test_split\n",
    "\n",
    "np.random.seed(9)\n",
    "# 남녀의 태그가 붙어 있는 이름 데이터를 읽어 들임\n",
    "txtbody = open('names.txt', encoding='utf-8')\n",
    "# NumPy의 array로 변환\n",
    "jnames = np.array([x.split() for x in txtbody], dtype='U12')\n",
    "# 이름과 성별로 분할\n",
    "names_train, gender_train, = jnames[:, 1], jnames[:, 0]"
   ]
  },
  {
   "cell_type": "code",
   "execution_count": null,
   "metadata": {},
   "outputs": [],
   "source": [
    "# split_in_2words( ) 함수의 정의\n",
    "# 히라가나 읽기를 2 문자마다 분할하는 함수를 만든다\n",
    "def split_in_2words(name):\n",
    "    # 이름을 2문자씩 분할하는 함수\n",
    "    return [name[i:i+2] for i in range(len(name)-1)]"
   ]
  },
  {
   "cell_type": "code",
   "execution_count": null,
   "metadata": {},
   "outputs": [],
   "source": [
    "# 함수 호출 테스트\n",
    "split_in_2words(\"동방신기\")"
   ]
  },
  {
   "cell_type": "code",
   "execution_count": null,
   "metadata": {},
   "outputs": [],
   "source": [
    "# CountVectorizer 객체 작성\n",
    "# 학습 데이터를 만들어 벡터화의 전단계로 데이터를 만들기\n",
    "from sklearn.feature_extraction.text import CountVectorizer\n",
    "bow_t = CountVectorizer(analyzer=split_in_2words).fit(names_train)"
   ]
  },
  {
   "cell_type": "code",
   "execution_count": null,
   "metadata": {},
   "outputs": [],
   "source": [
    "# ‘かんかん(캉캉)’이라는 이름의 출현 수를 조사한다\n",
    "name = 'かんかん'\n",
    "b1 = bow_t.transform([name])\n",
    "print(b1[0])"
   ]
  },
  {
   "cell_type": "code",
   "execution_count": null,
   "metadata": {},
   "outputs": [],
   "source": [
    "# 문자열의 역 검색\n",
    "# 출력 데이터에서 문자열을 역방향 조회\n",
    "# 직전의 출력 셀에 표시된 ID로 바꿉니다\n",
    "print(bow_t.get_feature_names()[283])\n",
    "print(bow_t.get_feature_names()[1898])"
   ]
  },
  {
   "cell_type": "code",
   "execution_count": null,
   "metadata": {},
   "outputs": [],
   "source": [
    "# 문자열의 출현 수를 조사한다\n",
    "# 학습 데이터를 사용하여 문자열의 발생 횟수를 센다\n",
    "names_bow = bow_t.transform(names_train)"
   ]
  },
  {
   "cell_type": "code",
   "execution_count": null,
   "metadata": {},
   "outputs": [],
   "source": [
    "# TfidfTransformer 객체 생성\n",
    "# TF-IDF에서 데이터의 가중치와 정규화를 실시\n",
    "from sklearn.feature_extraction.text import TfidfTransformer\n",
    "\n",
    "tfidf_t = TfidfTransformer().fit(names_bow)"
   ]
  },
  {
   "cell_type": "code",
   "execution_count": null,
   "metadata": {},
   "outputs": [],
   "source": [
    "# 가중치 표현 실행\n",
    "# tfidf_t에서 어떤 변환이 수행되는지 확인\n",
    "tfidf1 = tfidf_t.transform(b1)\n",
    "print(tfidf1)"
   ]
  },
  {
   "cell_type": "code",
   "execution_count": null,
   "metadata": {},
   "outputs": [],
   "source": [
    "# 학습 실행\n",
    "# 나이브 베이즈의 다항 모델을 이용한 학습 분석기를 만듦\n",
    "from sklearn.naive_bayes import MultinomialNB\n",
    "# 문자열에 가중치를 붙이고 정규화를 실행\n",
    "names_tfidf = tfidf_t.transform(names_bow)\n",
    "# 학습실행\n",
    "namegender_detector = MultinomialNB().fit(names_tfidf, gender_train)"
   ]
  },
  {
   "cell_type": "code",
   "execution_count": null,
   "metadata": {},
   "outputs": [],
   "source": [
    "# 성별 판정\n",
    "# 'かんかん(캉캉)'이라는 이름의 성별을 판정\n",
    "print(namegender_detector.predict(tfidf1)[0])"
   ]
  },
  {
   "cell_type": "code",
   "execution_count": null,
   "metadata": {},
   "outputs": [],
   "source": [
    "# predict_gender( ) 함수의 정의\n",
    "# 문자열을 주고 성별을 예측하는 함수를 정의\n",
    "def predict_gender(name):\n",
    "    # 성별 판정\n",
    "    bow = bow_t.transform([name])\n",
    "    n_tfidf = tfidf_t.transform(bow)\n",
    "    return namegender_detector.predict(n_tfidf)[0]"
   ]
  },
  {
   "cell_type": "code",
   "execution_count": null,
   "metadata": {},
   "outputs": [],
   "source": [
    "# 함수 실행\n",
    "print(predict_gender(\"のんな\"))"
   ]
  },
  {
   "cell_type": "code",
   "execution_count": null,
   "metadata": {},
   "outputs": [],
   "source": [
    "# 데이터를 학습 데이터와 테스트 데이터로 분할\n",
    "from sklearn.pipeline import Pipeline\n",
    "pipeline = Pipeline([\n",
    "    ('bow', CountVectorizer(analyzer=split_in_2words)),  # strings to token integer counts\n",
    "    ('tfidf', TfidfTransformer()),  # integer counts to weighted TF-IDF scores\n",
    "    ('classifier', MultinomialNB()),  # train on TF-IDF vectors w/ Naive Bayes classifier\n",
    "])"
   ]
  },
  {
   "cell_type": "code",
   "execution_count": null,
   "metadata": {},
   "outputs": [],
   "source": [
    "# 파이프 라인을 사용하여 학습 및 테스트\n",
    "from sklearn.cross_validation import StratifiedKFold, cross_val_score, train_test_split \n",
    "scores = cross_val_score(pipeline,  # steps to convert raw messages into models\n",
    "                         names_train,  # training data\n",
    "                         gender_train,  # training labels\n",
    "                         cv=10,  # split data randomly into 10 parts: 9 for training, 1 for scoring\n",
    "                         scoring='accuracy',  # which scoring metric?\n",
    "                         n_jobs=-1,  # -1 = use all cores = faster\n",
    "                         )\n",
    "print(scores)"
   ]
  },
  {
   "cell_type": "code",
   "execution_count": null,
   "metadata": {},
   "outputs": [],
   "source": []
  }
 ],
 "metadata": {
  "kernelspec": {
   "display_name": "Python 3",
   "language": "python",
   "name": "python3"
  },
  "language_info": {
   "codemirror_mode": {
    "name": "ipython",
    "version": 3
   },
   "file_extension": ".py",
   "mimetype": "text/x-python",
   "name": "python",
   "nbconvert_exporter": "python",
   "pygments_lexer": "ipython3",
   "version": "3.6.4"
  }
 },
 "nbformat": 4,
 "nbformat_minor": 1
}
