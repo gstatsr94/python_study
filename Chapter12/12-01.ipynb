{
 "cells": [
  {
   "cell_type": "markdown",
   "metadata": {},
   "source": [
    "# Chapter 12-01\n",
    "## NumPy와 matplotlib"
   ]
  },
  {
   "cell_type": "markdown",
   "metadata": {},
   "source": [
    "### NumPy를 사용한다"
   ]
  },
  {
   "cell_type": "code",
   "execution_count": null,
   "metadata": {},
   "outputs": [],
   "source": [
    "# 파일로부터 데이터를 읽어 들임\n",
    "# 반응 테스트의 실험 데이터를 읽어 들임\n",
    "import numpy as np       # numpy을 임포트\n",
    "# 파일에서 데이터를 읽어 들임\n",
    "reactions_in_ms = np.loadtxt('reactions.txt')"
   ]
  },
  {
   "cell_type": "code",
   "execution_count": null,
   "metadata": {},
   "outputs": [],
   "source": [
    "# NumPy의 array를 사용한다.\n",
    "# 데이터 요약 보기\n",
    "print(reactions_in_ms.size)       # 요소 수를 표시\n",
    "print(reactions_in_ms[-1])       # 앞에서부터 20개 요소를 표시"
   ]
  },
  {
   "cell_type": "code",
   "execution_count": null,
   "metadata": {},
   "outputs": [],
   "source": [
    "# array( ) 나눗셈\n",
    "# 밀리초(ms)를 초(s)로 고침\n",
    "reactions_in_sec = reactions_in_ms/1000\n",
    "print(reactions_in_sec[:20])            # 앞에서부터 20개 요소를 표시"
   ]
  },
  {
   "cell_type": "code",
   "execution_count": null,
   "metadata": {},
   "outputs": [],
   "source": [
    "# NumPy의 여러 가지 함수\n",
    "# 기본 통계를 표시하고 데이터의 요약을 검토\n",
    "print(\"평균값 :\", np.mean(reactions_in_sec))\n",
    "print(\"중앙값 :\", np.median(reactions_in_sec))\n",
    "print(\"표준편차 :\", np.std(reactions_in_sec))\n",
    "print(\"최솟값 :\", np.min(reactions_in_sec))\n",
    "print(\"최대값 :\", np.max(reactions_in_sec))"
   ]
  },
  {
   "cell_type": "code",
   "execution_count": null,
   "metadata": {},
   "outputs": [],
   "source": [
    "# pandas의 DataFrame형을 사용한다\n",
    "import pandas as pd\n",
    "reactions_df = pd.DataFrame(reactions_in_sec)\n",
    "reactions_df.head()       # 데이터의 개요를 표시"
   ]
  },
  {
   "cell_type": "code",
   "execution_count": null,
   "metadata": {},
   "outputs": [],
   "source": [
    "reactions_df.describe()   # 데이터의 평균, 표준 편차, 최댓값, 최솟값 등을 표시"
   ]
  },
  {
   "cell_type": "markdown",
   "metadata": {},
   "source": [
    "### matplotlib를 사용한다"
   ]
  },
  {
   "cell_type": "code",
   "execution_count": null,
   "metadata": {},
   "outputs": [],
   "source": [
    "# matplotlib으로 히스토그램을 그린다\n",
    "%matplotlib inline\n",
    "import matplotlib.pyplot as plt # matplotlib를 임포트\n",
    "h = plt.hist(reactions_in_sec)  # 히스토그램을 그림"
   ]
  },
  {
   "cell_type": "code",
   "execution_count": null,
   "metadata": {},
   "outputs": [],
   "source": []
  }
 ],
 "metadata": {
  "kernelspec": {
   "display_name": "Python 3",
   "language": "python",
   "name": "python3"
  },
  "language_info": {
   "codemirror_mode": {
    "name": "ipython",
    "version": 3
   },
   "file_extension": ".py",
   "mimetype": "text/x-python",
   "name": "python",
   "nbconvert_exporter": "python",
   "pygments_lexer": "ipython3",
   "version": "3.6.4"
  }
 },
 "nbformat": 4,
 "nbformat_minor": 1
}
