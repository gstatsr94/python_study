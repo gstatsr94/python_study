{
 "cells": [
  {
   "cell_type": "markdown",
   "metadata": {},
   "source": [
    "# Chapter 12-02\n",
    "## NumPy를 사용한다"
   ]
  },
  {
   "cell_type": "markdown",
   "metadata": {},
   "source": [
    "### NumPy의 array를 생성한다"
   ]
  },
  {
   "cell_type": "code",
   "execution_count": null,
   "metadata": {},
   "outputs": [],
   "source": [
    "# array의 작성\n",
    "import numpy as np         # NumPy를 임포트\n",
    "a = np.array([0, 1, 2, 3]) # array를 만듦\n",
    "a                          # array를 표시"
   ]
  },
  {
   "cell_type": "code",
   "execution_count": null,
   "metadata": {},
   "outputs": [],
   "source": [
    "# 2차원 array의 작성\n",
    "b = np.array([[0, 0, 0], [0, 0, 0], [0, 0, 0]])\n",
    "b"
   ]
  },
  {
   "cell_type": "code",
   "execution_count": null,
   "metadata": {},
   "outputs": [],
   "source": [
    "# array의 속성\n",
    "print(b.ndim)       # 차원 수\n",
    "print(b.shape)      # 각 차원의 요소 수\n",
    "print(b.size)       # 크기\n",
    "print(b.dtype)      # 형"
   ]
  },
  {
   "cell_type": "code",
   "execution_count": null,
   "metadata": {},
   "outputs": [],
   "source": [
    "# 2차원 배열로 변환한다\n",
    "# reshape()로 array로 변경\n",
    "b2 = np.zeros(9).reshape(3, 3)\n",
    "b2"
   ]
  },
  {
   "cell_type": "code",
   "execution_count": null,
   "metadata": {},
   "outputs": [],
   "source": [
    "# 배열의 회전\n",
    "# T(전치 행렬)를 표시\n",
    "# 0,1,2 2,3,4 5,6,7는 3x3의 array\n",
    "a = np.arange(9).reshape(3, 3)  \n",
    "a                     # array 보기"
   ]
  },
  {
   "cell_type": "code",
   "execution_count": null,
   "metadata": {},
   "outputs": [],
   "source": [
    "a.T                   # 90도 회전한 array 보기"
   ]
  },
  {
   "cell_type": "markdown",
   "metadata": {},
   "source": [
    "### array를 사용한 연산"
   ]
  },
  {
   "cell_type": "code",
   "execution_count": null,
   "metadata": {},
   "outputs": [],
   "source": [
    "# 각 요소에 1을 더함\n",
    "a = np.arange(1, 10)    # 1에서 9까지의 배열을 만듦\n",
    "a+1                     # 각 요소에 1을 더하여 표시"
   ]
  },
  {
   "cell_type": "code",
   "execution_count": null,
   "metadata": {},
   "outputs": [],
   "source": [
    "# 배열의 덧셈\n",
    "# 2개의 array의 각 요소를 더함\n",
    "a = np.arange(1, 10)\n",
    "b = np.arange(1, 10)    # 1에서 9까지의 배열을 2개 만듦\n",
    "a+b                     # a의 요소와 b의 요소를 더함"
   ]
  },
  {
   "cell_type": "code",
   "execution_count": null,
   "metadata": {},
   "outputs": [],
   "source": [
    "# 배열의 곱셈 1\n",
    "# 브로드캐스팅(Broadcasting)\n",
    "a = np.ones(9).reshape(3, 3) # 1로만 구성된 3×3의 array를 만듦\n",
    "b = np.arange(1, 4)          # 1, 2, 3의 array를 만듦\n",
    "a*b                          # 곱셈한 결과를 표시"
   ]
  },
  {
   "cell_type": "code",
   "execution_count": null,
   "metadata": {},
   "outputs": [],
   "source": [
    "# 배열의 곱셈 2\n",
    "# 브로드캐스팅을 사용하여 3x3의 array를 만든다\n",
    "np.zeros((3, 1))*np.zeros((1, 3))"
   ]
  },
  {
   "cell_type": "code",
   "execution_count": null,
   "metadata": {},
   "outputs": [],
   "source": [
    "# 요소의 합계\n",
    "# 함수를 사용한 연산\n",
    "# 0부터 8까지로, 3×3의 array를 만듦\n",
    "a = np.arange(9).reshape(3, 3)\n",
    "np.sum(a)        # 합계를 계산"
   ]
  },
  {
   "cell_type": "code",
   "execution_count": null,
   "metadata": {},
   "outputs": [],
   "source": [
    "# 축끼리의 덧셈을 한다.\n",
    "# 인수 axis를 준 연산\n",
    "# [[0 1 2]\n",
    "#  [3 4 5]\n",
    "#  [6 7 8]]\n",
    "# 위 배열의 각 축의 합계를 계산\n",
    "np.sum(a, axis=0)"
   ]
  },
  {
   "cell_type": "markdown",
   "metadata": {},
   "source": [
    "### 요소에의 접근"
   ]
  },
  {
   "cell_type": "code",
   "execution_count": null,
   "metadata": {},
   "outputs": [],
   "source": [
    "# 요소에 접근한다\n",
    "a = np.arange(9).reshape(3, 3) # 0부터 8까지로 3×3의 array를 만듦\n",
    "a[1, 2]                        # 1, 2의 요소를 표시"
   ]
  },
  {
   "cell_type": "code",
   "execution_count": null,
   "metadata": {},
   "outputs": [],
   "source": [
    "# 슬라이스 이용\n",
    "# 슬라이스를 사용하여 요소를 추출하기\n",
    "a[1:, 1:3]             # 오른쪽 아래의 2×2의 배열을 꺼냄"
   ]
  },
  {
   "cell_type": "code",
   "execution_count": null,
   "metadata": {},
   "outputs": [],
   "source": [
    "# 인덱스에 리스트를 지정한다\n",
    "# 인덱스에 리스트를 전달하여 여러 요소를 추출하기\n",
    "d = np.arange(1, 10)        # 1에서 9까지의 array를 만듦\n",
    "d[[1, 3, 5, 7]]             # 짝수만 꺼냄"
   ]
  },
  {
   "cell_type": "markdown",
   "metadata": {},
   "source": [
    "### array 연결"
   ]
  },
  {
   "cell_type": "code",
   "execution_count": null,
   "metadata": {},
   "outputs": [],
   "source": [
    "# 횡 방향으로 연결한다\n",
    "a = np.arange(4).reshape(2, 2)      # 2×2, 0에서 3까지의 array\n",
    "b = np.arange(5, 9).reshape(2, 2)   # 2×2, 5에서 8까지의 array\n",
    "np.hstack((a, b))"
   ]
  },
  {
   "cell_type": "code",
   "execution_count": null,
   "metadata": {},
   "outputs": [],
   "source": [
    "# 종 방향으로 연결한다\n",
    "a = np.arange(4).reshape(2, 2)      # 2×2, 0에서 3까지의 array\n",
    "b = np.arange(5, 9).reshape(2, 2)   # 2×2, 5에서 8까지의 array\n",
    "np.vstack((a, b))"
   ]
  },
  {
   "cell_type": "markdown",
   "metadata": {},
   "source": [
    "### array의 복사(copy)"
   ]
  },
  {
   "cell_type": "code",
   "execution_count": null,
   "metadata": {},
   "outputs": [],
   "source": [
    "# array끼리의 대입\n",
    "# 내장 리스트형과 마찬가지로 array의 대입 복사된다\n",
    "# (변수가 동일한 array에 대한 참조 포함)\n",
    "a = np.zeros(4)     # 4개의 0으로 array를 만듦\n",
    "b = a               # b에 대입\n",
    "b += 1              # 각 요소에 1을 더함\n",
    "a                   # a의 내용을 표시"
   ]
  },
  {
   "cell_type": "code",
   "execution_count": null,
   "metadata": {},
   "outputs": [],
   "source": [
    "# 존재하는 array에서 다른 array를 생성하고 싶을 때는 명시적으로 복사한다\n",
    "a = np.zeros(4)     # 4개의 0으로 array를 만듦\n",
    "b = a.copy()        # b에 대입\n",
    "b += 1              # 각 요소에 1을 더함\n",
    "a                   # a의 내용을 표시"
   ]
  },
  {
   "cell_type": "code",
   "execution_count": null,
   "metadata": {},
   "outputs": [],
   "source": []
  }
 ],
 "metadata": {
  "kernelspec": {
   "display_name": "Python 3",
   "language": "python",
   "name": "python3"
  },
  "language_info": {
   "codemirror_mode": {
    "name": "ipython",
    "version": 3
   },
   "file_extension": ".py",
   "mimetype": "text/x-python",
   "name": "python",
   "nbconvert_exporter": "python",
   "pygments_lexer": "ipython3",
   "version": "3.6.4"
  }
 },
 "nbformat": 4,
 "nbformat_minor": 1
}
