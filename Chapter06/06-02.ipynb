{
 "cells": [
  {
   "cell_type": "markdown",
   "metadata": {},
   "source": [
    "# Chapter06-02\n",
    "## 클래스 만들기"
   ]
  },
  {
   "cell_type": "markdown",
   "metadata": {},
   "source": [
    "### 클래스 정의하기"
   ]
  },
  {
   "cell_type": "code",
   "execution_count": null,
   "metadata": {},
   "outputs": [],
   "source": [
    "# MyClass 클래스를 정의한다\n",
    "class MyClass:     # 클래스 정의\n",
    "    pass           # 처리 내용을 기술함"
   ]
  },
  {
   "cell_type": "markdown",
   "metadata": {},
   "source": [
    "### 인스턴스의 속성"
   ]
  },
  {
   "cell_type": "code",
   "execution_count": null,
   "metadata": {},
   "outputs": [],
   "source": [
    "# MyClass 인스턴스 만들기\n",
    "i = MyClass()   # 변수에 인스턴스를 대입함"
   ]
  },
  {
   "cell_type": "code",
   "execution_count": null,
   "metadata": {},
   "outputs": [],
   "source": [
    "# 속성을 이용한다\n",
    "i.value = 5     # value라는 이름의 속성에 수치를 대입\n",
    "i.value         # 속성 값을 표시"
   ]
  },
  {
   "cell_type": "code",
   "execution_count": null,
   "metadata": {},
   "outputs": [],
   "source": [
    "# 미정의(정의되지 않은) 속성 참조\n",
    "i.undefined"
   ]
  },
  {
   "cell_type": "code",
   "execution_count": null,
   "metadata": {},
   "outputs": [],
   "source": [
    "# 속성은 인스턴스마다 존재한다\n",
    "i2 = MyClass()   # MyClass의 인스턴스를 별도로 정의\n",
    "i2.value         # value 속성을 참조하려고 하면\n",
    "　　　　　　　　　    # 정의되지 않았으므로 오류가 발생"
   ]
  },
  {
   "cell_type": "markdown",
   "metadata": {},
   "source": [
    "### 메쏘드의 정의와 초기화 메쏘드 ‘__init__( )’"
   ]
  },
  {
   "cell_type": "code",
   "execution_count": null,
   "metadata": {},
   "outputs": [],
   "source": [
    "# 초기화 메쏘드를 가진 클래스 정의\n",
    "class MyClass2:\n",
    "    def __init__(self):   # 초기화 메쏘드를 정의\n",
    "        self.value = 0    # 인스턴스에 속성을 추가\n",
    "        print(\"This is __init__() method !\")"
   ]
  },
  {
   "cell_type": "code",
   "execution_count": null,
   "metadata": {},
   "outputs": [],
   "source": [
    "# MyClass2 클래스 사용하기\n",
    "i3 = MyClass2()           # 인스턴스를 만듦"
   ]
  },
  {
   "cell_type": "code",
   "execution_count": null,
   "metadata": {},
   "outputs": [],
   "source": [
    "i3.value                  # 인스턴스의 속성을 표시함"
   ]
  },
  {
   "cell_type": "markdown",
   "metadata": {},
   "source": [
    "### 메쏘드와 제1인수 ‘self’"
   ]
  },
  {
   "cell_type": "code",
   "execution_count": null,
   "metadata": {},
   "outputs": [],
   "source": [
    "# Prism클래스의 정의\n",
    "class Prism:\n",
    "    def __init__(self, width, height, depth):\n",
    "        # 초기화 메쏘드를 정의\n",
    "        self.width = width    # 인수를 속성에 할당\n",
    "        self.height = height\n",
    "        self.depth = depth\n",
    "\n",
    "    def content(self):\n",
    "        # 부피를 계산함\n",
    "        return self.width*self.height*self.depth"
   ]
  },
  {
   "cell_type": "code",
   "execution_count": null,
   "metadata": {},
   "outputs": [],
   "source": [
    "# Prism 클래스 사용하기\n",
    "p1 = Prism(10, 20, 30)\n",
    "print(p1.content())"
   ]
  },
  {
   "cell_type": "code",
   "execution_count": null,
   "metadata": {},
   "outputs": [],
   "source": [
    "# 다른 수치를 지정해서 인스턴스 만들기\n",
    "p2 = Prism(50, 60, 70)   # 인수를 바꿈\n",
    "print(p2.content())      # 변경한 인수로 부피를 계산함"
   ]
  },
  {
   "cell_type": "code",
   "execution_count": null,
   "metadata": {},
   "outputs": [],
   "source": [
    "# 인스턴스로부터 속성을 읽어 내기\n",
    "p1.height"
   ]
  },
  {
   "cell_type": "code",
   "execution_count": null,
   "metadata": {},
   "outputs": [],
   "source": [
    "# 다른 인스턴스의 속성에는 다른 값이 들어있음\n",
    "p2.height"
   ]
  },
  {
   "cell_type": "code",
   "execution_count": null,
   "metadata": {},
   "outputs": [],
   "source": [
    "# 속성 바꾸기\n",
    "p1.height = 50\n",
    "print(p1.content())    # 부피를 계산함"
   ]
  },
  {
   "cell_type": "markdown",
   "metadata": {},
   "source": [
    "### 속성의 은폐"
   ]
  },
  {
   "cell_type": "code",
   "execution_count": null,
   "metadata": {},
   "outputs": [],
   "source": [
    "# 다른 자료형을 대입해 본다\n",
    "p = Prism(10, 20, 30)\n",
    "p.width               # 가로폭을 표시"
   ]
  },
  {
   "cell_type": "code",
   "execution_count": null,
   "metadata": {},
   "outputs": [],
   "source": [
    "p.depth = \"30\"        # 속성으로 수치가 아니라 문자열을 대입\n",
    "p.content()           # 부피를 계산함"
   ]
  },
  {
   "cell_type": "code",
   "execution_count": null,
   "metadata": {},
   "outputs": [],
   "source": [
    "# \"__\"에서 속성을 은폐한 Prism 클래스(기둥)을 정의\n",
    "class PrismC:\n",
    "    def __init__(self, width, height, depth):\n",
    "        # 초기화 메쏘드를 정의\n",
    "        self.__width = width    # 인수를 속성에 할당\n",
    "        self.__height = height\n",
    "        self.__depth = depth\n",
    "\n",
    "    def content(self):\n",
    "        # 부피를 계산함\n",
    "        return self.__width*self.__height*self.__depth"
   ]
  },
  {
   "cell_type": "code",
   "execution_count": null,
   "metadata": {},
   "outputs": [],
   "source": [
    "p4 = PrismC(10, 20, 30)\n",
    "print(p4.content())"
   ]
  },
  {
   "cell_type": "code",
   "execution_count": null,
   "metadata": {},
   "outputs": [],
   "source": [
    "p4.__width = 200    # 속성을 외부에서 다시 대입\n",
    "p4.content()        # 결과는 변하지 않는다"
   ]
  },
  {
   "cell_type": "code",
   "execution_count": null,
   "metadata": {},
   "outputs": [],
   "source": [
    "# 그러나 이름을 바꾸는 규칙을 알고 있다면 변경된다\n",
    "p4._PrismC__width = 200\n",
    "p4.content()"
   ]
  },
  {
   "cell_type": "code",
   "execution_count": null,
   "metadata": {},
   "outputs": [],
   "source": []
  }
 ],
 "metadata": {
  "kernelspec": {
   "display_name": "Python 3",
   "language": "python",
   "name": "python3"
  },
  "language_info": {
   "codemirror_mode": {
    "name": "ipython",
    "version": 3
   },
   "file_extension": ".py",
   "mimetype": "text/x-python",
   "name": "python",
   "nbconvert_exporter": "python",
   "pygments_lexer": "ipython3",
   "version": "3.6.4"
  }
 },
 "nbformat": 4,
 "nbformat_minor": 1
}
