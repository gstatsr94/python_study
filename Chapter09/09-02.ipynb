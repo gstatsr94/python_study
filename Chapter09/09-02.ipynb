{
 "cells": [
  {
   "cell_type": "markdown",
   "metadata": {},
   "source": [
    "# Chapter 09-02\n",
    "## 순수 객체 지향 언어로서의 파이썬"
   ]
  },
  {
   "cell_type": "markdown",
   "metadata": {},
   "source": [
    "### 마법의 함수 ‘dir( )’"
   ]
  },
  {
   "cell_type": "code",
   "execution_count": null,
   "metadata": {},
   "outputs": [],
   "source": [
    "# dir() 함수 사용하기\n",
    "class Aklass:   # 간단한 클래스를 정의\n",
    "    def __init__(self):\n",
    "        self.spam = 1  # 초기화 메쏘드로 속성을 정의"
   ]
  },
  {
   "cell_type": "code",
   "execution_count": null,
   "metadata": {},
   "outputs": [],
   "source": [
    "i = Aklass()    # 인스턴스를 만듦\n",
    "dir(i)          # 속성의 리스트를 표시"
   ]
  },
  {
   "cell_type": "code",
   "execution_count": null,
   "metadata": {},
   "outputs": [],
   "source": [
    "i.egg = 1       # 인스턴스에 속성을 추가\n",
    "dir(i)          # 한번 더 속성의 리스트를 표시"
   ]
  },
  {
   "cell_type": "markdown",
   "metadata": {},
   "source": [
    "### 속성으로서의 메쏘드"
   ]
  },
  {
   "cell_type": "code",
   "execution_count": null,
   "metadata": {},
   "outputs": [],
   "source": [
    "# 메쏘드를 속성으로 대입하기\n",
    "class Atomklass:   # 간단한 클래스를 정의\n",
    "    def foo(self): # 메쏘드를 정의\n",
    "        print(\"this is foo method!\")"
   ]
  },
  {
   "cell_type": "code",
   "execution_count": null,
   "metadata": {},
   "outputs": [],
   "source": [
    "i1 = Atomklass()   # 인스턴스를 작성\n",
    "i2 = Atomklass()   # 또 하나의 인스턴스를 작성\n",
    "i1.bar = i1.foo    # 메쏘드를 새로운 속성으로 대입\n",
    "i1.bar()           # 복사한 메쏘드를 호출함"
   ]
  },
  {
   "cell_type": "code",
   "execution_count": null,
   "metadata": {},
   "outputs": [],
   "source": [
    "i2.bar()           # 이 인스턴스에서는 오류가 발생함"
   ]
  },
  {
   "cell_type": "markdown",
   "metadata": {},
   "source": [
    "### 객체와 자료형"
   ]
  },
  {
   "cell_type": "code",
   "execution_count": null,
   "metadata": {},
   "outputs": [],
   "source": [
    "# 객체의 자료형 확인하기\n",
    "type(1)    # 수치에 대한 자료형을 알아봄"
   ]
  },
  {
   "cell_type": "code",
   "execution_count": null,
   "metadata": {},
   "outputs": [],
   "source": [
    "a = \"가나다\"\n",
    "type(a)    # 문자열에 대한 자료형을 알아봄"
   ]
  },
  {
   "cell_type": "code",
   "execution_count": null,
   "metadata": {},
   "outputs": [],
   "source": [
    "type(b\"abcde\") # 바이트형에 대한 자료형을 알아봄"
   ]
  },
  {
   "cell_type": "code",
   "execution_count": null,
   "metadata": {},
   "outputs": [],
   "source": [
    "import sys\n",
    "type(sys)  # 모듈에 대한 자료형을 알아봄"
   ]
  },
  {
   "cell_type": "code",
   "execution_count": null,
   "metadata": {},
   "outputs": [],
   "source": [
    "# 객체의 소속 확인하기\n",
    "isinstance(1, type(1))      # 정수형(int)인지를 알아봄"
   ]
  },
  {
   "cell_type": "code",
   "execution_count": null,
   "metadata": {},
   "outputs": [],
   "source": [
    "isinstance(1, str)          # 자료형이 다르면 False를 돌려줌"
   ]
  },
  {
   "cell_type": "code",
   "execution_count": null,
   "metadata": {},
   "outputs": [],
   "source": [
    "isinstance(\"가나다\", object) # 모든 형식은 object를 상속하고 있다"
   ]
  },
  {
   "cell_type": "markdown",
   "metadata": {},
   "source": [
    "### 객체와 속성"
   ]
  },
  {
   "cell_type": "code",
   "execution_count": null,
   "metadata": {},
   "outputs": [],
   "source": [
    "s = \"abcde\"        # 문자열을 정의\n",
    "getattr(s, \"find\") # find 속성을 꺼냄"
   ]
  },
  {
   "cell_type": "code",
   "execution_count": null,
   "metadata": {},
   "outputs": [],
   "source": [
    "s.find(\"cd\")       # find() 메쏘드를 호출함"
   ]
  },
  {
   "cell_type": "code",
   "execution_count": null,
   "metadata": {},
   "outputs": [],
   "source": [
    "getattr(s, \"find\")(\"cd\")  # 속성을 호출함"
   ]
  },
  {
   "cell_type": "markdown",
   "metadata": {},
   "source": [
    "### 객체와 변수"
   ]
  },
  {
   "cell_type": "code",
   "execution_count": null,
   "metadata": {},
   "outputs": [],
   "source": [
    "# 변수에 함수 대입하기\n",
    "import math          # math모듈을 임포트\n",
    "m = math             # 모듈을 변수에 대입\n",
    "s = m.sin            # sin() 함수를 변수에 대입\n",
    "s(0.5)               # 대입한 변수를 호출함"
   ]
  },
  {
   "cell_type": "markdown",
   "metadata": {},
   "source": [
    "### 객체와 네임스페이스"
   ]
  },
  {
   "cell_type": "code",
   "execution_count": null,
   "metadata": {},
   "outputs": [],
   "source": [
    "# 변수와 함수 이름을 같게 하기\n",
    "spam = 1            # 변수 spam을 정의\n",
    "def spam():         # 함수 spam을 정의\n",
    "    print(\"Spam!\")\n",
    "\n",
    "print(spam)"
   ]
  },
  {
   "cell_type": "code",
   "execution_count": null,
   "metadata": {},
   "outputs": [],
   "source": []
  }
 ],
 "metadata": {
  "kernelspec": {
   "display_name": "Python 3",
   "language": "python",
   "name": "python3"
  },
  "language_info": {
   "codemirror_mode": {
    "name": "ipython",
    "version": 3
   },
   "file_extension": ".py",
   "mimetype": "text/x-python",
   "name": "python",
   "nbconvert_exporter": "python",
   "pygments_lexer": "ipython3",
   "version": "3.6.4"
  }
 },
 "nbformat": 4,
 "nbformat_minor": 1
}
