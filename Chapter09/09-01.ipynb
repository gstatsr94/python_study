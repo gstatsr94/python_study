{
 "cells": [
  {
   "cell_type": "markdown",
   "metadata": {},
   "source": [
    "# Chapter09-01\n",
    "## 네임스페이스, 스코프(scope)"
   ]
  },
  {
   "cell_type": "markdown",
   "metadata": {},
   "source": [
    "### 스코프 규칙"
   ]
  },
  {
   "cell_type": "code",
   "execution_count": null,
   "metadata": {},
   "outputs": [],
   "source": [
    "# 스코프 테스트 1\n",
    "import scopetest1\n",
    "# scopetest1에 정의된 변수를 다음과 같이 사용하면 오류가 발생\n",
    "print(a, b)"
   ]
  },
  {
   "cell_type": "code",
   "execution_count": null,
   "metadata": {},
   "outputs": [],
   "source": [
    "# 스코프 테스트 2\n",
    "import scopetest1\n",
    "# 다음과 같이 모듈 이름을 보충 모듈에서 정의된\n",
    "# 변수를 참조하면 오류가 발생하지 않는다\n",
    "print(scopetest1.a, scopetest1.b)"
   ]
  },
  {
   "cell_type": "markdown",
   "metadata": {},
   "source": [
    "### 클래스, 인스턴스의 스코프"
   ]
  },
  {
   "cell_type": "code",
   "execution_count": null,
   "metadata": {},
   "outputs": [],
   "source": [
    "# 클래스와 인스턴스의 속성\n",
    "# 속성을 가진 간단한 클래스를 정의\n",
    "class Klass:\n",
    "    a = 100"
   ]
  },
  {
   "cell_type": "code",
   "execution_count": null,
   "metadata": {},
   "outputs": [],
   "source": [
    "i1 = Klass()      # 2가지 인스턴스를 만듦\n",
    "i2 = Klass()\n",
    "i1.a = 10         # 한 쪽 속성 a에 대입\n",
    "i1.a              # 클래스 속성이 가려짐"
   ]
  },
  {
   "cell_type": "code",
   "execution_count": null,
   "metadata": {},
   "outputs": [],
   "source": [
    "i2.a              # i2에서는 클래스 속성이 보임"
   ]
  },
  {
   "cell_type": "code",
   "execution_count": null,
   "metadata": {},
   "outputs": [],
   "source": [
    "Klass.a = 1000    # 클래스 속성에 직접 대입\n",
    "i2.a              # 속성 표시"
   ]
  },
  {
   "cell_type": "code",
   "execution_count": null,
   "metadata": {},
   "outputs": [],
   "source": []
  }
 ],
 "metadata": {
  "kernelspec": {
   "display_name": "Python 3",
   "language": "python",
   "name": "python3"
  },
  "language_info": {
   "codemirror_mode": {
    "name": "ipython",
    "version": 3
   },
   "file_extension": ".py",
   "mimetype": "text/x-python",
   "name": "python",
   "nbconvert_exporter": "python",
   "pygments_lexer": "ipython3",
   "version": "3.6.4"
  }
 },
 "nbformat": 4,
 "nbformat_minor": 1
}
